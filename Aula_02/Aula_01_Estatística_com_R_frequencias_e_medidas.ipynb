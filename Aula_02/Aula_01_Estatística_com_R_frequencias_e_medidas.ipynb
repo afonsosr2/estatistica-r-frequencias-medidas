{
 "cells": [
  {
   "cell_type": "markdown",
   "metadata": {
    "id": "1Ij6xDJE_ggJ"
   },
   "source": [
    "# <font size=6>**Estatística com R: resumindo e analisando dados**</font>"
   ]
  },
  {
   "cell_type": "markdown",
   "metadata": {
    "id": "hEI3qc1sABmA"
   },
   "source": [
    "Estamos prestando consultoria como **cientistas de dados** em uma grande rede de varejo que atende em todo Brasil.\n",
    "\n",
    "Aqui, precisaremos utilizar uma série de conceitos da estatística para investigar e auxiliar nos problemas e demandas que essa empresa está enfrentando, baseando suas decisões na análise dos dados recebidos.\n",
    "\n",
    "Neste projeto, vamos ter acesso a duas bases de dados passando por dois contextos distintos dentro da empresa:\n",
    "1. Análise do público e vendas, traçando o perfil da nossa clientela e gerando insights com esses dados respondendo a perguntas levantadas pelo setor de marketing e vendas\n",
    "2. Análise da remuneração dos colaboradores, passando pelos salários, desempenho atual e analisando criticamente a equidade salarial entre cargos e gênero, por exemplo. Isto, respondendo a perguntas do setor do RH e financeiro da empresa.\n",
    "\n",
    "**Base de dados**\n",
    "\n",
    "Vamos importar duas bases de dados:\n",
    "\n",
    "> Dados das vendas do e-commerce, separados pelo código identificador da compra.\n",
    "\n",
    "> Dados da remuneração dos colaboradores da empresa, separados pelo código identificador do(a) colaborador(a).\n",
    "\n",
    "Esses dados serão lidos a partir do repositório compartilhado pelo GitHub.\n",
    "\n",
    "**Desafio**\n",
    "\n",
    "Nosso desafio é aplicar os conceitos de **distribuições de frequência, medidas de tendência central, medidas separatizes e de dispersão e visualização de dados** para cada caso trazido por essa empresa para que possa agregar valor aos times e ajudar nos processos de decisão. Para isso, serão repassados alguns questionamentos ao longo do nosso projeto para que possamos contribuir na execução dessa demanda.\n",
    "\n",
    "Vamos utilizar a **linguagem R** para responder todos os questionamentos levantados."
   ]
  },
  {
   "cell_type": "markdown",
   "metadata": {
    "id": "zpsYZ_kkAVkp"
   },
   "source": [
    "# **1. Entendendo os dados**\n",
    "\n",
    "---\n",
    "\n"
   ]
  },
  {
   "cell_type": "markdown",
   "metadata": {
    "id": "0sTQjqX6ALOn"
   },
   "source": [
    "## **1.1  Importando os pacotes e lendo os dados**"
   ]
  },
  {
   "cell_type": "markdown",
   "metadata": {
    "id": "9BonA_ueNO95"
   },
   "source": [
    "Como vamos explorar os dados das bases, gerar visualizações e responder a perguntas, vamos trazer um conjunto de pacotes extremamente importante e bastante utilizado por pessoas cientistas e pesquisadoras que é o `tidyverse`"
   ]
  },
  {
   "cell_type": "code",
   "execution_count": 1,
   "metadata": {
    "colab": {
     "base_uri": "https://localhost:8080/"
    },
    "id": "4P3rE7Nv_eEs",
    "outputId": "ef3c921b-3a24-4915-e0f8-62ec91bca180",
    "vscode": {
     "languageId": "r"
    }
   },
   "outputs": [
    {
     "name": "stderr",
     "output_type": "stream",
     "text": [
      "── \u001b[1mAttaching core tidyverse packages\u001b[22m ──────────────────────── tidyverse 2.0.0 ──\n",
      "\u001b[32m✔\u001b[39m \u001b[34mdplyr    \u001b[39m 1.1.4     \u001b[32m✔\u001b[39m \u001b[34mreadr    \u001b[39m 2.1.5\n",
      "\u001b[32m✔\u001b[39m \u001b[34mforcats  \u001b[39m 1.0.0     \u001b[32m✔\u001b[39m \u001b[34mstringr  \u001b[39m 1.5.1\n",
      "\u001b[32m✔\u001b[39m \u001b[34mggplot2  \u001b[39m 3.5.1     \u001b[32m✔\u001b[39m \u001b[34mtibble   \u001b[39m 3.2.1\n",
      "\u001b[32m✔\u001b[39m \u001b[34mlubridate\u001b[39m 1.9.3     \u001b[32m✔\u001b[39m \u001b[34mtidyr    \u001b[39m 1.3.1\n",
      "\u001b[32m✔\u001b[39m \u001b[34mpurrr    \u001b[39m 1.0.2     \n",
      "── \u001b[1mConflicts\u001b[22m ────────────────────────────────────────── tidyverse_conflicts() ──\n",
      "\u001b[31m✖\u001b[39m \u001b[34mdplyr\u001b[39m::\u001b[32mfilter()\u001b[39m masks \u001b[34mstats\u001b[39m::filter()\n",
      "\u001b[31m✖\u001b[39m \u001b[34mdplyr\u001b[39m::\u001b[32mlag()\u001b[39m    masks \u001b[34mstats\u001b[39m::lag()\n",
      "\u001b[36mℹ\u001b[39m Use the conflicted package (\u001b[3m\u001b[34m<http://conflicted.r-lib.org/>\u001b[39m\u001b[23m) to force all conflicts to become errors\n"
     ]
    }
   ],
   "source": [
    "# Importando os pacotes do projeto\n",
    "library(tidyverse)\n",
    "library(glue)\n",
    "options(repr.matrix.max.rows = 10)"
   ]
  },
  {
   "cell_type": "markdown",
   "metadata": {
    "id": "ntiFBdzUZorF"
   },
   "source": [
    "Vamos ler a nossa primeira base de dados para as análises do perfil da nossa clientela de acordo com as compras que realizaram."
   ]
  },
  {
   "cell_type": "code",
   "execution_count": null,
   "metadata": {
    "colab": {
     "base_uri": "https://localhost:8080/"
    },
    "id": "InB3UiPQWaMJ",
    "outputId": "81daf128-14f4-4cbb-8000-d34d43573daf",
    "vscode": {
     "languageId": "r"
    }
   },
   "outputs": [
    {
     "name": "stdout",
     "output_type": "stream",
     "text": [
      "Rows: 200,000\n",
      "Columns: 10\n",
      "$ id_compra         \u001b[3m\u001b[90m<chr>\u001b[39m\u001b[23m \"9f86e969-221a-4b1a-9b48-9aba719b61cf\", \"659f9b07-be…\n",
      "$ sexo_biologico    \u001b[3m\u001b[90m<chr>\u001b[39m\u001b[23m \"Masculino\", \"Feminino\", \"Feminino\", \"Feminino\", \"Ma…\n",
      "$ idade_cliente     \u001b[3m\u001b[90m<int>\u001b[39m\u001b[23m 33, 33, 36, 21, 31, 29, 44, 19, 24, 36, 32, 24, 41, …\n",
      "$ regiao_cliente    \u001b[3m\u001b[90m<chr>\u001b[39m\u001b[23m \"Sul\", \"Nordeste\", \"Sudeste\", \"Sul\", \"Centro-Oeste\",…\n",
      "$ categoria_produto \u001b[3m\u001b[90m<chr>\u001b[39m\u001b[23m \"Ferramentas e Construção\", \"Alimentos e Bebidas\", \"…\n",
      "$ preco_unitario    \u001b[3m\u001b[90m<dbl>\u001b[39m\u001b[23m 96.80, 247.68, 627.46, 2025.07, 99.24, 131.20, 909.8…\n",
      "$ quantidade        \u001b[3m\u001b[90m<int>\u001b[39m\u001b[23m 2, 1, 2, 8, 5, 1, 2, 3, 3, 7, 1, 2, 2, 6, 1, 5, 7, 5…\n",
      "$ total_compra      \u001b[3m\u001b[90m<dbl>\u001b[39m\u001b[23m 193.60, 247.68, 1254.92, 16200.56, 496.20, 131.20, 1…\n",
      "$ tempo_entrega     \u001b[3m\u001b[90m<int>\u001b[39m\u001b[23m 18, 6, 8, 6, 13, 13, 14, 11, 10, 14, 5, 10, 16, 8, 6…\n",
      "$ avaliacao         \u001b[3m\u001b[90m<int>\u001b[39m\u001b[23m 1, 4, 5, 5, 5, 5, 5, 4, 3, 3, 4, 4, 4, 5, 2, 5, 5, 3…\n"
     ]
    }
   ],
   "source": [
    "dados <- read.csv(\"https://raw.githubusercontent.com/alura-cursos/estatistica-r-frequencias-medidas/refs/heads/main/dados/vendas_ecommerce.csv\")\n",
    "glimpse(dados)"
   ]
  },
  {
   "cell_type": "markdown",
   "metadata": {
    "id": "lt_BGgPKEQ0F"
   },
   "source": [
    "Conseguimos observar aqui os dados das vendas da empresa com algumas colunas interessantes.\n",
    "\n",
    "Podemos realizar talvez uma análise de vendas por região, por gênero, podemos explorar os tipos de produtos, o tempo de entrega e avaliação. Ou seja, bastante coisa!\n",
    "\n",
    "Para todas essas análises que podemos traçar, temos 2 pontos extremamente importantes:\n",
    "\n",
    "1. Qual o tipo de dado que tenho?\n",
    "2. O que desejo investigar com este dado?\n",
    "\n",
    "A estatística, é muito importante aqui, pois a depender do tipo do dado e como ele se comporta temos diferentes formas de analisá-lo para responder a necessidade do nosso cliente. Tudo isso focado no tripé da ciência de dados: **estatística**, **programação** e **conhecimento do negócio**\n",
    "\n",
    "Vamos aplicar as 3 aqui apontando o seu potencial na análise de dados e extração de insights utilizando a linguagem R.\n",
    "\n",
    "Vamos nessa?"
   ]
  },
  {
   "cell_type": "markdown",
   "metadata": {
    "id": "S7F1TSHrAe8P"
   },
   "source": [
    "## **1.2 Investigando os tipos dos dados**\n",
    "\n",
    "---\n",
    "\n"
   ]
  },
  {
   "cell_type": "markdown",
   "metadata": {
    "id": "iT_adbfKAfKm"
   },
   "source": [
    "Observando rapidamente os dados, podemos notar dados em formato de textos, números inteiros, números com casas decimais. A depender da análise que queremos fazer, cada um tem uma forma de ser trabalhado e adequado para a extração de informação dos dados"
   ]
  },
  {
   "cell_type": "code",
   "execution_count": 3,
   "metadata": {
    "colab": {
     "base_uri": "https://localhost:8080/",
     "height": 535
    },
    "id": "QfRjUlgMKQ0D",
    "outputId": "e0c5b811-07ba-4414-8c57-d7521f9fa4b1",
    "vscode": {
     "languageId": "r"
    }
   },
   "outputs": [
    {
     "data": {
      "text/html": [
       "<table class=\"dataframe\">\n",
       "<caption>A data.frame: 5 × 10</caption>\n",
       "<thead>\n",
       "\t<tr><th></th><th scope=col>id_compra</th><th scope=col>sexo_biologico</th><th scope=col>idade_cliente</th><th scope=col>regiao_cliente</th><th scope=col>categoria_produto</th><th scope=col>preco_unitario</th><th scope=col>quantidade</th><th scope=col>total_compra</th><th scope=col>tempo_entrega</th><th scope=col>avaliacao</th></tr>\n",
       "\t<tr><th></th><th scope=col>&lt;chr&gt;</th><th scope=col>&lt;chr&gt;</th><th scope=col>&lt;int&gt;</th><th scope=col>&lt;chr&gt;</th><th scope=col>&lt;chr&gt;</th><th scope=col>&lt;dbl&gt;</th><th scope=col>&lt;int&gt;</th><th scope=col>&lt;dbl&gt;</th><th scope=col>&lt;int&gt;</th><th scope=col>&lt;int&gt;</th></tr>\n",
       "</thead>\n",
       "<tbody>\n",
       "\t<tr><th scope=row>1</th><td>9f86e969-221a-4b1a-9b48-9aba719b61cf</td><td>Masculino</td><td>33</td><td>Sul         </td><td>Ferramentas e Construção</td><td>  96.80</td><td>2</td><td>  193.60</td><td>18</td><td>1</td></tr>\n",
       "\t<tr><th scope=row>2</th><td>659f9b07-be10-4849-b2ab-dd542498a1e8</td><td>Feminino </td><td>33</td><td>Nordeste    </td><td>Alimentos e Bebidas     </td><td> 247.68</td><td>1</td><td>  247.68</td><td> 6</td><td>4</td></tr>\n",
       "\t<tr><th scope=row>3</th><td>d317d7df-1126-42e5-bf4b-0e178bd4e14e</td><td>Feminino </td><td>36</td><td>Sudeste     </td><td>Eletrônicos             </td><td> 627.46</td><td>2</td><td> 1254.92</td><td> 8</td><td>5</td></tr>\n",
       "\t<tr><th scope=row>4</th><td>bb99bcf6-b333-493e-9ec2-c39f8695503c</td><td>Feminino </td><td>21</td><td>Sul         </td><td>Eletrônicos             </td><td>2025.07</td><td>8</td><td>16200.56</td><td> 6</td><td>5</td></tr>\n",
       "\t<tr><th scope=row>5</th><td>898e4624-84e9-4c41-b181-66d3b7ccfef7</td><td>Masculino</td><td>31</td><td>Centro-Oeste</td><td>Papelaria e Escritório  </td><td>  99.24</td><td>5</td><td>  496.20</td><td>13</td><td>5</td></tr>\n",
       "</tbody>\n",
       "</table>\n"
      ],
      "text/latex": [
       "A data.frame: 5 × 10\n",
       "\\begin{tabular}{r|llllllllll}\n",
       "  & id\\_compra & sexo\\_biologico & idade\\_cliente & regiao\\_cliente & categoria\\_produto & preco\\_unitario & quantidade & total\\_compra & tempo\\_entrega & avaliacao\\\\\n",
       "  & <chr> & <chr> & <int> & <chr> & <chr> & <dbl> & <int> & <dbl> & <int> & <int>\\\\\n",
       "\\hline\n",
       "\t1 & 9f86e969-221a-4b1a-9b48-9aba719b61cf & Masculino & 33 & Sul          & Ferramentas e Construção &   96.80 & 2 &   193.60 & 18 & 1\\\\\n",
       "\t2 & 659f9b07-be10-4849-b2ab-dd542498a1e8 & Feminino  & 33 & Nordeste     & Alimentos e Bebidas      &  247.68 & 1 &   247.68 &  6 & 4\\\\\n",
       "\t3 & d317d7df-1126-42e5-bf4b-0e178bd4e14e & Feminino  & 36 & Sudeste      & Eletrônicos              &  627.46 & 2 &  1254.92 &  8 & 5\\\\\n",
       "\t4 & bb99bcf6-b333-493e-9ec2-c39f8695503c & Feminino  & 21 & Sul          & Eletrônicos              & 2025.07 & 8 & 16200.56 &  6 & 5\\\\\n",
       "\t5 & 898e4624-84e9-4c41-b181-66d3b7ccfef7 & Masculino & 31 & Centro-Oeste & Papelaria e Escritório   &   99.24 & 5 &   496.20 & 13 & 5\\\\\n",
       "\\end{tabular}\n"
      ],
      "text/markdown": [
       "\n",
       "A data.frame: 5 × 10\n",
       "\n",
       "| <!--/--> | id_compra &lt;chr&gt; | sexo_biologico &lt;chr&gt; | idade_cliente &lt;int&gt; | regiao_cliente &lt;chr&gt; | categoria_produto &lt;chr&gt; | preco_unitario &lt;dbl&gt; | quantidade &lt;int&gt; | total_compra &lt;dbl&gt; | tempo_entrega &lt;int&gt; | avaliacao &lt;int&gt; |\n",
       "|---|---|---|---|---|---|---|---|---|---|---|\n",
       "| 1 | 9f86e969-221a-4b1a-9b48-9aba719b61cf | Masculino | 33 | Sul          | Ferramentas e Construção |   96.80 | 2 |   193.60 | 18 | 1 |\n",
       "| 2 | 659f9b07-be10-4849-b2ab-dd542498a1e8 | Feminino  | 33 | Nordeste     | Alimentos e Bebidas      |  247.68 | 1 |   247.68 |  6 | 4 |\n",
       "| 3 | d317d7df-1126-42e5-bf4b-0e178bd4e14e | Feminino  | 36 | Sudeste      | Eletrônicos              |  627.46 | 2 |  1254.92 |  8 | 5 |\n",
       "| 4 | bb99bcf6-b333-493e-9ec2-c39f8695503c | Feminino  | 21 | Sul          | Eletrônicos              | 2025.07 | 8 | 16200.56 |  6 | 5 |\n",
       "| 5 | 898e4624-84e9-4c41-b181-66d3b7ccfef7 | Masculino | 31 | Centro-Oeste | Papelaria e Escritório   |   99.24 | 5 |   496.20 | 13 | 5 |\n",
       "\n"
      ],
      "text/plain": [
       "  id_compra                            sexo_biologico idade_cliente\n",
       "1 9f86e969-221a-4b1a-9b48-9aba719b61cf Masculino      33           \n",
       "2 659f9b07-be10-4849-b2ab-dd542498a1e8 Feminino       33           \n",
       "3 d317d7df-1126-42e5-bf4b-0e178bd4e14e Feminino       36           \n",
       "4 bb99bcf6-b333-493e-9ec2-c39f8695503c Feminino       21           \n",
       "5 898e4624-84e9-4c41-b181-66d3b7ccfef7 Masculino      31           \n",
       "  regiao_cliente categoria_produto        preco_unitario quantidade\n",
       "1 Sul            Ferramentas e Construção   96.80        2         \n",
       "2 Nordeste       Alimentos e Bebidas       247.68        1         \n",
       "3 Sudeste        Eletrônicos               627.46        2         \n",
       "4 Sul            Eletrônicos              2025.07        8         \n",
       "5 Centro-Oeste   Papelaria e Escritório     99.24        5         \n",
       "  total_compra tempo_entrega avaliacao\n",
       "1   193.60     18            1        \n",
       "2   247.68      6            4        \n",
       "3  1254.92      8            5        \n",
       "4 16200.56      6            5        \n",
       "5   496.20     13            5        "
      ]
     },
     "metadata": {},
     "output_type": "display_data"
    }
   ],
   "source": [
    "head(dados, 5)"
   ]
  },
  {
   "cell_type": "markdown",
   "metadata": {
    "id": "sjnOxGpHLeJ7"
   },
   "source": [
    "Ou seja, temos aqui dados categóricos (qualitativos) e numéricos (quantitativos).\n",
    "\n"
   ]
  },
  {
   "cell_type": "markdown",
   "metadata": {
    "id": "Kxwl-zKyXwWJ"
   },
   "source": [
    "### Tipos de Variáveis:\n",
    "\n",
    "![texto do link](https://github.com/alura-cursos/estatistica-r-frequencias-medidas/blob/main/imagens/outros/tipos_variaveis.png?raw=true)\n",
    "\n",
    "- **Qualitativas (Categóricas):** São variáveis que representam características ou categorias. Geralmente, são usadas para classificar ou categorizar dados. Por exemplo: sexo biólogico e região\n",
    "  - **Nominais:** quando não possuem uma ordem natural. (Ex.: tipo de produto).  \n",
    "  - **Ordinais:** Possuem uma ordem ou hierarquia. (Ex.: Níveis de escolaridade).\n",
    "\n",
    "- **Quantitativas (Numéricas):** São variáveis que representam números e podem ser mensuradas. Estas variáveis têm significado matemático e podem ser usadas para cálculos. Por exemplo: idade e total de compra\n",
    "  - **Discretas:** Valores inteiros e contáveis (Ex.: quantidade de produtos).  \n",
    "  - **Contínuas:** Qualquer valor em um intervalo (Ex.: Altura de pessoas)."
   ]
  },
  {
   "cell_type": "markdown",
   "metadata": {
    "id": "ycGQ3a-AyHYj"
   },
   "source": [
    "Podemos então realizar uma análise simples aqui, investigando uma **variável qualitativa nominal** como, por exemplo, a quantidade de vendas por categoria:"
   ]
  },
  {
   "cell_type": "markdown",
   "metadata": {
    "id": "cL0QIVVYQNNU"
   },
   "source": [
    "> **Documentações:**\n",
    ">\n",
    "> - [**select**](https://dplyr.tidyverse.org/reference/select.html)\n",
    "> - [**distinct**](https://dplyr.tidyverse.org/reference/distinct.html)\n",
    "> - [**count**](https://dplyr.tidyverse.org/reference/count.html)\n",
    "> - [**geom_col + geom_bar**](https://ggplot2.tidyverse.org/reference/geom_bar.html)"
   ]
  },
  {
   "cell_type": "code",
   "execution_count": 4,
   "metadata": {
    "colab": {
     "base_uri": "https://localhost:8080/",
     "height": 443
    },
    "id": "iGEPPCXsysEQ",
    "outputId": "7727677f-a0a3-4c1c-90d9-5f8b0ffda52f",
    "vscode": {
     "languageId": "r"
    }
   },
   "outputs": [
    {
     "data": {
      "text/html": [
       "<table class=\"dataframe\">\n",
       "<caption>A data.frame: 200000 × 1</caption>\n",
       "<thead>\n",
       "\t<tr><th scope=col>categoria_produto</th></tr>\n",
       "\t<tr><th scope=col>&lt;chr&gt;</th></tr>\n",
       "</thead>\n",
       "<tbody>\n",
       "\t<tr><td>Ferramentas e Construção</td></tr>\n",
       "\t<tr><td>Alimentos e Bebidas     </td></tr>\n",
       "\t<tr><td>Eletrônicos             </td></tr>\n",
       "\t<tr><td>Eletrônicos             </td></tr>\n",
       "\t<tr><td>Papelaria e Escritório  </td></tr>\n",
       "\t<tr><td>⋮</td></tr>\n",
       "\t<tr><td>Eletrônicos                  </td></tr>\n",
       "\t<tr><td>Eletrônicos                  </td></tr>\n",
       "\t<tr><td>Roupas, Calçados e Acessórios</td></tr>\n",
       "\t<tr><td>Alimentos e Bebidas          </td></tr>\n",
       "\t<tr><td>Beleza e Cuidados Pessoais   </td></tr>\n",
       "</tbody>\n",
       "</table>\n"
      ],
      "text/latex": [
       "A data.frame: 200000 × 1\n",
       "\\begin{tabular}{l}\n",
       " categoria\\_produto\\\\\n",
       " <chr>\\\\\n",
       "\\hline\n",
       "\t Ferramentas e Construção\\\\\n",
       "\t Alimentos e Bebidas     \\\\\n",
       "\t Eletrônicos             \\\\\n",
       "\t Eletrônicos             \\\\\n",
       "\t Papelaria e Escritório  \\\\\n",
       "\t ⋮\\\\\n",
       "\t Eletrônicos                  \\\\\n",
       "\t Eletrônicos                  \\\\\n",
       "\t Roupas, Calçados e Acessórios\\\\\n",
       "\t Alimentos e Bebidas          \\\\\n",
       "\t Beleza e Cuidados Pessoais   \\\\\n",
       "\\end{tabular}\n"
      ],
      "text/markdown": [
       "\n",
       "A data.frame: 200000 × 1\n",
       "\n",
       "| categoria_produto &lt;chr&gt; |\n",
       "|---|\n",
       "| Ferramentas e Construção |\n",
       "| Alimentos e Bebidas      |\n",
       "| Eletrônicos              |\n",
       "| Eletrônicos              |\n",
       "| Papelaria e Escritório   |\n",
       "| ⋮ |\n",
       "| Eletrônicos                   |\n",
       "| Eletrônicos                   |\n",
       "| Roupas, Calçados e Acessórios |\n",
       "| Alimentos e Bebidas           |\n",
       "| Beleza e Cuidados Pessoais    |\n",
       "\n"
      ],
      "text/plain": [
       "       categoria_produto            \n",
       "1      Ferramentas e Construção     \n",
       "2      Alimentos e Bebidas          \n",
       "3      Eletrônicos                  \n",
       "4      Eletrônicos                  \n",
       "5      Papelaria e Escritório       \n",
       "⋮      ⋮                            \n",
       "199996 Eletrônicos                  \n",
       "199997 Eletrônicos                  \n",
       "199998 Roupas, Calçados e Acessórios\n",
       "199999 Alimentos e Bebidas          \n",
       "200000 Beleza e Cuidados Pessoais   "
      ]
     },
     "metadata": {},
     "output_type": "display_data"
    }
   ],
   "source": [
    "dados %>%\n",
    "  select(categoria_produto)"
   ]
  },
  {
   "cell_type": "code",
   "execution_count": 5,
   "metadata": {
    "colab": {
     "base_uri": "https://localhost:8080/",
     "height": 412
    },
    "id": "MDBv8hm5zhVj",
    "outputId": "877980ae-46f7-403f-cf6c-c9a4be4b7290",
    "vscode": {
     "languageId": "r"
    }
   },
   "outputs": [
    {
     "data": {
      "text/html": [
       "<table class=\"dataframe\">\n",
       "<caption>A data.frame: 10 × 1</caption>\n",
       "<thead>\n",
       "\t<tr><th scope=col>categoria_produto</th></tr>\n",
       "\t<tr><th scope=col>&lt;chr&gt;</th></tr>\n",
       "</thead>\n",
       "<tbody>\n",
       "\t<tr><td>Ferramentas e Construção     </td></tr>\n",
       "\t<tr><td>Alimentos e Bebidas          </td></tr>\n",
       "\t<tr><td>Eletrônicos                  </td></tr>\n",
       "\t<tr><td>Papelaria e Escritório       </td></tr>\n",
       "\t<tr><td>Beleza e Cuidados Pessoais   </td></tr>\n",
       "\t<tr><td>Casa e Mobílias              </td></tr>\n",
       "\t<tr><td>Roupas, Calçados e Acessórios</td></tr>\n",
       "\t<tr><td>Livros                       </td></tr>\n",
       "\t<tr><td>Brinquedos                   </td></tr>\n",
       "\t<tr><td>Esporte e Lazer              </td></tr>\n",
       "</tbody>\n",
       "</table>\n"
      ],
      "text/latex": [
       "A data.frame: 10 × 1\n",
       "\\begin{tabular}{l}\n",
       " categoria\\_produto\\\\\n",
       " <chr>\\\\\n",
       "\\hline\n",
       "\t Ferramentas e Construção     \\\\\n",
       "\t Alimentos e Bebidas          \\\\\n",
       "\t Eletrônicos                  \\\\\n",
       "\t Papelaria e Escritório       \\\\\n",
       "\t Beleza e Cuidados Pessoais   \\\\\n",
       "\t Casa e Mobílias              \\\\\n",
       "\t Roupas, Calçados e Acessórios\\\\\n",
       "\t Livros                       \\\\\n",
       "\t Brinquedos                   \\\\\n",
       "\t Esporte e Lazer              \\\\\n",
       "\\end{tabular}\n"
      ],
      "text/markdown": [
       "\n",
       "A data.frame: 10 × 1\n",
       "\n",
       "| categoria_produto &lt;chr&gt; |\n",
       "|---|\n",
       "| Ferramentas e Construção      |\n",
       "| Alimentos e Bebidas           |\n",
       "| Eletrônicos                   |\n",
       "| Papelaria e Escritório        |\n",
       "| Beleza e Cuidados Pessoais    |\n",
       "| Casa e Mobílias               |\n",
       "| Roupas, Calçados e Acessórios |\n",
       "| Livros                        |\n",
       "| Brinquedos                    |\n",
       "| Esporte e Lazer               |\n",
       "\n"
      ],
      "text/plain": [
       "   categoria_produto            \n",
       "1  Ferramentas e Construção     \n",
       "2  Alimentos e Bebidas          \n",
       "3  Eletrônicos                  \n",
       "4  Papelaria e Escritório       \n",
       "5  Beleza e Cuidados Pessoais   \n",
       "6  Casa e Mobílias              \n",
       "7  Roupas, Calçados e Acessórios\n",
       "8  Livros                       \n",
       "9  Brinquedos                   \n",
       "10 Esporte e Lazer              "
      ]
     },
     "metadata": {},
     "output_type": "display_data"
    }
   ],
   "source": [
    "dados %>%\n",
    "  distinct(categoria_produto)"
   ]
  },
  {
   "cell_type": "code",
   "execution_count": 6,
   "metadata": {
    "colab": {
     "base_uri": "https://localhost:8080/",
     "height": 412
    },
    "id": "tzntrXoL0HgB",
    "outputId": "92ddf87c-a313-4e2c-a7a4-50ad68a7414b",
    "vscode": {
     "languageId": "r"
    }
   },
   "outputs": [
    {
     "data": {
      "text/html": [
       "<table class=\"dataframe\">\n",
       "<caption>A data.frame: 10 × 2</caption>\n",
       "<thead>\n",
       "\t<tr><th scope=col>categoria_produto</th><th scope=col>n</th></tr>\n",
       "\t<tr><th scope=col>&lt;chr&gt;</th><th scope=col>&lt;int&gt;</th></tr>\n",
       "</thead>\n",
       "<tbody>\n",
       "\t<tr><td>Eletrônicos                  </td><td>36060</td></tr>\n",
       "\t<tr><td>Roupas, Calçados e Acessórios</td><td>27917</td></tr>\n",
       "\t<tr><td>Casa e Mobílias              </td><td>26015</td></tr>\n",
       "\t<tr><td>Beleza e Cuidados Pessoais   </td><td>22026</td></tr>\n",
       "\t<tr><td>Esporte e Lazer              </td><td>19939</td></tr>\n",
       "\t<tr><td>Alimentos e Bebidas          </td><td>18022</td></tr>\n",
       "\t<tr><td>Papelaria e Escritório       </td><td>13936</td></tr>\n",
       "\t<tr><td>Livros                       </td><td>13790</td></tr>\n",
       "\t<tr><td>Ferramentas e Construção     </td><td>12063</td></tr>\n",
       "\t<tr><td>Brinquedos                   </td><td>10232</td></tr>\n",
       "</tbody>\n",
       "</table>\n"
      ],
      "text/latex": [
       "A data.frame: 10 × 2\n",
       "\\begin{tabular}{ll}\n",
       " categoria\\_produto & n\\\\\n",
       " <chr> & <int>\\\\\n",
       "\\hline\n",
       "\t Eletrônicos                   & 36060\\\\\n",
       "\t Roupas, Calçados e Acessórios & 27917\\\\\n",
       "\t Casa e Mobílias               & 26015\\\\\n",
       "\t Beleza e Cuidados Pessoais    & 22026\\\\\n",
       "\t Esporte e Lazer               & 19939\\\\\n",
       "\t Alimentos e Bebidas           & 18022\\\\\n",
       "\t Papelaria e Escritório        & 13936\\\\\n",
       "\t Livros                        & 13790\\\\\n",
       "\t Ferramentas e Construção      & 12063\\\\\n",
       "\t Brinquedos                    & 10232\\\\\n",
       "\\end{tabular}\n"
      ],
      "text/markdown": [
       "\n",
       "A data.frame: 10 × 2\n",
       "\n",
       "| categoria_produto &lt;chr&gt; | n &lt;int&gt; |\n",
       "|---|---|\n",
       "| Eletrônicos                   | 36060 |\n",
       "| Roupas, Calçados e Acessórios | 27917 |\n",
       "| Casa e Mobílias               | 26015 |\n",
       "| Beleza e Cuidados Pessoais    | 22026 |\n",
       "| Esporte e Lazer               | 19939 |\n",
       "| Alimentos e Bebidas           | 18022 |\n",
       "| Papelaria e Escritório        | 13936 |\n",
       "| Livros                        | 13790 |\n",
       "| Ferramentas e Construção      | 12063 |\n",
       "| Brinquedos                    | 10232 |\n",
       "\n"
      ],
      "text/plain": [
       "   categoria_produto             n    \n",
       "1  Eletrônicos                   36060\n",
       "2  Roupas, Calçados e Acessórios 27917\n",
       "3  Casa e Mobílias               26015\n",
       "4  Beleza e Cuidados Pessoais    22026\n",
       "5  Esporte e Lazer               19939\n",
       "6  Alimentos e Bebidas           18022\n",
       "7  Papelaria e Escritório        13936\n",
       "8  Livros                        13790\n",
       "9  Ferramentas e Construção      12063\n",
       "10 Brinquedos                    10232"
      ]
     },
     "metadata": {},
     "output_type": "display_data"
    }
   ],
   "source": [
    "produtos <- dados %>%\n",
    "  count(categoria_produto, sort=T)\n",
    "\n",
    "produtos"
   ]
  },
  {
   "cell_type": "markdown",
   "metadata": {
    "id": "nS8FqIMlckm2"
   },
   "source": [
    "Visualizando de maneira breve graficamente:"
   ]
  },
  {
   "cell_type": "code",
   "execution_count": 7,
   "metadata": {
    "colab": {
     "base_uri": "https://localhost:8080/",
     "height": 437
    },
    "id": "h6wQM6XuWzoO",
    "outputId": "eef3ee14-59fe-4802-ac62-edbcf0f5f0c0",
    "vscode": {
     "languageId": "r"
    }
   },
   "outputs": [
    {
     "data": {
      "image/png": "[encoded data removed]",
      "text/plain": [
       "plot without title"
      ]
     },
     "metadata": {
      "image/png": {
       "height": 420,
       "width": 420
      }
     },
     "output_type": "display_data"
    }
   ],
   "source": [
    "ggplot(produtos) +\n",
    "  geom_col(aes(x = n, y = reorder(categoria_produto, n)))"
   ]
  },
  {
   "cell_type": "markdown",
   "metadata": {
    "id": "J0G5MgJCC4Gi"
   },
   "source": [
    "Olha só! Apenas analisando uma única coluna já podemos extrair uma informação bem relevante sobre os registros de venda por categoria.\n",
    "\n",
    "Vamos na sequência analisar e aprender como utilizar uma **variável qualitativa ordinal** deixando-a preparada em nossa base."
   ]
  },
  {
   "cell_type": "markdown",
   "metadata": {
    "id": "Goi8rMhtC_BN"
   },
   "source": [
    "## **1.3 Manipulando dados qualitativos ordinais**\n",
    "\n",
    "---\n",
    "\n"
   ]
  },
  {
   "cell_type": "markdown",
   "metadata": {
    "id": "oUXyrbS6X7q3"
   },
   "source": [
    "A gente já observou anteriormente os diferentes tipos de variáveis e começamos a entender como analisar os dados categóricos de uma base.\n",
    "\n",
    "Uma variável bem interessante em nossa base é a `avaliacao` do produto. Mesmo com dados numéricos, pode ser interpretada como uma variável qualitativa, pois as notas representam uma ordem relacionada a satisfação do cliente. Partindo do Péssimo (nota 1) ao Ótimo (nota 5)."
   ]
  },
  {
   "cell_type": "code",
   "execution_count": 8,
   "metadata": {
    "colab": {
     "base_uri": "https://localhost:8080/",
     "height": 535
    },
    "id": "MNwaXfEJGDBr",
    "outputId": "be270e2a-2bbf-491d-e1a7-c1ed37fce867",
    "vscode": {
     "languageId": "r"
    }
   },
   "outputs": [
    {
     "data": {
      "text/html": [
       "<table class=\"dataframe\">\n",
       "<caption>A data.frame: 5 × 10</caption>\n",
       "<thead>\n",
       "\t<tr><th></th><th scope=col>id_compra</th><th scope=col>sexo_biologico</th><th scope=col>idade_cliente</th><th scope=col>regiao_cliente</th><th scope=col>categoria_produto</th><th scope=col>preco_unitario</th><th scope=col>quantidade</th><th scope=col>total_compra</th><th scope=col>tempo_entrega</th><th scope=col>avaliacao</th></tr>\n",
       "\t<tr><th></th><th scope=col>&lt;chr&gt;</th><th scope=col>&lt;chr&gt;</th><th scope=col>&lt;int&gt;</th><th scope=col>&lt;chr&gt;</th><th scope=col>&lt;chr&gt;</th><th scope=col>&lt;dbl&gt;</th><th scope=col>&lt;int&gt;</th><th scope=col>&lt;dbl&gt;</th><th scope=col>&lt;int&gt;</th><th scope=col>&lt;int&gt;</th></tr>\n",
       "</thead>\n",
       "<tbody>\n",
       "\t<tr><th scope=row>1</th><td>9f86e969-221a-4b1a-9b48-9aba719b61cf</td><td>Masculino</td><td>33</td><td>Sul         </td><td>Ferramentas e Construção</td><td>  96.80</td><td>2</td><td>  193.60</td><td>18</td><td>1</td></tr>\n",
       "\t<tr><th scope=row>2</th><td>659f9b07-be10-4849-b2ab-dd542498a1e8</td><td>Feminino </td><td>33</td><td>Nordeste    </td><td>Alimentos e Bebidas     </td><td> 247.68</td><td>1</td><td>  247.68</td><td> 6</td><td>4</td></tr>\n",
       "\t<tr><th scope=row>3</th><td>d317d7df-1126-42e5-bf4b-0e178bd4e14e</td><td>Feminino </td><td>36</td><td>Sudeste     </td><td>Eletrônicos             </td><td> 627.46</td><td>2</td><td> 1254.92</td><td> 8</td><td>5</td></tr>\n",
       "\t<tr><th scope=row>4</th><td>bb99bcf6-b333-493e-9ec2-c39f8695503c</td><td>Feminino </td><td>21</td><td>Sul         </td><td>Eletrônicos             </td><td>2025.07</td><td>8</td><td>16200.56</td><td> 6</td><td>5</td></tr>\n",
       "\t<tr><th scope=row>5</th><td>898e4624-84e9-4c41-b181-66d3b7ccfef7</td><td>Masculino</td><td>31</td><td>Centro-Oeste</td><td>Papelaria e Escritório  </td><td>  99.24</td><td>5</td><td>  496.20</td><td>13</td><td>5</td></tr>\n",
       "</tbody>\n",
       "</table>\n"
      ],
      "text/latex": [
       "A data.frame: 5 × 10\n",
       "\\begin{tabular}{r|llllllllll}\n",
       "  & id\\_compra & sexo\\_biologico & idade\\_cliente & regiao\\_cliente & categoria\\_produto & preco\\_unitario & quantidade & total\\_compra & tempo\\_entrega & avaliacao\\\\\n",
       "  & <chr> & <chr> & <int> & <chr> & <chr> & <dbl> & <int> & <dbl> & <int> & <int>\\\\\n",
       "\\hline\n",
       "\t1 & 9f86e969-221a-4b1a-9b48-9aba719b61cf & Masculino & 33 & Sul          & Ferramentas e Construção &   96.80 & 2 &   193.60 & 18 & 1\\\\\n",
       "\t2 & 659f9b07-be10-4849-b2ab-dd542498a1e8 & Feminino  & 33 & Nordeste     & Alimentos e Bebidas      &  247.68 & 1 &   247.68 &  6 & 4\\\\\n",
       "\t3 & d317d7df-1126-42e5-bf4b-0e178bd4e14e & Feminino  & 36 & Sudeste      & Eletrônicos              &  627.46 & 2 &  1254.92 &  8 & 5\\\\\n",
       "\t4 & bb99bcf6-b333-493e-9ec2-c39f8695503c & Feminino  & 21 & Sul          & Eletrônicos              & 2025.07 & 8 & 16200.56 &  6 & 5\\\\\n",
       "\t5 & 898e4624-84e9-4c41-b181-66d3b7ccfef7 & Masculino & 31 & Centro-Oeste & Papelaria e Escritório   &   99.24 & 5 &   496.20 & 13 & 5\\\\\n",
       "\\end{tabular}\n"
      ],
      "text/markdown": [
       "\n",
       "A data.frame: 5 × 10\n",
       "\n",
       "| <!--/--> | id_compra &lt;chr&gt; | sexo_biologico &lt;chr&gt; | idade_cliente &lt;int&gt; | regiao_cliente &lt;chr&gt; | categoria_produto &lt;chr&gt; | preco_unitario &lt;dbl&gt; | quantidade &lt;int&gt; | total_compra &lt;dbl&gt; | tempo_entrega &lt;int&gt; | avaliacao &lt;int&gt; |\n",
       "|---|---|---|---|---|---|---|---|---|---|---|\n",
       "| 1 | 9f86e969-221a-4b1a-9b48-9aba719b61cf | Masculino | 33 | Sul          | Ferramentas e Construção |   96.80 | 2 |   193.60 | 18 | 1 |\n",
       "| 2 | 659f9b07-be10-4849-b2ab-dd542498a1e8 | Feminino  | 33 | Nordeste     | Alimentos e Bebidas      |  247.68 | 1 |   247.68 |  6 | 4 |\n",
       "| 3 | d317d7df-1126-42e5-bf4b-0e178bd4e14e | Feminino  | 36 | Sudeste      | Eletrônicos              |  627.46 | 2 |  1254.92 |  8 | 5 |\n",
       "| 4 | bb99bcf6-b333-493e-9ec2-c39f8695503c | Feminino  | 21 | Sul          | Eletrônicos              | 2025.07 | 8 | 16200.56 |  6 | 5 |\n",
       "| 5 | 898e4624-84e9-4c41-b181-66d3b7ccfef7 | Masculino | 31 | Centro-Oeste | Papelaria e Escritório   |   99.24 | 5 |   496.20 | 13 | 5 |\n",
       "\n"
      ],
      "text/plain": [
       "  id_compra                            sexo_biologico idade_cliente\n",
       "1 9f86e969-221a-4b1a-9b48-9aba719b61cf Masculino      33           \n",
       "2 659f9b07-be10-4849-b2ab-dd542498a1e8 Feminino       33           \n",
       "3 d317d7df-1126-42e5-bf4b-0e178bd4e14e Feminino       36           \n",
       "4 bb99bcf6-b333-493e-9ec2-c39f8695503c Feminino       21           \n",
       "5 898e4624-84e9-4c41-b181-66d3b7ccfef7 Masculino      31           \n",
       "  regiao_cliente categoria_produto        preco_unitario quantidade\n",
       "1 Sul            Ferramentas e Construção   96.80        2         \n",
       "2 Nordeste       Alimentos e Bebidas       247.68        1         \n",
       "3 Sudeste        Eletrônicos               627.46        2         \n",
       "4 Sul            Eletrônicos              2025.07        8         \n",
       "5 Centro-Oeste   Papelaria e Escritório     99.24        5         \n",
       "  total_compra tempo_entrega avaliacao\n",
       "1   193.60     18            1        \n",
       "2   247.68      6            4        \n",
       "3  1254.92      8            5        \n",
       "4 16200.56      6            5        \n",
       "5   496.20     13            5        "
      ]
     },
     "metadata": {},
     "output_type": "display_data"
    }
   ],
   "source": [
    "head(dados, 5)"
   ]
  },
  {
   "cell_type": "markdown",
   "metadata": {
    "id": "QtzE5lGGRf03"
   },
   "source": [
    "> **Documentações:**\n",
    ">\n",
    "> - [**mutate**](https://dplyr.tidyverse.org/reference/mutate.html)\n",
    "> - [**factor**](https://www.rdocumentation.org/packages/base/versions/3.6.2/topics/factor)"
   ]
  },
  {
   "cell_type": "code",
   "execution_count": 9,
   "metadata": {
    "colab": {
     "base_uri": "https://localhost:8080/",
     "height": 272
    },
    "id": "pIcQA3mhGjIS",
    "outputId": "10b98fb9-f565-466a-b7d1-0a47f2e13068",
    "vscode": {
     "languageId": "r"
    }
   },
   "outputs": [
    {
     "data": {
      "text/html": [
       "<table class=\"dataframe\">\n",
       "<caption>A data.frame: 5 × 1</caption>\n",
       "<thead>\n",
       "\t<tr><th scope=col>avaliacao</th></tr>\n",
       "\t<tr><th scope=col>&lt;int&gt;</th></tr>\n",
       "</thead>\n",
       "<tbody>\n",
       "\t<tr><td>1</td></tr>\n",
       "\t<tr><td>4</td></tr>\n",
       "\t<tr><td>5</td></tr>\n",
       "\t<tr><td>3</td></tr>\n",
       "\t<tr><td>2</td></tr>\n",
       "</tbody>\n",
       "</table>\n"
      ],
      "text/latex": [
       "A data.frame: 5 × 1\n",
       "\\begin{tabular}{l}\n",
       " avaliacao\\\\\n",
       " <int>\\\\\n",
       "\\hline\n",
       "\t 1\\\\\n",
       "\t 4\\\\\n",
       "\t 5\\\\\n",
       "\t 3\\\\\n",
       "\t 2\\\\\n",
       "\\end{tabular}\n"
      ],
      "text/markdown": [
       "\n",
       "A data.frame: 5 × 1\n",
       "\n",
       "| avaliacao &lt;int&gt; |\n",
       "|---|\n",
       "| 1 |\n",
       "| 4 |\n",
       "| 5 |\n",
       "| 3 |\n",
       "| 2 |\n",
       "\n"
      ],
      "text/plain": [
       "  avaliacao\n",
       "1 1        \n",
       "2 4        \n",
       "3 5        \n",
       "4 3        \n",
       "5 2        "
      ]
     },
     "metadata": {},
     "output_type": "display_data"
    }
   ],
   "source": [
    "dados %>%\n",
    "  distinct(avaliacao)"
   ]
  },
  {
   "cell_type": "code",
   "execution_count": 10,
   "metadata": {
    "id": "OYIn9L2VHb5V",
    "vscode": {
     "languageId": "r"
    }
   },
   "outputs": [],
   "source": [
    "dados <- dados %>%\n",
    "  mutate(avaliacao_indicador = factor(avaliacao,\n",
    "                                      levels = c(1, 2, 3, 4, 5),\n",
    "                                      labels = c(\"Péssimo\", \"Ruim\", \"Regular\", \"Bom\", \"Ótimo\")))"
   ]
  },
  {
   "cell_type": "code",
   "execution_count": 11,
   "metadata": {
    "colab": {
     "base_uri": "https://localhost:8080/",
     "height": 255
    },
    "id": "laM5d6vpI7mS",
    "outputId": "07cc5457-b27e-4d81-d17b-bc5da401895e",
    "vscode": {
     "languageId": "r"
    }
   },
   "outputs": [
    {
     "data": {
      "text/html": [
       "<table class=\"dataframe\">\n",
       "<caption>A data.frame: 5 × 2</caption>\n",
       "<thead>\n",
       "\t<tr><th scope=col>avaliacao</th><th scope=col>avaliacao_indicador</th></tr>\n",
       "\t<tr><th scope=col>&lt;int&gt;</th><th scope=col>&lt;fct&gt;</th></tr>\n",
       "</thead>\n",
       "<tbody>\n",
       "\t<tr><td>1</td><td>Péssimo</td></tr>\n",
       "\t<tr><td>2</td><td>Ruim   </td></tr>\n",
       "\t<tr><td>3</td><td>Regular</td></tr>\n",
       "\t<tr><td>4</td><td>Bom    </td></tr>\n",
       "\t<tr><td>5</td><td>Ótimo  </td></tr>\n",
       "</tbody>\n",
       "</table>\n"
      ],
      "text/latex": [
       "A data.frame: 5 × 2\n",
       "\\begin{tabular}{ll}\n",
       " avaliacao & avaliacao\\_indicador\\\\\n",
       " <int> & <fct>\\\\\n",
       "\\hline\n",
       "\t 1 & Péssimo\\\\\n",
       "\t 2 & Ruim   \\\\\n",
       "\t 3 & Regular\\\\\n",
       "\t 4 & Bom    \\\\\n",
       "\t 5 & Ótimo  \\\\\n",
       "\\end{tabular}\n"
      ],
      "text/markdown": [
       "\n",
       "A data.frame: 5 × 2\n",
       "\n",
       "| avaliacao &lt;int&gt; | avaliacao_indicador &lt;fct&gt; |\n",
       "|---|---|\n",
       "| 1 | Péssimo |\n",
       "| 2 | Ruim    |\n",
       "| 3 | Regular |\n",
       "| 4 | Bom     |\n",
       "| 5 | Ótimo   |\n",
       "\n"
      ],
      "text/plain": [
       "  avaliacao avaliacao_indicador\n",
       "1 1         Péssimo            \n",
       "2 2         Ruim               \n",
       "3 3         Regular            \n",
       "4 4         Bom                \n",
       "5 5         Ótimo              "
      ]
     },
     "metadata": {},
     "output_type": "display_data"
    }
   ],
   "source": [
    "dados %>%\n",
    " distinct(avaliacao, avaliacao_indicador) %>%\n",
    " arrange(avaliacao_indicador)"
   ]
  },
  {
   "cell_type": "markdown",
   "metadata": {
    "id": "ZV6UAzpjJlcp"
   },
   "source": [
    "Passando por alguns exemplos de variáveis qualitativas em nosso dado. Mas que tal analisarmos também os diferentes dados numéricos?"
   ]
  },
  {
   "cell_type": "markdown",
   "metadata": {
    "id": "TeMOj9YxJ9tJ"
   },
   "source": [
    "## **1.4 Diferenciando dados discretos de contínuos**\n",
    "\n",
    "---\n",
    "\n"
   ]
  },
  {
   "cell_type": "markdown",
   "metadata": {
    "id": "2YHUzNqqLAgY"
   },
   "source": [
    "Temos alguns dados numéricos em nossa base de dados. Mas cada variável  tem a sua forma de ser analisada. Alguma delas até com possibilidades de serem encaixadas em 2 ou mais subdivisões."
   ]
  },
  {
   "cell_type": "code",
   "execution_count": 12,
   "metadata": {
    "colab": {
     "base_uri": "https://localhost:8080/",
     "height": 535
    },
    "id": "AhACRei2K2ew",
    "outputId": "c7b60099-cf88-44d8-d3ac-bb31182689c7",
    "vscode": {
     "languageId": "r"
    }
   },
   "outputs": [
    {
     "data": {
      "text/html": [
       "<table class=\"dataframe\">\n",
       "<caption>A data.frame: 5 × 11</caption>\n",
       "<thead>\n",
       "\t<tr><th></th><th scope=col>id_compra</th><th scope=col>sexo_biologico</th><th scope=col>idade_cliente</th><th scope=col>regiao_cliente</th><th scope=col>categoria_produto</th><th scope=col>preco_unitario</th><th scope=col>quantidade</th><th scope=col>total_compra</th><th scope=col>tempo_entrega</th><th scope=col>avaliacao</th><th scope=col>avaliacao_indicador</th></tr>\n",
       "\t<tr><th></th><th scope=col>&lt;chr&gt;</th><th scope=col>&lt;chr&gt;</th><th scope=col>&lt;int&gt;</th><th scope=col>&lt;chr&gt;</th><th scope=col>&lt;chr&gt;</th><th scope=col>&lt;dbl&gt;</th><th scope=col>&lt;int&gt;</th><th scope=col>&lt;dbl&gt;</th><th scope=col>&lt;int&gt;</th><th scope=col>&lt;int&gt;</th><th scope=col>&lt;fct&gt;</th></tr>\n",
       "</thead>\n",
       "<tbody>\n",
       "\t<tr><th scope=row>1</th><td>9f86e969-221a-4b1a-9b48-9aba719b61cf</td><td>Masculino</td><td>33</td><td>Sul         </td><td>Ferramentas e Construção</td><td>  96.80</td><td>2</td><td>  193.60</td><td>18</td><td>1</td><td>Péssimo</td></tr>\n",
       "\t<tr><th scope=row>2</th><td>659f9b07-be10-4849-b2ab-dd542498a1e8</td><td>Feminino </td><td>33</td><td>Nordeste    </td><td>Alimentos e Bebidas     </td><td> 247.68</td><td>1</td><td>  247.68</td><td> 6</td><td>4</td><td>Bom    </td></tr>\n",
       "\t<tr><th scope=row>3</th><td>d317d7df-1126-42e5-bf4b-0e178bd4e14e</td><td>Feminino </td><td>36</td><td>Sudeste     </td><td>Eletrônicos             </td><td> 627.46</td><td>2</td><td> 1254.92</td><td> 8</td><td>5</td><td>Ótimo  </td></tr>\n",
       "\t<tr><th scope=row>4</th><td>bb99bcf6-b333-493e-9ec2-c39f8695503c</td><td>Feminino </td><td>21</td><td>Sul         </td><td>Eletrônicos             </td><td>2025.07</td><td>8</td><td>16200.56</td><td> 6</td><td>5</td><td>Ótimo  </td></tr>\n",
       "\t<tr><th scope=row>5</th><td>898e4624-84e9-4c41-b181-66d3b7ccfef7</td><td>Masculino</td><td>31</td><td>Centro-Oeste</td><td>Papelaria e Escritório  </td><td>  99.24</td><td>5</td><td>  496.20</td><td>13</td><td>5</td><td>Ótimo  </td></tr>\n",
       "</tbody>\n",
       "</table>\n"
      ],
      "text/latex": [
       "A data.frame: 5 × 11\n",
       "\\begin{tabular}{r|lllllllllll}\n",
       "  & id\\_compra & sexo\\_biologico & idade\\_cliente & regiao\\_cliente & categoria\\_produto & preco\\_unitario & quantidade & total\\_compra & tempo\\_entrega & avaliacao & avaliacao\\_indicador\\\\\n",
       "  & <chr> & <chr> & <int> & <chr> & <chr> & <dbl> & <int> & <dbl> & <int> & <int> & <fct>\\\\\n",
       "\\hline\n",
       "\t1 & 9f86e969-221a-4b1a-9b48-9aba719b61cf & Masculino & 33 & Sul          & Ferramentas e Construção &   96.80 & 2 &   193.60 & 18 & 1 & Péssimo\\\\\n",
       "\t2 & 659f9b07-be10-4849-b2ab-dd542498a1e8 & Feminino  & 33 & Nordeste     & Alimentos e Bebidas      &  247.68 & 1 &   247.68 &  6 & 4 & Bom    \\\\\n",
       "\t3 & d317d7df-1126-42e5-bf4b-0e178bd4e14e & Feminino  & 36 & Sudeste      & Eletrônicos              &  627.46 & 2 &  1254.92 &  8 & 5 & Ótimo  \\\\\n",
       "\t4 & bb99bcf6-b333-493e-9ec2-c39f8695503c & Feminino  & 21 & Sul          & Eletrônicos              & 2025.07 & 8 & 16200.56 &  6 & 5 & Ótimo  \\\\\n",
       "\t5 & 898e4624-84e9-4c41-b181-66d3b7ccfef7 & Masculino & 31 & Centro-Oeste & Papelaria e Escritório   &   99.24 & 5 &   496.20 & 13 & 5 & Ótimo  \\\\\n",
       "\\end{tabular}\n"
      ],
      "text/markdown": [
       "\n",
       "A data.frame: 5 × 11\n",
       "\n",
       "| <!--/--> | id_compra &lt;chr&gt; | sexo_biologico &lt;chr&gt; | idade_cliente &lt;int&gt; | regiao_cliente &lt;chr&gt; | categoria_produto &lt;chr&gt; | preco_unitario &lt;dbl&gt; | quantidade &lt;int&gt; | total_compra &lt;dbl&gt; | tempo_entrega &lt;int&gt; | avaliacao &lt;int&gt; | avaliacao_indicador &lt;fct&gt; |\n",
       "|---|---|---|---|---|---|---|---|---|---|---|---|\n",
       "| 1 | 9f86e969-221a-4b1a-9b48-9aba719b61cf | Masculino | 33 | Sul          | Ferramentas e Construção |   96.80 | 2 |   193.60 | 18 | 1 | Péssimo |\n",
       "| 2 | 659f9b07-be10-4849-b2ab-dd542498a1e8 | Feminino  | 33 | Nordeste     | Alimentos e Bebidas      |  247.68 | 1 |   247.68 |  6 | 4 | Bom     |\n",
       "| 3 | d317d7df-1126-42e5-bf4b-0e178bd4e14e | Feminino  | 36 | Sudeste      | Eletrônicos              |  627.46 | 2 |  1254.92 |  8 | 5 | Ótimo   |\n",
       "| 4 | bb99bcf6-b333-493e-9ec2-c39f8695503c | Feminino  | 21 | Sul          | Eletrônicos              | 2025.07 | 8 | 16200.56 |  6 | 5 | Ótimo   |\n",
       "| 5 | 898e4624-84e9-4c41-b181-66d3b7ccfef7 | Masculino | 31 | Centro-Oeste | Papelaria e Escritório   |   99.24 | 5 |   496.20 | 13 | 5 | Ótimo   |\n",
       "\n"
      ],
      "text/plain": [
       "  id_compra                            sexo_biologico idade_cliente\n",
       "1 9f86e969-221a-4b1a-9b48-9aba719b61cf Masculino      33           \n",
       "2 659f9b07-be10-4849-b2ab-dd542498a1e8 Feminino       33           \n",
       "3 d317d7df-1126-42e5-bf4b-0e178bd4e14e Feminino       36           \n",
       "4 bb99bcf6-b333-493e-9ec2-c39f8695503c Feminino       21           \n",
       "5 898e4624-84e9-4c41-b181-66d3b7ccfef7 Masculino      31           \n",
       "  regiao_cliente categoria_produto        preco_unitario quantidade\n",
       "1 Sul            Ferramentas e Construção   96.80        2         \n",
       "2 Nordeste       Alimentos e Bebidas       247.68        1         \n",
       "3 Sudeste        Eletrônicos               627.46        2         \n",
       "4 Sul            Eletrônicos              2025.07        8         \n",
       "5 Centro-Oeste   Papelaria e Escritório     99.24        5         \n",
       "  total_compra tempo_entrega avaliacao avaliacao_indicador\n",
       "1   193.60     18            1         Péssimo            \n",
       "2   247.68      6            4         Bom                \n",
       "3  1254.92      8            5         Ótimo              \n",
       "4 16200.56      6            5         Ótimo              \n",
       "5   496.20     13            5         Ótimo              "
      ]
     },
     "metadata": {},
     "output_type": "display_data"
    }
   ],
   "source": [
    "head(dados, 5)"
   ]
  },
  {
   "cell_type": "markdown",
   "metadata": {
    "id": "J5oCh6BXR2ab"
   },
   "source": [
    "> **Documentações:**\n",
    ">\n",
    "> - [**unique**](https://www.rdocumentation.org/packages/base/versions/3.6.2/topics/unique)\n",
    "> - [**min e max**](https://www.rdocumentation.org/packages/base/versions/3.6.1/topics/Extremes)\n",
    "> - [**glue**](https://cran.r-project.org/web/packages/glue/glue.pdf)\n",
    "> - [**sprintf**](https://www.rdocumentation.org/packages/base/versions/3.6.2/topics/sprintf)\n",
    "> - [**arrange**](https://dplyr.tidyverse.org/reference/arrange.html)"
   ]
  },
  {
   "cell_type": "code",
   "execution_count": 13,
   "metadata": {
    "colab": {
     "base_uri": "https://localhost:8080/",
     "height": 429
    },
    "id": "kKBoDJQHMOfI",
    "outputId": "2cb01cab-3599-448b-cfd2-0168dfaeb563",
    "vscode": {
     "languageId": "r"
    }
   },
   "outputs": [
    {
     "data": {
      "text/html": [
       "<table class=\"dataframe\">\n",
       "<caption>A data.frame: 10 × 1</caption>\n",
       "<thead>\n",
       "\t<tr><th scope=col>quantidade</th></tr>\n",
       "\t<tr><th scope=col>&lt;int&gt;</th></tr>\n",
       "</thead>\n",
       "<tbody>\n",
       "\t<tr><td> 2</td></tr>\n",
       "\t<tr><td> 1</td></tr>\n",
       "\t<tr><td> 8</td></tr>\n",
       "\t<tr><td> 5</td></tr>\n",
       "\t<tr><td> 3</td></tr>\n",
       "\t<tr><td> 7</td></tr>\n",
       "\t<tr><td> 6</td></tr>\n",
       "\t<tr><td> 4</td></tr>\n",
       "\t<tr><td>10</td></tr>\n",
       "\t<tr><td> 9</td></tr>\n",
       "</tbody>\n",
       "</table>\n"
      ],
      "text/latex": [
       "A data.frame: 10 × 1\n",
       "\\begin{tabular}{l}\n",
       " quantidade\\\\\n",
       " <int>\\\\\n",
       "\\hline\n",
       "\t  2\\\\\n",
       "\t  1\\\\\n",
       "\t  8\\\\\n",
       "\t  5\\\\\n",
       "\t  3\\\\\n",
       "\t  7\\\\\n",
       "\t  6\\\\\n",
       "\t  4\\\\\n",
       "\t 10\\\\\n",
       "\t  9\\\\\n",
       "\\end{tabular}\n"
      ],
      "text/markdown": [
       "\n",
       "A data.frame: 10 × 1\n",
       "\n",
       "| quantidade &lt;int&gt; |\n",
       "|---|\n",
       "|  2 |\n",
       "|  1 |\n",
       "|  8 |\n",
       "|  5 |\n",
       "|  3 |\n",
       "|  7 |\n",
       "|  6 |\n",
       "|  4 |\n",
       "| 10 |\n",
       "|  9 |\n",
       "\n"
      ],
      "text/plain": [
       "   quantidade\n",
       "1   2        \n",
       "2   1        \n",
       "3   8        \n",
       "4   5        \n",
       "5   3        \n",
       "6   7        \n",
       "7   6        \n",
       "8   4        \n",
       "9  10        \n",
       "10  9        "
      ]
     },
     "metadata": {},
     "output_type": "display_data"
    }
   ],
   "source": [
    "dados %>%\n",
    "  distinct(quantidade)"
   ]
  },
  {
   "cell_type": "code",
   "execution_count": 14,
   "metadata": {
    "colab": {
     "base_uri": "https://localhost:8080/",
     "height": 34
    },
    "id": "mHvMUxqpM_Zt",
    "outputId": "ba97dfa4-02d7-441b-a8ea-3b84ab46b47f",
    "vscode": {
     "languageId": "r"
    }
   },
   "outputs": [
    {
     "data": {
      "text/html": [
       "'Vendemos de 1 até 10 unidades de produto por registro'"
      ],
      "text/latex": [
       "'Vendemos de 1 até 10 unidades de produto por registro'"
      ],
      "text/markdown": [
       "'Vendemos de 1 até 10 unidades de produto por registro'"
      ],
      "text/plain": [
       "Vendemos de 1 até 10 unidades de produto por registro"
      ]
     },
     "metadata": {},
     "output_type": "display_data"
    }
   ],
   "source": [
    "glue(\"Vendemos de {min(dados$quantidade)} até {max(dados$quantidade)} unidades de produto por registro\")"
   ]
  },
  {
   "cell_type": "code",
   "execution_count": 15,
   "metadata": {
    "colab": {
     "base_uri": "https://localhost:8080/",
     "height": 460
    },
    "id": "pIKoujOMZ_aL",
    "outputId": "8e7755d8-9906-45a1-8e2f-a6591e0274f5",
    "vscode": {
     "languageId": "r"
    }
   },
   "outputs": [
    {
     "data": {
      "text/html": [
       "<table class=\"dataframe\">\n",
       "<caption>A data.frame: 141854 × 1</caption>\n",
       "<thead>\n",
       "\t<tr><th scope=col>total_compra</th></tr>\n",
       "\t<tr><th scope=col>&lt;dbl&gt;</th></tr>\n",
       "</thead>\n",
       "<tbody>\n",
       "\t<tr><td>  193.60</td></tr>\n",
       "\t<tr><td>  247.68</td></tr>\n",
       "\t<tr><td> 1254.92</td></tr>\n",
       "\t<tr><td>16200.56</td></tr>\n",
       "\t<tr><td>  496.20</td></tr>\n",
       "\t<tr><td>⋮</td></tr>\n",
       "\t<tr><td> 3829.05</td></tr>\n",
       "\t<tr><td> 4183.24</td></tr>\n",
       "\t<tr><td>13183.80</td></tr>\n",
       "\t<tr><td> 1666.33</td></tr>\n",
       "\t<tr><td> 1193.03</td></tr>\n",
       "</tbody>\n",
       "</table>\n"
      ],
      "text/latex": [
       "A data.frame: 141854 × 1\n",
       "\\begin{tabular}{l}\n",
       " total\\_compra\\\\\n",
       " <dbl>\\\\\n",
       "\\hline\n",
       "\t   193.60\\\\\n",
       "\t   247.68\\\\\n",
       "\t  1254.92\\\\\n",
       "\t 16200.56\\\\\n",
       "\t   496.20\\\\\n",
       "\t ⋮\\\\\n",
       "\t  3829.05\\\\\n",
       "\t  4183.24\\\\\n",
       "\t 13183.80\\\\\n",
       "\t  1666.33\\\\\n",
       "\t  1193.03\\\\\n",
       "\\end{tabular}\n"
      ],
      "text/markdown": [
       "\n",
       "A data.frame: 141854 × 1\n",
       "\n",
       "| total_compra &lt;dbl&gt; |\n",
       "|---|\n",
       "|   193.60 |\n",
       "|   247.68 |\n",
       "|  1254.92 |\n",
       "| 16200.56 |\n",
       "|   496.20 |\n",
       "| ⋮ |\n",
       "|  3829.05 |\n",
       "|  4183.24 |\n",
       "| 13183.80 |\n",
       "|  1666.33 |\n",
       "|  1193.03 |\n",
       "\n"
      ],
      "text/plain": [
       "       total_compra\n",
       "1        193.60    \n",
       "2        247.68    \n",
       "3       1254.92    \n",
       "4      16200.56    \n",
       "5        496.20    \n",
       "⋮      ⋮           \n",
       "141850  3829.05    \n",
       "141851  4183.24    \n",
       "141852 13183.80    \n",
       "141853  1666.33    \n",
       "141854  1193.03    "
      ]
     },
     "metadata": {},
     "output_type": "display_data"
    }
   ],
   "source": [
    "dados %>%\n",
    "  distinct(total_compra)"
   ]
  },
  {
   "cell_type": "code",
   "execution_count": 16,
   "metadata": {
    "colab": {
     "base_uri": "https://localhost:8080/",
     "height": 34
    },
    "id": "GSdrNylPScvv",
    "outputId": "0d2f5674-fc2b-441f-e309-9db7bdb2d0b2",
    "vscode": {
     "languageId": "r"
    }
   },
   "outputs": [
    {
     "data": {
      "text/html": [
       "'Tivemos vendas a partir de R$ 5.05 até R$ 20,744.70'"
      ],
      "text/latex": [
       "'Tivemos vendas a partir de R\\$ 5.05 até R\\$ 20,744.70'"
      ],
      "text/markdown": [
       "'Tivemos vendas a partir de R$ 5.05 até R$ 20,744.70'"
      ],
      "text/plain": [
       "[1] \"Tivemos vendas a partir de R$ 5.05 até R$ 20,744.70\""
      ]
     },
     "metadata": {},
     "output_type": "display_data"
    }
   ],
   "source": [
    "sprintf(\"Tivemos vendas a partir de R$ %s até R$ %s\", format(min(dados$total_compra), big.mark=\",\", nsmall=2),\n",
    "                                                      format(max(dados$total_compra), big.mark=\",\", nsmall=2))"
   ]
  },
  {
   "cell_type": "code",
   "execution_count": 17,
   "metadata": {
    "colab": {
     "base_uri": "https://localhost:8080/",
     "height": 984
    },
    "id": "uSk6WGAJScyu",
    "outputId": "47dcd6ef-8df6-490d-ee75-63d438c6e03a",
    "vscode": {
     "languageId": "r"
    }
   },
   "outputs": [
    {
     "data": {
      "text/html": [
       "<table class=\"dataframe\">\n",
       "<caption>A data.frame: 200000 × 11</caption>\n",
       "<thead>\n",
       "\t<tr><th scope=col>id_compra</th><th scope=col>sexo_biologico</th><th scope=col>idade_cliente</th><th scope=col>regiao_cliente</th><th scope=col>categoria_produto</th><th scope=col>preco_unitario</th><th scope=col>quantidade</th><th scope=col>total_compra</th><th scope=col>tempo_entrega</th><th scope=col>avaliacao</th><th scope=col>avaliacao_indicador</th></tr>\n",
       "\t<tr><th scope=col>&lt;chr&gt;</th><th scope=col>&lt;chr&gt;</th><th scope=col>&lt;int&gt;</th><th scope=col>&lt;chr&gt;</th><th scope=col>&lt;chr&gt;</th><th scope=col>&lt;dbl&gt;</th><th scope=col>&lt;int&gt;</th><th scope=col>&lt;dbl&gt;</th><th scope=col>&lt;int&gt;</th><th scope=col>&lt;int&gt;</th><th scope=col>&lt;fct&gt;</th></tr>\n",
       "</thead>\n",
       "<tbody>\n",
       "\t<tr><td>b866504d-9fe1-4c75-8956-decf7f25dd75</td><td>Masculino</td><td>35</td><td>Sudeste     </td><td>Papelaria e Escritório</td><td>5.05</td><td>1</td><td>5.05</td><td>13</td><td>4</td><td>Bom    </td></tr>\n",
       "\t<tr><td>5a66b58a-2ab0-49c3-b597-f45846130ded</td><td>Feminino </td><td>37</td><td>Norte       </td><td>Papelaria e Escritório</td><td>5.14</td><td>1</td><td>5.14</td><td>11</td><td>2</td><td>Ruim   </td></tr>\n",
       "\t<tr><td>c67e996c-403c-4f58-81c5-996c1ab676a5</td><td>Masculino</td><td>34</td><td>Sul         </td><td>Papelaria e Escritório</td><td>5.28</td><td>1</td><td>5.28</td><td> 7</td><td>3</td><td>Regular</td></tr>\n",
       "\t<tr><td>e7ad75b4-6a0e-4609-801c-ef12adeb837a</td><td>Masculino</td><td>55</td><td>Sudeste     </td><td>Papelaria e Escritório</td><td>5.35</td><td>1</td><td>5.35</td><td>11</td><td>5</td><td>Ótimo  </td></tr>\n",
       "\t<tr><td>ed88c6a2-2fdd-4278-bfa8-fd54f7e2f357</td><td>Feminino </td><td>42</td><td>Centro-Oeste</td><td>Papelaria e Escritório</td><td>5.78</td><td>1</td><td>5.78</td><td>16</td><td>4</td><td>Bom    </td></tr>\n",
       "\t<tr><td>⋮</td><td>⋮</td><td>⋮</td><td>⋮</td><td>⋮</td><td>⋮</td><td>⋮</td><td>⋮</td><td>⋮</td><td>⋮</td><td>⋮</td></tr>\n",
       "\t<tr><td>5f125e88-f01c-4499-9a25-c4910bc76dee</td><td>Masculino</td><td>39</td><td>Nordeste</td><td>Eletrônicos</td><td>2037.44</td><td>10</td><td>20374.4</td><td> 7</td><td>2</td><td>Ruim   </td></tr>\n",
       "\t<tr><td>2c3853dc-b9dc-400a-bd70-ff2521fe4d8a</td><td>Feminino </td><td>35</td><td>Sul     </td><td>Eletrônicos</td><td>2057.76</td><td>10</td><td>20577.6</td><td> 6</td><td>2</td><td>Ruim   </td></tr>\n",
       "\t<tr><td>dbf2429a-3252-42df-ad4e-a11339afceb8</td><td>Feminino </td><td>33</td><td>Sudeste </td><td>Eletrônicos</td><td>2058.18</td><td>10</td><td>20581.8</td><td> 4</td><td>5</td><td>Ótimo  </td></tr>\n",
       "\t<tr><td>dc3c4162-5772-480e-b7fa-0ccc41d78a40</td><td>Feminino </td><td>29</td><td>Sudeste </td><td>Eletrônicos</td><td>2058.77</td><td>10</td><td>20587.7</td><td> 6</td><td>5</td><td>Ótimo  </td></tr>\n",
       "\t<tr><td>8c971cc6-964e-468d-86f8-1e6955887bd1</td><td>Feminino </td><td>28</td><td>Sudeste </td><td>Eletrônicos</td><td>2074.47</td><td>10</td><td>20744.7</td><td>11</td><td>1</td><td>Péssimo</td></tr>\n",
       "</tbody>\n",
       "</table>\n"
      ],
      "text/latex": [
       "A data.frame: 200000 × 11\n",
       "\\begin{tabular}{lllllllllll}\n",
       " id\\_compra & sexo\\_biologico & idade\\_cliente & regiao\\_cliente & categoria\\_produto & preco\\_unitario & quantidade & total\\_compra & tempo\\_entrega & avaliacao & avaliacao\\_indicador\\\\\n",
       " <chr> & <chr> & <int> & <chr> & <chr> & <dbl> & <int> & <dbl> & <int> & <int> & <fct>\\\\\n",
       "\\hline\n",
       "\t b866504d-9fe1-4c75-8956-decf7f25dd75 & Masculino & 35 & Sudeste      & Papelaria e Escritório & 5.05 & 1 & 5.05 & 13 & 4 & Bom    \\\\\n",
       "\t 5a66b58a-2ab0-49c3-b597-f45846130ded & Feminino  & 37 & Norte        & Papelaria e Escritório & 5.14 & 1 & 5.14 & 11 & 2 & Ruim   \\\\\n",
       "\t c67e996c-403c-4f58-81c5-996c1ab676a5 & Masculino & 34 & Sul          & Papelaria e Escritório & 5.28 & 1 & 5.28 &  7 & 3 & Regular\\\\\n",
       "\t e7ad75b4-6a0e-4609-801c-ef12adeb837a & Masculino & 55 & Sudeste      & Papelaria e Escritório & 5.35 & 1 & 5.35 & 11 & 5 & Ótimo  \\\\\n",
       "\t ed88c6a2-2fdd-4278-bfa8-fd54f7e2f357 & Feminino  & 42 & Centro-Oeste & Papelaria e Escritório & 5.78 & 1 & 5.78 & 16 & 4 & Bom    \\\\\n",
       "\t ⋮ & ⋮ & ⋮ & ⋮ & ⋮ & ⋮ & ⋮ & ⋮ & ⋮ & ⋮ & ⋮\\\\\n",
       "\t 5f125e88-f01c-4499-9a25-c4910bc76dee & Masculino & 39 & Nordeste & Eletrônicos & 2037.44 & 10 & 20374.4 &  7 & 2 & Ruim   \\\\\n",
       "\t 2c3853dc-b9dc-400a-bd70-ff2521fe4d8a & Feminino  & 35 & Sul      & Eletrônicos & 2057.76 & 10 & 20577.6 &  6 & 2 & Ruim   \\\\\n",
       "\t dbf2429a-3252-42df-ad4e-a11339afceb8 & Feminino  & 33 & Sudeste  & Eletrônicos & 2058.18 & 10 & 20581.8 &  4 & 5 & Ótimo  \\\\\n",
       "\t dc3c4162-5772-480e-b7fa-0ccc41d78a40 & Feminino  & 29 & Sudeste  & Eletrônicos & 2058.77 & 10 & 20587.7 &  6 & 5 & Ótimo  \\\\\n",
       "\t 8c971cc6-964e-468d-86f8-1e6955887bd1 & Feminino  & 28 & Sudeste  & Eletrônicos & 2074.47 & 10 & 20744.7 & 11 & 1 & Péssimo\\\\\n",
       "\\end{tabular}\n"
      ],
      "text/markdown": [
       "\n",
       "A data.frame: 200000 × 11\n",
       "\n",
       "| id_compra &lt;chr&gt; | sexo_biologico &lt;chr&gt; | idade_cliente &lt;int&gt; | regiao_cliente &lt;chr&gt; | categoria_produto &lt;chr&gt; | preco_unitario &lt;dbl&gt; | quantidade &lt;int&gt; | total_compra &lt;dbl&gt; | tempo_entrega &lt;int&gt; | avaliacao &lt;int&gt; | avaliacao_indicador &lt;fct&gt; |\n",
       "|---|---|---|---|---|---|---|---|---|---|---|\n",
       "| b866504d-9fe1-4c75-8956-decf7f25dd75 | Masculino | 35 | Sudeste      | Papelaria e Escritório | 5.05 | 1 | 5.05 | 13 | 4 | Bom     |\n",
       "| 5a66b58a-2ab0-49c3-b597-f45846130ded | Feminino  | 37 | Norte        | Papelaria e Escritório | 5.14 | 1 | 5.14 | 11 | 2 | Ruim    |\n",
       "| c67e996c-403c-4f58-81c5-996c1ab676a5 | Masculino | 34 | Sul          | Papelaria e Escritório | 5.28 | 1 | 5.28 |  7 | 3 | Regular |\n",
       "| e7ad75b4-6a0e-4609-801c-ef12adeb837a | Masculino | 55 | Sudeste      | Papelaria e Escritório | 5.35 | 1 | 5.35 | 11 | 5 | Ótimo   |\n",
       "| ed88c6a2-2fdd-4278-bfa8-fd54f7e2f357 | Feminino  | 42 | Centro-Oeste | Papelaria e Escritório | 5.78 | 1 | 5.78 | 16 | 4 | Bom     |\n",
       "| ⋮ | ⋮ | ⋮ | ⋮ | ⋮ | ⋮ | ⋮ | ⋮ | ⋮ | ⋮ | ⋮ |\n",
       "| 5f125e88-f01c-4499-9a25-c4910bc76dee | Masculino | 39 | Nordeste | Eletrônicos | 2037.44 | 10 | 20374.4 |  7 | 2 | Ruim    |\n",
       "| 2c3853dc-b9dc-400a-bd70-ff2521fe4d8a | Feminino  | 35 | Sul      | Eletrônicos | 2057.76 | 10 | 20577.6 |  6 | 2 | Ruim    |\n",
       "| dbf2429a-3252-42df-ad4e-a11339afceb8 | Feminino  | 33 | Sudeste  | Eletrônicos | 2058.18 | 10 | 20581.8 |  4 | 5 | Ótimo   |\n",
       "| dc3c4162-5772-480e-b7fa-0ccc41d78a40 | Feminino  | 29 | Sudeste  | Eletrônicos | 2058.77 | 10 | 20587.7 |  6 | 5 | Ótimo   |\n",
       "| 8c971cc6-964e-468d-86f8-1e6955887bd1 | Feminino  | 28 | Sudeste  | Eletrônicos | 2074.47 | 10 | 20744.7 | 11 | 1 | Péssimo |\n",
       "\n"
      ],
      "text/plain": [
       "       id_compra                            sexo_biologico idade_cliente\n",
       "1      b866504d-9fe1-4c75-8956-decf7f25dd75 Masculino      35           \n",
       "2      5a66b58a-2ab0-49c3-b597-f45846130ded Feminino       37           \n",
       "3      c67e996c-403c-4f58-81c5-996c1ab676a5 Masculino      34           \n",
       "4      e7ad75b4-6a0e-4609-801c-ef12adeb837a Masculino      55           \n",
       "5      ed88c6a2-2fdd-4278-bfa8-fd54f7e2f357 Feminino       42           \n",
       "⋮      ⋮                                    ⋮              ⋮            \n",
       "199996 5f125e88-f01c-4499-9a25-c4910bc76dee Masculino      39           \n",
       "199997 2c3853dc-b9dc-400a-bd70-ff2521fe4d8a Feminino       35           \n",
       "199998 dbf2429a-3252-42df-ad4e-a11339afceb8 Feminino       33           \n",
       "199999 dc3c4162-5772-480e-b7fa-0ccc41d78a40 Feminino       29           \n",
       "200000 8c971cc6-964e-468d-86f8-1e6955887bd1 Feminino       28           \n",
       "       regiao_cliente categoria_produto      preco_unitario quantidade\n",
       "1      Sudeste        Papelaria e Escritório 5.05           1         \n",
       "2      Norte          Papelaria e Escritório 5.14           1         \n",
       "3      Sul            Papelaria e Escritório 5.28           1         \n",
       "4      Sudeste        Papelaria e Escritório 5.35           1         \n",
       "5      Centro-Oeste   Papelaria e Escritório 5.78           1         \n",
       "⋮      ⋮              ⋮                      ⋮              ⋮         \n",
       "199996 Nordeste       Eletrônicos            2037.44        10        \n",
       "199997 Sul            Eletrônicos            2057.76        10        \n",
       "199998 Sudeste        Eletrônicos            2058.18        10        \n",
       "199999 Sudeste        Eletrônicos            2058.77        10        \n",
       "200000 Sudeste        Eletrônicos            2074.47        10        \n",
       "       total_compra tempo_entrega avaliacao avaliacao_indicador\n",
       "1      5.05         13            4         Bom                \n",
       "2      5.14         11            2         Ruim               \n",
       "3      5.28          7            3         Regular            \n",
       "4      5.35         11            5         Ótimo              \n",
       "5      5.78         16            4         Bom                \n",
       "⋮      ⋮            ⋮             ⋮         ⋮                  \n",
       "199996 20374.4       7            2         Ruim               \n",
       "199997 20577.6       6            2         Ruim               \n",
       "199998 20581.8       4            5         Ótimo              \n",
       "199999 20587.7       6            5         Ótimo              \n",
       "200000 20744.7      11            1         Péssimo            "
      ]
     },
     "metadata": {},
     "output_type": "display_data"
    }
   ],
   "source": [
    "dados %>%\n",
    "  arrange(total_compra)"
   ]
  },
  {
   "cell_type": "markdown",
   "metadata": {
    "id": "pCAkJd9EisL8"
   },
   "source": [
    "Agora que já entendemos a importância de como trabalhar e analisar diferentes tipos de dados, estamos prontos(as) para responder às perguntas levantadas pelas lideranças da empresa trazendo informações relevantes para o que desejam."
   ]
  },
  {
   "cell_type": "markdown",
   "metadata": {
    "id": "d1KwAi56jNPL"
   },
   "source": [
    "# **2. Identificando o perfil do público**\n",
    "\n",
    "---\n",
    "\n"
   ]
  },
  {
   "cell_type": "markdown",
   "metadata": {
    "id": "_-0xMrOLoGG_"
   },
   "source": [
    "Agora, vamos partir para as análises acerca do **perfil do público**, como requisitado pelo **time de marketing e vendas** da empresa varejista que estamos estudando.\n",
    "\n",
    "Para isso, vamos utilizar uma ferramenta estatística muito importante, que organiza e resume dados em grupos ou classes: a **distribuição de frequência**. Com ela iremos analisar de maneira mais direta e eficiente as informações dos clientes com os dados qualitativos que possuímos.\n",
    "\n",
    "Mas, antes disso, vamos interpretar as perguntas que devemos responder e como este tipo de distribuição poderá nos ajudar."
   ]
  },
  {
   "cell_type": "markdown",
   "metadata": {
    "id": "VYQXwCVajNPM"
   },
   "source": [
    "## **2.1 Distribuindo frequências de dados qualitativos - 1 variável**\n",
    "\n",
    "---\n",
    "\n"
   ]
  },
  {
   "cell_type": "markdown",
   "metadata": {
    "id": "Kq_zIWDFNgPm"
   },
   "source": [
    "### <font color=\"#E23155\" face=\"Verdana\">Demanda 1: Acompanhamento das avaliações dos clientes</font>"
   ]
  },
  {
   "cell_type": "markdown",
   "metadata": {
    "id": "GVt_l9IaNgPm"
   },
   "source": [
    "A empresa quer acompanhar as **avaliações dos clientes** sobre seus produtos a fim de priorizar ações, como melhorar produtos com maior proporção de feedbacks negativos, investigar causas e explorar pontos fortes apontados pelos clientes satisfeitos. Essas avaliações variam entre:\n",
    "\n",
    "1. **Péssimo**\n",
    "2. **Ruim**\n",
    "3. **Regular**\n",
    "4. **Bom**\n",
    "5. **Ótimo**\n",
    "\n",
    "Como a **equipe de marketing e vendas** poderá investigar a percepção geral dos clientes sobre os produtos e identificar possíveis comportamentos para ajustar suas estratégias de comunicação e melhoria de produtos?"
   ]
  },
  {
   "cell_type": "markdown",
   "metadata": {
    "id": "brz7dIEC1vYl"
   },
   "source": [
    "### <font color=\"#E23155\" face=\"Verdana\">Solução:</font>"
   ]
  },
  {
   "cell_type": "markdown",
   "metadata": {
    "id": "BA6Q4xrV1zKe"
   },
   "source": [
    "### **Distribuição de frequência**\n",
    "\n",
    "A **distribuição de frequência** é uma tabela que contêm os dados de acordo com a sua **frequência** ($f_i$ = quantidade de vezes que uma determinada variável ocorre). Ela é utilizada tanto para dados **qualitativos** quanto **quantitativos**.\n",
    "\n",
    "Cada entrada na tabela contém a contagem de ocorrências de valores dentro de um grupo ou intervalo específico, resumindo a distribuição destes valores. Por exemplo, classifica a quantidade de pessoas pelo sexo biológico, a quantidade de itens de um produto vendido, a faixa de renda de pessoas, etc.\n",
    "\n",
    "#### **Frequência absoluta ($f_i$)**\n",
    "\n",
    "É o número de vezes em que uma dada observação aparece numa variável. Para cada valor possível, você tem uma dada frequência, cuja soma seria igual a frequência total absoluta, ou melhor, o número total de registros.\n",
    "\n",
    "# $$F = \\sum_{i=1}^{n}f_i = f_1 + f_2 + ... + f_n$$\n",
    "\n",
    "&nbsp;\n",
    "\n",
    "#### **Como construir:**\n",
    "\n",
    "1.  Ordenar os valores das variáveis em ordem crescente ou decrescente;\n",
    "\n",
    "2.  Determinar a frequência de cada valor;\n",
    "\n",
    "3.  Agrupar os dados em classes ou intervalos"
   ]
  },
  {
   "cell_type": "markdown",
   "metadata": {
    "id": "pxVQsgH701vo"
   },
   "source": [
    "As avaliações são armazenadas em uma variável chamada `avaliacao_indicador` dentro do banco de dados da empresa."
   ]
  },
  {
   "cell_type": "markdown",
   "metadata": {
    "id": "nQz7OptNjnmz"
   },
   "source": [
    "> **Documentações:**\n",
    ">\n",
    "> - [**group_by**](https://dplyr.tidyverse.org/reference/group_by.html)\n",
    "> - [**summarise**](https://dplyr.tidyverse.org/reference/summarise.html)\n",
    "> - [**geom_bar**](https://ggplot2.tidyverse.org/reference/geom_bar.html)\n",
    "> - [**row + colnames**](https://rdrr.io/r/base/colnames.html)"
   ]
  },
  {
   "cell_type": "code",
   "execution_count": null,
   "metadata": {
    "colab": {
     "base_uri": "https://localhost:8080/",
     "height": 368
    },
    "id": "1PV8j9RxhlXs",
    "outputId": "20c21121-4e94-4035-b706-4e1c7a642e17",
    "vscode": {
     "languageId": "r"
    }
   },
   "outputs": [],
   "source": [
    "head(dados, 3)"
   ]
  },
  {
   "cell_type": "code",
   "execution_count": null,
   "metadata": {
    "colab": {
     "base_uri": "https://localhost:8080/",
     "height": 255
    },
    "id": "cvcvTIzwzMPk",
    "outputId": "d75bd8a0-1a5a-4604-904c-a73cb161f58d",
    "vscode": {
     "languageId": "r"
    }
   },
   "outputs": [],
   "source": [
    "freq_avaliacoes <- ...\n",
    "\n",
    "freq_avaliacoes"
   ]
  },
  {
   "cell_type": "markdown",
   "metadata": {
    "id": "M1GTV5EIbOpV"
   },
   "source": [
    "#### **Frequência relativa ($f_{ri}$)**\n",
    "\n",
    "Ela é dada pela razão entre a frequência absoluta de cada classe e a frequência total ou soma das frequências absolutas:\n",
    "\n",
    "# $$f_{ri} = \\frac{f_i}{F}$$\n",
    "\n",
    "Para valores percentuais, basta multiplicar cada frequência relativa por 100."
   ]
  },
  {
   "cell_type": "code",
   "execution_count": null,
   "metadata": {
    "colab": {
     "base_uri": "https://localhost:8080/",
     "height": 255
    },
    "id": "1NJ-GV9CzMMl",
    "outputId": "f9b797cf-ff86-4ddd-b122-f713316b5b3a",
    "vscode": {
     "languageId": "r"
    }
   },
   "outputs": [],
   "source": [
    "freq_avaliacoes <- ...\n",
    "\n",
    "freq_avaliacoes"
   ]
  },
  {
   "cell_type": "code",
   "execution_count": null,
   "metadata": {
    "colab": {
     "base_uri": "https://localhost:8080/",
     "height": 255
    },
    "id": "K-6JCjVmh66Q",
    "outputId": "ceb19cb6-8545-4c90-ac33-1a05ae9fdf17",
    "vscode": {
     "languageId": "r"
    }
   },
   "outputs": [],
   "source": [
    "colnames(freq_avaliacoes) <- c(\"Avaliação\", \"Quantidade\", \"Porcentagem (%)\")\n",
    "freq_avaliacoes"
   ]
  },
  {
   "cell_type": "markdown",
   "metadata": {
    "id": "_Iuy4tbEkUz2"
   },
   "source": [
    "Representando graficamente temos:"
   ]
  },
  {
   "cell_type": "code",
   "execution_count": null,
   "metadata": {
    "id": "3WmqxeZVWEs9",
    "vscode": {
     "languageId": "r"
    }
   },
   "outputs": [],
   "source": [
    "options(repr.plot.width = 12, repr.plot.height = 8)\n",
    "tema <- theme(\n",
    "        plot.title=element_text(size = 22, hjust = 0.5),\n",
    "        axis.title.y=element_text(size = 16, vjust = +0.2),\n",
    "        axis.title.x=element_text(size = 16, vjust = -0.2),\n",
    "        axis.text.y=element_text(size = 14),\n",
    "        axis.text.x=element_text(size = 14))"
   ]
  },
  {
   "cell_type": "code",
   "execution_count": null,
   "metadata": {
    "colab": {
     "base_uri": "https://localhost:8080/",
     "height": 497
    },
    "id": "hGSDhGqXzMHW",
    "outputId": "d24b1c7a-94f2-4d2a-eb98-eefa32ecc20e",
    "vscode": {
     "languageId": "r"
    }
   },
   "outputs": [],
   "source": [
    "ggplot(..., aes(x = ..., y = ...)) +\n",
    "  ... +\n",
    "    ggtitle(\"Distribuição de Frequências das Avaliações\") +\n",
    "    ylab(\"Frequência\") +\n",
    "    xlab(\"Avaliação\") +\n",
    "    geom_text(aes(label = glue(\"{Quantidade} ({`Porcentagem (%)`}%)\")), vjust = -0.5, size = 5) +\n",
    "    tema"
   ]
  },
  {
   "cell_type": "markdown",
   "metadata": {
    "id": "4Ry3HAZvmmZM"
   },
   "source": [
    "Conseguimos perceber que de modo geral possuímos mais avaliações positivas (\"Ótimo\" e \"Bom\") que negativas (\"Péssimo\" e \"Ruim\"), porém o número de avaliações \"Péssimo\" está acima das avaliações neutras.\n",
    "\n",
    "Reportar esse comportamento pode ser importante, pois a equipe de marketing poderá investigar com mais detalhes o que levou a esse nível de avaliação negativa."
   ]
  },
  {
   "cell_type": "markdown",
   "metadata": {
    "id": "KaYVSF23mzpl"
   },
   "source": [
    "## **2.2 Distribuindo frequências de dados qualitativos - 2 variáveis**\n",
    "\n",
    "---\n",
    "\n"
   ]
  },
  {
   "cell_type": "markdown",
   "metadata": {
    "id": "yqOzjhsFmzpm"
   },
   "source": [
    "### <font color=\"#E23155\" face=\"Verdana\">Demanda 2: Avaliações dos clientes por região</font>"
   ]
  },
  {
   "cell_type": "markdown",
   "metadata": {
    "id": "Se5u7jgrmzpm"
   },
   "source": [
    "A equipe de marketing e vendas da empresa trouxe uma nova demanda para a análise das avaliações. Além de entender o comportamento geral das avaliações (avaliacao_indicador), agora desejam saber também como essas avaliações variam de acordo com a região do país.\n",
    "\n",
    "Com isso, gostariam de identificar como as percepções dos clientes variam regionalmente, respondendo questões como:\n",
    "\n",
    "* Qual região tem mais avaliações positivas?\n",
    "* Alguma região concentra a maior parte das avaliações negativas?\n",
    "* Existe alguma diferença relevante que indique a necessidade de ações específicas para uma região?"
   ]
  },
  {
   "cell_type": "markdown",
   "metadata": {
    "id": "8QBDMeiumzpm"
   },
   "source": [
    "### <font color=\"#E23155\" face=\"Verdana\">Solução:</font>"
   ]
  },
  {
   "cell_type": "markdown",
   "metadata": {
    "id": "Bf3-0TINmzpm"
   },
   "source": [
    "### **Tabela de contingência (distribuição de frequência bivariada)**\n",
    "\n",
    "A **tabela de contingência**, também conhecida como tabela cruzada ou tabela bidirecional, tem como objetivo representar de forma resumida a relação entre diferentes variáveis categóricas. Ela é uma espécie de **distribuição de frequência entre 2 variáveis** que analisa a relação entre as variáveis qualitativas, sejam elas dependentes ou independentes.\n",
    "\n",
    "Geralmente, ela é construída com base em dados qualitativos, os quais são divididos em grupos mutuamente exclusivos. Por exemplo: quantidade de pessoas por sexo biológico e grau de instrução.\n",
    "\n",
    "Uma das principais utilizações de uma tabela de contingência é analisar a relação entre dados que não são facilmente identificáveis."
   ]
  },
  {
   "cell_type": "markdown",
   "metadata": {
    "id": "s8m0TpXAmzpn"
   },
   "source": [
    "> **Documentações:**\n",
    ">\n",
    "> - [**pivot_wider**](https://tidyr.tidyverse.org/reference/pivot_wider.html)\n",
    "> - [**across**](https://dplyr.tidyverse.org/reference/across.html)\n",
    "> - [**filter**](https://dplyr.tidyverse.org/reference/filter.html)"
   ]
  },
  {
   "cell_type": "code",
   "execution_count": null,
   "metadata": {
    "colab": {
     "base_uri": "https://localhost:8080/",
     "height": 368
    },
    "id": "eaZg1kz5h-hJ",
    "outputId": "f98e77f7-0487-48b0-9b28-dd13252979dd",
    "vscode": {
     "languageId": "r"
    }
   },
   "outputs": [],
   "source": []
  },
  {
   "cell_type": "code",
   "execution_count": null,
   "metadata": {
    "colab": {
     "base_uri": "https://localhost:8080/",
     "height": 255
    },
    "id": "YTN4aabGmzpn",
    "outputId": "b3343dd3-5b62-413e-a889-f1db745b3f0e",
    "vscode": {
     "languageId": "r"
    }
   },
   "outputs": [],
   "source": [
    "tab_avaliacoes_regiao <- ...\n",
    "\n",
    "tab_avaliacoes_regiao"
   ]
  },
  {
   "cell_type": "markdown",
   "metadata": {
    "id": "JQEsOqzqmzpn"
   },
   "source": [
    "#### **Quais as vantagens de uma tabela de contigência**\n",
    "\n",
    "1. **Visualização das informações:** Organiza dados categóricos num formato compacto e legível, que podem ser transformadas em gráficos;\n",
    "\n",
    "2. **Análises rápidas:** correlaciona variáveis de forma rápida e visual auxiliando na tomada de decisões informadas e com agilidade;\n",
    "\n",
    "3. **Testes estatísticos:** Serve como base para realizar testes estatísticos a fim de avaliar a independência entre variáveis categóricas."
   ]
  },
  {
   "cell_type": "code",
   "execution_count": null,
   "metadata": {
    "colab": {
     "base_uri": "https://localhost:8080/",
     "height": 255
    },
    "id": "C5830wriB_Lt",
    "outputId": "d939af96-8249-43a1-ec14-8ce670671d4a",
    "vscode": {
     "languageId": "r"
    }
   },
   "outputs": [],
   "source": [
    "tab_avaliacoes_normalizado <- ...\n",
    "\n",
    "tab_avaliacoes_normalizado"
   ]
  },
  {
   "cell_type": "markdown",
   "metadata": {
    "id": "rXjNarEIENv6"
   },
   "source": [
    "> **Obs:** `mutate(across())` aplica uma transformação a várias colunas ao mesmo tempo.\n",
    ">\n",
    "> Em `-avaliacao_indicador`, garantimos que a coluna de categorias (avaliacao_indicador) seja excluída da transformação.\n",
    ">\n",
    "> Para cada coluna, dividimos cada valor pela soma da coluna `~ round(. * 100 / sum(.), 1)` e multiplicamos por 100, resultando nas frequências relativas."
   ]
  },
  {
   "cell_type": "markdown",
   "metadata": {
    "id": "gmGCm73XLB-2"
   },
   "source": [
    "#### ***Qual região tem mais avaliações positivas?***\n",
    "\n",
    "Considerando \"Ótimo\" e \"Bom\" as Regiões Centro-Oeste e Nordeste dividem o ranking de avaliações mais positivas com mais de 55% de satisfação com as compras"
   ]
  },
  {
   "cell_type": "code",
   "execution_count": null,
   "metadata": {
    "colab": {
     "base_uri": "https://localhost:8080/",
     "height": 129
    },
    "id": "ENqovq1GK7td",
    "outputId": "d0eafe13-7b8d-4c8b-cb88-d9d2daa2ab5c",
    "vscode": {
     "languageId": "r"
    }
   },
   "outputs": [],
   "source": []
  },
  {
   "cell_type": "markdown",
   "metadata": {
    "id": "Qihc-ASpNgyy"
   },
   "source": [
    "#### ***Alguma região concentra a maior parte das avaliações negativas?***\n",
    "\n",
    "Analisando a tabela de valores absolutos conseguimos notar que a Região Sul tem a maior porcentagem de avaliações negativas (34.3%), sendo a única com quase 20% das notas no nível de satisfação \"Péssimo\"."
   ]
  },
  {
   "cell_type": "code",
   "execution_count": null,
   "metadata": {
    "colab": {
     "base_uri": "https://localhost:8080/",
     "height": 129
    },
    "id": "K5yCqzhvN-pr",
    "outputId": "6e1e0ca7-8f87-4e14-aba4-c1f27438a9ad",
    "vscode": {
     "languageId": "r"
    }
   },
   "outputs": [],
   "source": []
  },
  {
   "cell_type": "markdown",
   "metadata": {
    "id": "CJ6gYuATKmnU"
   },
   "source": [
    "#### ***Existe alguma diferença relevante que indique a necessidade de ações específicas para uma região?***\n",
    "\n",
    "Sim! Como vimos anteriormente é necessário investigar a baixa avaliação na Região Sul comparada às outras regiões. Outro ponto de atenção está também nas Regiões Sudeste e Norte que concentram cada uma mais de 20% de notas \"Regular\".\n",
    "\n",
    "Seriam pontos interessantes de reportar as partes interessadas!"
   ]
  },
  {
   "cell_type": "markdown",
   "metadata": {
    "id": "4cLqLJUPdo49"
   },
   "source": [
    "## **2.3 Cruzando os dados dos clientes**\n",
    "\n",
    "---\n",
    "\n"
   ]
  },
  {
   "cell_type": "markdown",
   "metadata": {
    "id": "LDYOpliqelzx"
   },
   "source": [
    "### <font color=\"#E23155\" face=\"Verdana\">Demanda 3: Perfil dos clientes</font>"
   ]
  },
  {
   "cell_type": "markdown",
   "metadata": {
    "id": "ntRAJsOSelzy"
   },
   "source": [
    "A equipe de marketing e vendas da empresa trouxe mais uma demanda, desta vez, visando traçar o **perfil dos clientes** para melhorar suas campanhas publicitárias. Ela quer entender como o **ticket médio** varia entre o **sexo biológico** e a **região** onde a clientela reside. Com base nessa análise, será possível identificar oportunidades para segmentação de mercado e personalização de campanhas.\n",
    "\n",
    "Não existe ainda uma análise cruzada dessas informações, portanto, a equipe precisa de uma tabela ou visual que resuma o **ticket médio por sexo e região** para extrair insights sobre o comportamento de consumo."
   ]
  },
  {
   "cell_type": "markdown",
   "metadata": {
    "id": "Jf6gLNtpelz0"
   },
   "source": [
    "### <font color=\"#E23155\" face=\"Verdana\">Solução:</font>"
   ]
  },
  {
   "cell_type": "markdown",
   "metadata": {
    "id": "JQ7hMSFIelz2"
   },
   "source": [
    "> **Documentações:**\n",
    ">\n",
    "> - [**as.matrix**](https://www.rdocumentation.org/packages/data.table/versions/1.16.2/topics/as.matrix)\n"
   ]
  },
  {
   "cell_type": "markdown",
   "metadata": {
    "id": "YF6S-x7kjQfB"
   },
   "source": [
    "A gente já aprendeu a criar uma distribuição de frequência cruzando duas variáveis diferentes. Para este problema precisamos adicionar a estatística descritiva de uma variável quantitativa, no caso a média, dentro dessa nova tabela."
   ]
  },
  {
   "cell_type": "code",
   "execution_count": null,
   "metadata": {
    "colab": {
     "base_uri": "https://localhost:8080/",
     "height": 368
    },
    "id": "3XM0casbiBvE",
    "outputId": "1ad48fa4-fce4-40bb-e8ac-a2bcf3937f54",
    "vscode": {
     "languageId": "r"
    }
   },
   "outputs": [],
   "source": []
  },
  {
   "cell_type": "markdown",
   "metadata": {
    "id": "8enB-7XItV7B"
   },
   "source": [
    "Temos o total de cada compra dentro do nosso dataset. Precisamos então calcular o ticket médio das pessoas por sexo e região para encontrar, por exemplo, a média de compras de uma pessoa do sexo masculino da região Sudeste ou uma pessoa do sexo feminino da região Norte. Bem interessante, não é?"
   ]
  },
  {
   "cell_type": "code",
   "execution_count": null,
   "metadata": {
    "colab": {
     "base_uri": "https://localhost:8080/",
     "height": 161
    },
    "id": "AMA5jch5tVmd",
    "outputId": "7fead9d4-9a1f-4751-ab72-34911b8d3e6a",
    "vscode": {
     "languageId": "r"
    }
   },
   "outputs": [],
   "source": [
    "ticket_medio <- ...\n",
    "\n",
    "ticket_medio"
   ]
  },
  {
   "cell_type": "markdown",
   "metadata": {
    "id": "kDF20pGx3T-N"
   },
   "source": [
    "Uma forma interessante de reportar esta informação é criar uma **matriz**, passando uma das variáveis de interesse para as linhas e a outra para as colunas."
   ]
  },
  {
   "cell_type": "code",
   "execution_count": null,
   "metadata": {
    "colab": {
     "base_uri": "https://localhost:8080/",
     "height": 129
    },
    "id": "zN3kTfQL5_NC",
    "outputId": "284bb7b7-d3b2-42dd-8313-4e807bbc0cd5",
    "vscode": {
     "languageId": "r"
    }
   },
   "outputs": [],
   "source": [
    "ticket_medio_matrix <- ...\n",
    "ticket_medio_matrix"
   ]
  },
  {
   "cell_type": "code",
   "execution_count": null,
   "metadata": {
    "colab": {
     "base_uri": "https://localhost:8080/",
     "height": 129
    },
    "id": "KbyVr6_j4Q2N",
    "outputId": "d0c6139c-fcfe-46c5-896a-b52960bd86bd",
    "vscode": {
     "languageId": "r"
    }
   },
   "outputs": [],
   "source": [
    "rownames(ticket_medio_matrix) <- ...\n",
    "ticket_medio_matrix"
   ]
  },
  {
   "cell_type": "markdown",
   "metadata": {
    "id": "QG3wl_y93ACO"
   },
   "source": [
    "Observando a matriz, percebemos que as pessoas de sexo biológico masculino possuem um ticket médio acima do feminino nas regiões Centro-Oeste e Nordeste, com uma diferença próxima de **R\\$150,00**. Em contrapartida, as pessoas de sexo biológico feminino gastam mais do que o masculino nas regiões Sul e Sudeste, com uma diferença por volta de **R\\$300,00** reais.\n",
    "\n",
    "A análise de ticket médio aqui nos ajudou a entender o comportamento de consumo de diferentes segmentos de clientes."
   ]
  },
  {
   "cell_type": "markdown",
   "metadata": {
    "id": "sZ-cMVp7N9nd"
   },
   "source": [
    "# **3. Analisando a tendência dos dados**\n",
    "\n",
    "---\n",
    "\n"
   ]
  },
  {
   "cell_type": "markdown",
   "metadata": {
    "id": "TpqyP_iOp4oX"
   },
   "source": [
    "## **3.1 Calculando a média de uma variável**\n",
    "\n",
    "---\n",
    "\n"
   ]
  },
  {
   "cell_type": "markdown",
   "metadata": {
    "id": "Ow8zeZ5op4oY"
   },
   "source": [
    "### <font color=\"#E23155\" face=\"Verdana\">Demanda 4: Tempo de entrega por tipo de produto</font>"
   ]
  },
  {
   "cell_type": "markdown",
   "metadata": {
    "id": "HN6H9me_p4oY"
   },
   "source": [
    "A equipe de marketing e vendas está buscando formas de melhorar a experiência do cliente, e percebeu que o **tempo de entrega** é um fator crítico para aumentar a satisfação.\n",
    "\n",
    "Por exemplo, produtos de categorias diferentes, como eletrônicos e roupas, podem ter tempos de entrega distintos devido a fatores como peso, localização dos fornecedores e demanda.\n",
    "\n",
    "Por isso, precisamos calcular o **tempo médio de entrega para cada categoria de produto** com base nos dados históricos, visando fornecer estimativas mais precisas no site e permitir ajustes na logística."
   ]
  },
  {
   "cell_type": "markdown",
   "metadata": {
    "id": "BSS2M5VQp4oY"
   },
   "source": [
    "### **Medidas de Tendência Central**\n",
    "\n",
    "As **medidas de tendência central** são ferramentas estatísticas que ajudam a descrever as características dos dados resumindo-os em um único valor. Essas medidas (média, mediana e moda) são utilizadas em diversas análises e técnicas visando extrair informações dos dados.\n",
    "\n",
    "### **Média aritmética ($\\mu$)**\n",
    "\n",
    "A **média aritmética**  é uma das mais conhecidas medidas de resumo. Ela é a soma de todos os valores divididos pelo número de observações. Representa um ponto central dos dados, ou seja, um ponto de equilíbrio.\n",
    "\n",
    "\n",
    "# $$\\mu = \\frac 1n\\sum_{i=1}^{n}X_i = \\frac{X_1 + X_2 + ... + X_n}{n}$$\n",
    "\n",
    "Onde:\n",
    "\n",
    "$n$ = número de observações (registros)\n",
    "\n",
    "$X_i$ = valor da i-ésima observação (registro)"
   ]
  },
  {
   "cell_type": "markdown",
   "metadata": {
    "id": "pEGy7hWUBa7e"
   },
   "source": [
    "### <font color=\"#E23155\" face=\"Verdana\">Solução:</font>"
   ]
  },
  {
   "cell_type": "markdown",
   "metadata": {
    "id": "7U1yQ0EYpnLo"
   },
   "source": [
    "> **Documentações:**\n",
    ">\n",
    "> - [**mean**](https://www.rdocumentation.org/packages/base/versions/3.6.2/topics/mean)\n",
    "> - [**geom_vline**](https://ggplot2.tidyverse.org/reference/geom_abline.html)"
   ]
  },
  {
   "cell_type": "code",
   "execution_count": null,
   "metadata": {
    "colab": {
     "base_uri": "https://localhost:8080/",
     "height": 368
    },
    "id": "HiMbXaOv9TdS",
    "outputId": "fceed017-fcab-4564-eabb-da244cdeec20",
    "vscode": {
     "languageId": "r"
    }
   },
   "outputs": [],
   "source": []
  },
  {
   "cell_type": "code",
   "execution_count": null,
   "metadata": {
    "colab": {
     "base_uri": "https://localhost:8080/",
     "height": 34
    },
    "id": "UJH6qdT7IxHW",
    "outputId": "20586b10-06d2-4cfe-8c30-41a4126964b2",
    "vscode": {
     "languageId": "r"
    }
   },
   "outputs": [],
   "source": []
  },
  {
   "cell_type": "code",
   "execution_count": null,
   "metadata": {
    "colab": {
     "base_uri": "https://localhost:8080/",
     "height": 164
    },
    "id": "VDAwK90vCUlr",
    "outputId": "9f61cb13-917b-477a-ef1e-b9d0b3ec5a5c",
    "vscode": {
     "languageId": "r"
    }
   },
   "outputs": [],
   "source": [
    "media_entrega <- ...\n",
    "media_entrega"
   ]
  },
  {
   "cell_type": "markdown",
   "metadata": {
    "id": "CEjkyUXIIfFw"
   },
   "source": [
    "#### ***A média é sempre a melhor forma de resumir os dados***\n",
    "\n",
    "A resposta é **não**! Por ser um ponto de equilíbrio, em algumas análises ela pode não ser a forma mais correta de indicar a tendência central.\n",
    "\n",
    "Isto porque ela é muito influenciada pelos extremos da distribuição. Entretanto, com outras informações aliadas à média podemos tirar boas conclusões e investigar se precisamos ou não de algum tratamento e/ou transformação do dado."
   ]
  },
  {
   "cell_type": "code",
   "execution_count": null,
   "metadata": {
    "colab": {
     "base_uri": "https://localhost:8080/",
     "height": 412
    },
    "id": "Accyy0mhMkX7",
    "outputId": "3d3dc2d4-eeef-4c27-8f9b-6f31884a8393",
    "vscode": {
     "languageId": "r"
    }
   },
   "outputs": [],
   "source": [
    "media_entrega_cat <- ...\n",
    "media_entrega_cat"
   ]
  },
  {
   "cell_type": "code",
   "execution_count": null,
   "metadata": {
    "colab": {
     "base_uri": "https://localhost:8080/",
     "height": 497
    },
    "id": "eDhmOJdhLnYV",
    "outputId": "ecb30c10-3944-4b03-b2bc-2b95a6f20782",
    "vscode": {
     "languageId": "r"
    }
   },
   "outputs": [],
   "source": [
    "ggplot() +\n",
    "  geom_col(data = ..., aes(x = ..., y = )) +\n",
    "  geom_vline(data = ..., aes(xintercept = ...), color=\"red\") +\n",
    "  tema"
   ]
  },
  {
   "cell_type": "markdown",
   "metadata": {
    "id": "2AaMQbejLmiN"
   },
   "source": [
    "Como a empresa não possuia informações precisas sobre como os tempos de entrega variam entre as categorias de produtos, isso dificultava a definição de estimativas para os clientes, gerando frustrações quando o tempo real de entrega não corresponde ao esperado.\n",
    "\n",
    "Aqui conseguimos apontar os gargalos e quais as categorias que precisam de atenção, seja pela dificuldade de transporte ou outros problemas."
   ]
  },
  {
   "cell_type": "markdown",
   "metadata": {
    "id": "3eTJNMvHF6tV"
   },
   "source": [
    "## **3.2 Aplicando a mediana na investigação dos dados**\n",
    "\n",
    "---\n",
    "\n"
   ]
  },
  {
   "cell_type": "markdown",
   "metadata": {
    "id": "X-FS9vP1F6tW"
   },
   "source": [
    "### <font color=\"#E23155\" face=\"Verdana\">Demanda 5: Vendas de eletrônicos na região Nordeste</font>"
   ]
  },
  {
   "cell_type": "markdown",
   "metadata": {
    "id": "Kxcu8QkYF6tX"
   },
   "source": [
    "Para nossa nova demanda, a divisão da equipe de marketing e vendas que cuida das vendas no Nordeste está buscando investigar o comportamento dos consumidores nessa área, devido ao crescimento significativo nas vendas de **Eletrônicos**. A equipe deseja entender melhor a distribuição dos valores de vendas para ajustar sua estratégia de preços e campanhas.\n",
    "\n",
    "Embora a média das vendas de eletrônicos forneça uma visão geral, ela pode ser influenciada por valores extremos, como compras muito altas ou muito baixas.\n",
    "\n",
    "Para capturar um retrato mais representativo do comportamento típico dos consumidores qual medida podemos utilizar?"
   ]
  },
  {
   "cell_type": "markdown",
   "metadata": {
    "id": "ZqZ0J6WFF6tX"
   },
   "source": [
    "### **Mediana ($M_d$)**\n",
    "\n",
    "A **mediana** representa o valor central de um conjunto de dados, passando o número que divide um conjunto de dados exatamente ao meio. Para obtermos a mediana de uma conjunto de dados devemos proceder da seguinte maneira:\n",
    "\n",
    "1. Ordenar o conjunto de dados;\n",
    "2. Identificar o número de observações (registros) do conjunto de dados ($n$);\n",
    "3. Identificar o elemento mediano:\n",
    "\n",
    "$$ Elemento_{Md} = \\left\\{\\begin{matrix}\n",
    "\\frac{n+1}2 & ,se \\ n \\ for \\ ímpar \\\\\n",
    " &  \\\\\n",
    "\\frac{n}2 & ,se \\ n \\ for \\ par \\\\\n",
    "\\end{matrix}\\right.$$\n",
    "\n",
    "&nbsp;\n",
    "\n",
    "4. Obter a mediana:\n",
    "\n",
    "$$ M_d = \\left\\{\\begin{matrix}\n",
    "X_{Elemento_{Md}} & ,se \\ n \\ for \\ ímpar \\\\\n",
    " &  \\\\\n",
    "\\frac{X_{Elemento_{Md}} + X_{Elemento_{Md}+1}}2 & ,se \\ n \\ for \\ par \\\\\n",
    "\\end{matrix}\\right.$$\n",
    "\n",
    "&nbsp;"
   ]
  },
  {
   "cell_type": "markdown",
   "metadata": {
    "id": "uSQn82URF6tY"
   },
   "source": [
    "### <font color=\"#E23155\" face=\"Verdana\">Solução:</font>"
   ]
  },
  {
   "cell_type": "markdown",
   "metadata": {
    "id": "Oq-Q0ikKrByN"
   },
   "source": [
    "> **Documentações:**\n",
    ">\n",
    "> - [**median**](https://www.rdocumentation.org/packages/stats/versions/3.6.2/topics/median)\n",
    "> - [**hist**](https://www.rdocumentation.org/packages/graphics/versions/3.6.2/topics/hist)"
   ]
  },
  {
   "cell_type": "markdown",
   "metadata": {
    "id": "y8Syux8_w2sP"
   },
   "source": [
    "##### **Usando a fórmula**"
   ]
  },
  {
   "cell_type": "code",
   "execution_count": null,
   "metadata": {
    "id": "NyBFnkiq5DCp",
    "vscode": {
     "languageId": "r"
    }
   },
   "outputs": [],
   "source": [
    "dados_nordeste <- ..."
   ]
  },
  {
   "cell_type": "code",
   "execution_count": null,
   "metadata": {
    "colab": {
     "base_uri": "https://localhost:8080/",
     "height": 34
    },
    "id": "VEJGleCE6NzI",
    "outputId": "2885eaf9-262f-4ed0-c02d-22aa057ad99a",
    "vscode": {
     "languageId": "r"
    }
   },
   "outputs": [],
   "source": []
  },
  {
   "cell_type": "code",
   "execution_count": null,
   "metadata": {
    "colab": {
     "base_uri": "https://localhost:8080/",
     "height": 34
    },
    "id": "RJxpFX6Dv3sr",
    "outputId": "6bd7211e-d768-4419-da0d-c9d1c4753b4e",
    "vscode": {
     "languageId": "r"
    }
   },
   "outputs": [],
   "source": [
    "elemento_md <- ...\n",
    "elemento_md"
   ]
  },
  {
   "cell_type": "code",
   "execution_count": null,
   "metadata": {
    "colab": {
     "base_uri": "https://localhost:8080/",
     "height": 34
    },
    "id": "ZhLmhrv3v3mQ",
    "outputId": "7469ac44-d550-47f1-c402-dc2f7cd3b283",
    "vscode": {
     "languageId": "r"
    }
   },
   "outputs": [],
   "source": []
  },
  {
   "cell_type": "markdown",
   "metadata": {
    "id": "biyjJ35GxBTp"
   },
   "source": [
    "##### **Usando a função `median()`**"
   ]
  },
  {
   "cell_type": "code",
   "execution_count": null,
   "metadata": {
    "colab": {
     "base_uri": "https://localhost:8080/",
     "height": 34
    },
    "id": "MA3_M1OUv3fH",
    "outputId": "46ff7cb8-cc0b-4345-d06a-809981ddcee6",
    "vscode": {
     "languageId": "r"
    }
   },
   "outputs": [],
   "source": []
  },
  {
   "cell_type": "code",
   "execution_count": null,
   "metadata": {
    "colab": {
     "base_uri": "https://localhost:8080/",
     "height": 34
    },
    "id": "pkWA3T_o0D7W",
    "outputId": "3bee22af-e0ce-4c75-f3c7-201e8c8d2834",
    "vscode": {
     "languageId": "r"
    }
   },
   "outputs": [],
   "source": []
  },
  {
   "cell_type": "markdown",
   "metadata": {
    "id": "6XQ_wvXNn6lH"
   },
   "source": [
    "#### ***Por que usar a mediana ao invés da média neste caso?***\n",
    "\n",
    "Porque a **média** pode ser influenciada por valores extremos, enquanto a **mediana** reflete o ponto central das vendas, oferecendo uma medida de tendência central mais adequada em casos de dados assimétricos.\n",
    "\n",
    "A mediana indica aqui que metade dos clientes gasta até, aproximadamente, R\\$ 2.990,00 em eletrônicos, enquanto a média (R$ 3.970,00) sugere que há vendas bastante altas puxando o valor médio para cima.\n",
    "\n",
    "---\n",
    "\n"
   ]
  },
  {
   "cell_type": "markdown",
   "metadata": {
    "id": "-Q5LfoEs0yJe"
   },
   "source": [
    "##### **Visualizando diferença graficamente**\n",
    "\n",
    "Para visualizar essa discrepância entre os dados, vamos criar um gráfico chamado **histograma**. Ele é uma espécie de gráfico de barras que demonstra uma distribuição de frequências.\n",
    "\n",
    "No histograma, a base de cada uma das barras representa uma classe e a altura representa a quantidade ou frequência absoluta com que o valor de cada classe ocorre."
   ]
  },
  {
   "cell_type": "code",
   "execution_count": null,
   "metadata": {
    "colab": {
     "base_uri": "https://localhost:8080/",
     "height": 497
    },
    "id": "LKZQ5KTE0Jcm",
    "outputId": "0105c231-f34e-4cac-b346-ca061e735c88",
    "vscode": {
     "languageId": "r"
    }
   },
   "outputs": [],
   "source": []
  },
  {
   "cell_type": "markdown",
   "metadata": {
    "id": "4gFKBdzpCVV5"
   },
   "source": [
    "Como os dados de vendas de eletrônicos tiveram valores muito altos, o que elevou a média para **uma diferença de quase R$1.000,00** em relação à mediana, a mediana oferece uma métrica mais confiável para entender o comportamento típico do consumidor.\n",
    "\n",
    "Neste caso, a mediana seria o ideal para reportar ao time de vendas como valor esperado de compra das pessoas clientes da empresa na Região Nordeste para produtos eletrônicos.\n",
    "\n",
    "Essa informação pode auxiliar em estratégias de vendas como, por exemplo:\n",
    "\n",
    "1. Criar promoções em produtos na faixa da mediana para atrair mais consumidores \"típicos\".\n",
    "2. Destacar os produtos de alto valor nas campanhas de marketing para atingir clientes dispostos a gastar mais."
   ]
  },
  {
   "cell_type": "markdown",
   "metadata": {
    "id": "piU8-05u8JXA"
   },
   "source": [
    "Como desafio, que tal você analisar também as medianas para os diferentes sexos biológicos?"
   ]
  },
  {
   "cell_type": "markdown",
   "metadata": {
    "id": "OgyD_uXKGUO7"
   },
   "source": [
    "## **3.3 Identificando os valores mais frequentes**\n",
    "\n",
    "---\n",
    "\n"
   ]
  },
  {
   "cell_type": "markdown",
   "metadata": {
    "id": "fTuz8E1kGUO7"
   },
   "source": [
    "### <font color=\"#E23155\" face=\"Verdana\">Demanda 6: Campanha promocional de livros</font>"
   ]
  },
  {
   "cell_type": "markdown",
   "metadata": {
    "id": "xkDhiW0gGUO7"
   },
   "source": [
    "A equipe de marketing e vendas da empresa em que estamos prestando consultoria, está planejando uma nova campanha promocional de \"Pague X e Leve Y Livros\". Para definir a quantidade de livros a ofertar no pacote, eles decidiram basear-se na quantidade de livros mais frequentemente comprada pelos clientes. Isso permite criar uma promoção direcionada ao comportamento mais comum dos consumidores.\n",
    "\n",
    "Precisamos então identificar qual ou quais quantidades de livro são mais frequentes para a campanha, maximizando a relevância e atratividade da promoção.\n"
   ]
  },
  {
   "cell_type": "markdown",
   "metadata": {
    "id": "pBKYE-DFGUO8"
   },
   "source": [
    "### **Moda ($M_o$)**\n",
    "\n",
    "A **moda** representa o valor mais frequente de um conjunto de dados. Para obtermos a moda, basta observar a frequência com que os valores aparecem no conjunto de dados.\n",
    "\n",
    "Esta medida é bastante utilizada para dados qualitativos, mas também tem aplicações em dados numéricos como em nosso exemplo."
   ]
  },
  {
   "cell_type": "markdown",
   "metadata": {
    "id": "AUeuhSLWGUO8"
   },
   "source": [
    "### <font color=\"#E23155\" face=\"Verdana\">Solução:</font>"
   ]
  },
  {
   "cell_type": "code",
   "execution_count": null,
   "metadata": {
    "colab": {
     "base_uri": "https://localhost:8080/",
     "height": 368
    },
    "id": "0KtgqFrsH-0F",
    "outputId": "b39f8fb4-d1d3-4494-d8bd-c7e56f636ffa",
    "vscode": {
     "languageId": "r"
    }
   },
   "outputs": [],
   "source": []
  },
  {
   "cell_type": "markdown",
   "metadata": {
    "id": "4Vo2AwjpQrdz"
   },
   "source": [
    "Existem $n$ formas de encontrar a moda de uma variável. Em dados qualitativos, podemos contar, por exemplo, as ocorrências e pegar a que mais se repete. Já fizemos isso por meio das distribuições de frequência para uma variável."
   ]
  },
  {
   "cell_type": "code",
   "execution_count": null,
   "metadata": {
    "colab": {
     "base_uri": "https://localhost:8080/",
     "height": 255
    },
    "id": "8AqnCa52tIsB",
    "outputId": "d014198e-738e-4bc5-d27f-dd40035fc6b4",
    "vscode": {
     "languageId": "r"
    }
   },
   "outputs": [],
   "source": []
  },
  {
   "cell_type": "markdown",
   "metadata": {
    "id": "lZGrtql5GUO-"
   },
   "source": [
    "#### ***Quais cuidados devemos ter com a moda?***\n",
    "\n",
    "Por ser o valor mais frequente em um conjunto de dados, em dados numéricos é possível que haja repetições e, por isso, teremos mais de 1 moda (multimodalidade).\n",
    "\n",
    "É importante decidir como lidar com esses casos para atingir o comportamento desejado.\n"
   ]
  },
  {
   "cell_type": "markdown",
   "metadata": {
    "id": "8FGr6tEoRWO_"
   },
   "source": [
    "A outra forma, utilizando dados quantitativos e/ou qualitativos é por meio também da contagem para cada ocorrência, mas filtrando os máximos ao final, para verificar se a amostra possui uma única moda ou mais."
   ]
  },
  {
   "cell_type": "code",
   "execution_count": null,
   "metadata": {
    "colab": {
     "base_uri": "https://localhost:8080/",
     "height": 161
    },
    "id": "vwquFyntQlIV",
    "outputId": "45425954-181f-4f89-855a-79d928bf6c5c",
    "vscode": {
     "languageId": "r"
    }
   },
   "outputs": [],
   "source": []
  },
  {
   "cell_type": "markdown",
   "metadata": {
    "id": "Y0w4RhnXGUO-"
   },
   "source": [
    "Conseguimos observar aqui que temos **2 modas** na quantidade de livros vendidos (**bimodal**) e, portanto, podemos reportar esse resultado ficando a cargo da empresa qual campanha realizar.\n",
    "\n",
    "Será que vale a pena para menos livros ou para mais livros? Ou seria melhor 2 campanhas como \"Pague 2 e Leve 3\" e \"Pague 4 e leve 6\", verificando qual converte mais clientes e gera mais vendas?"
   ]
  },
  {
   "cell_type": "markdown",
   "metadata": {
    "id": "7IHJtXN9VPqZ"
   },
   "source": [
    "## **3.4 Compreendendo a relação entre média, mediana e moda**\n",
    "\n",
    "---\n",
    "\n"
   ]
  },
  {
   "cell_type": "markdown",
   "metadata": {
    "id": "wZKsAWnJVPqa"
   },
   "source": [
    "### <font color=\"#E23155\" face=\"Verdana\">Demanda 7: Investigando as avaliações e sua relação com o tempo de entrega</font>"
   ]
  },
  {
   "cell_type": "markdown",
   "metadata": {
    "id": "cLhMh2hUVPqa"
   },
   "source": [
    "A equipe de marketing e vendas da empresa recebeu feedbacks de clientes sobre o tempo de entrega. Eles notaram que avaliações \"Ótima\" (nota 5) podem ter certa  relação com o tempo de entrega.\n",
    "\n",
    "A hipótese é que clientes mais satisfeitos (nota 5) tendem a ter um tempo de entrega mais curto, mas isso só pode ser confirmado analisando os dados.\n",
    "Com isso, queremos explorar:\n",
    "* As distribuições do tempo de entrega e o que as medidas de tendência central podem nos informar.\n",
    "* Se o comportamento das avaliações nota 5 realmente indica que entregas mais rápidas são mais apreciadas pelos clientes.\n"
   ]
  },
  {
   "cell_type": "markdown",
   "metadata": {
    "id": "COSVjfH7VPqa"
   },
   "source": [
    "### <font color=\"#E23155\" face=\"Verdana\">Solução:</font>"
   ]
  },
  {
   "cell_type": "markdown",
   "metadata": {
    "id": "HgjliwLir6Sj"
   },
   "source": [
    "> **Documentações:**\n",
    ">\n",
    "> - [**geom_histogram**](https://www.rdocumentation.org/packages/stats/versions/3.6.2/topics/median)\n",
    "> - [**geom_density**](https://www.rdocumentation.org/packages/graphics/versions/3.6.2/topics/hist)\n",
    "> - [**table**](https://www.rdocumentation.org/packages/base/versions/3.6.2/topics/table)\n",
    "> - [**sort**](https://www.rdocumentation.org/packages/base/versions/3.6.2/topics/sort)\n",
    "> - [**names**](https://www.rdocumentation.org/packages/base/versions/3.6.2/topics/names)\n",
    "> - [**as.numeric**](https://www.rdocumentation.org/packages/base/versions/3.6.2/topics/numeric)"
   ]
  },
  {
   "cell_type": "markdown",
   "metadata": {
    "id": "5RKfausCVPqa"
   },
   "source": [
    "Faremos uma análise em duas etapas:\n",
    "\n",
    "1. **Distribuição do tempo de entrega:** calcularemos média, mediana e moda e visualizaremos a curva de densidade.\n",
    "2. **Distribuição para avaliações nota 5:** repetiremos o processo para o caso, comparando os resultados com a distribuição geral."
   ]
  },
  {
   "cell_type": "markdown",
   "metadata": {
    "id": "ZuaF-EgIb6zq"
   },
   "source": [
    "### Relação entre média, mediana e moda:\n",
    "\n",
    "Investigar a relação entre as medidas de tendência central pode ser bastante útil para identificar se uma variável é simétrica ou assimétrica, se precisa de algum tipo de transformação ou se é uma forte candidata a ter \"outliers\".\n",
    "\n",
    "Abaixo, temos 3 tipos de comportamentos e como as estatísticas se posicionam em cada uma delas:\n",
    "\n",
    "![texto do link](https://github.com/alura-cursos/estatistica-r-frequencias-medidas/blob/main/imagens/outros/relacao_media_mediana_moda.png?raw=true)\n"
   ]
  },
  {
   "cell_type": "markdown",
   "metadata": {
    "id": "F5yXOt4MVPqb"
   },
   "source": [
    "Vamos começar com a distribuição do tempo de entrega. Vou primeiro construir um histograma com uma curva de densidade, semelhante a um dos exemplos de cima para observar o comportamento dos tempos de entrega da empresa."
   ]
  },
  {
   "cell_type": "code",
   "execution_count": null,
   "metadata": {
    "colab": {
     "base_uri": "https://localhost:8080/",
     "height": 497
    },
    "id": "ezeH9hGcVPqb",
    "outputId": "ec1cb6a4-c9f0-4106-d5a1-5ef5ee6efffe",
    "vscode": {
     "languageId": "r"
    }
   },
   "outputs": [],
   "source": [
    "ggplot(..., aes(x = ..., y = ...)) +\n",
    "  geom_histogram(bins = 21, alpha = 0.6) +\n",
    "  geom_density(color = \"blue\", linewidth = 1, adjust = 2) +\n",
    "  labs(title = \"Distribuição do Tempo de Entrega\", x = \"Tempo de Entrega (dias)\", y = \"Densidade\") +\n",
    "  tema"
   ]
  },
  {
   "cell_type": "code",
   "execution_count": null,
   "metadata": {
    "colab": {
     "base_uri": "https://localhost:8080/",
     "height": 34
    },
    "id": "AWRJdZainSBx",
    "outputId": "8e7a42de-31a1-4e41-8e47-14dde25b26b6",
    "vscode": {
     "languageId": "r"
    }
   },
   "outputs": [],
   "source": []
  },
  {
   "cell_type": "code",
   "execution_count": null,
   "metadata": {
    "colab": {
     "base_uri": "https://localhost:8080/",
     "height": 129
    },
    "id": "In-4gJlLlR8e",
    "outputId": "aad13260-1076-4a65-a5a3-5bfddae04599",
    "vscode": {
     "languageId": "r"
    }
   },
   "outputs": [],
   "source": [
    "tempo_entrega_resumo <- ...\n",
    "tempo_entrega_resumo"
   ]
  },
  {
   "cell_type": "markdown",
   "metadata": {
    "id": "y_D3cknxiQpF"
   },
   "source": [
    "A análise inicial revelou que o tempo de entrega segue uma **distribuição normal simétrica**.\n",
    "\n",
    "Precisamos agora investigar se a distribuição muda para tempos de entrega com vendas com notas de satisfação 5.\n",
    "\n",
    "Nossa hipótese é que esta distribuição sera apresentada com uma **curva assimétrica à direita**. O que pode sugerir que entregas mais rápidas podem estar relacionadas a maior satisfação do cliente."
   ]
  },
  {
   "cell_type": "code",
   "execution_count": null,
   "metadata": {
    "id": "BGfdPZcwO4mN",
    "vscode": {
     "languageId": "r"
    }
   },
   "outputs": [],
   "source": [
    "dados_nota_5 <- ..."
   ]
  },
  {
   "cell_type": "code",
   "execution_count": null,
   "metadata": {
    "colab": {
     "base_uri": "https://localhost:8080/",
     "height": 497
    },
    "id": "KXpMw5zOb6Kt",
    "outputId": "977df2b9-312b-42bd-8261-d3f15eb58cbf",
    "vscode": {
     "languageId": "r"
    }
   },
   "outputs": [],
   "source": []
  },
  {
   "cell_type": "code",
   "execution_count": null,
   "metadata": {
    "colab": {
     "base_uri": "https://localhost:8080/",
     "height": 129
    },
    "id": "MUpSUETJVPqd",
    "outputId": "37864b1a-8d22-49ec-bc9d-65a9a46da662",
    "vscode": {
     "languageId": "r"
    }
   },
   "outputs": [],
   "source": [
    "tempo_entrega_nota5_resumo <- ...\n",
    "tempo_entrega_nota5_resumo"
   ]
  },
  {
   "cell_type": "markdown",
   "metadata": {
    "id": "-En4I7vmVPqd"
   },
   "source": [
    "Os dados confirmam que entregas mais rápidas estão associadas a avaliações nota 5, embora algumas poucas entregas mais longas ainda recebam notas altas. Esses insights destacam a importância de **manter prazos curtos de entrega para maximizar a satisfação dos clientes**.\n",
    "\n",
    "Com essa análise, a equipe de marketing e vendas aliada à logística pode usar os resultados para:\n",
    "\n",
    "1. Otimizar rotas e processos de entrega para reduzir o tempo de entrega médio.\n",
    "2. Diferenciar campanhas promocionais com base na promessa de entregas rápidas."
   ]
  },
  {
   "cell_type": "markdown",
   "metadata": {
    "id": "BtrEyuh8N91P"
   },
   "source": [
    "\n",
    "# **4. Investigando os dados dos colaboradores**\n",
    "\n",
    "---\n",
    "\n"
   ]
  },
  {
   "cell_type": "markdown",
   "metadata": {
    "id": "znHyp5NKoAdt"
   },
   "source": [
    "Agora, vamos partir para análises das remunerações dos colaboradores, a pedido do setor do RH e financeiro da empresa da empresa de e-commerce.\n",
    "\n",
    "Vamos prosseguir utilizando alguns conceitos da estatística para investigar os dados que trazem informações sobre a remuneração dos colaboradores, passando pelos salários, desempenho atual. Vamos trazer alguns insights analisando criticamente, por exemplo, a equidade salarial entre cargos e gênero e respondendo a perguntas do setor do RH e financeiro da empresa.\n"
   ]
  },
  {
   "cell_type": "markdown",
   "metadata": {
    "id": "tgwmSW0cWASj"
   },
   "source": [
    "## **4.1 Criando o histograma de salários com amplitude fixa**\n",
    "\n",
    "---\n",
    "\n"
   ]
  },
  {
   "cell_type": "markdown",
   "metadata": {
    "id": "ifTCJHd9X7fT"
   },
   "source": [
    "### <font color=\"#E23155\" face=\"Verdana\">Demanda 8: Iniciando as análises da remuneração dos colaboradores\n",
    "\n",
    "</font>"
   ]
  },
  {
   "cell_type": "markdown",
   "metadata": {
    "id": "RhDGgTYpX7fU"
   },
   "source": [
    "A equipe de RH e financeiro da empresa de e-commerce que estamos prestando consultoria quer investigar a distribuição dos salários dos colaboradores para identificar possíveis faixas salariais e verificar a concentração de colaboradores em determinados intervalos. Essas informações serão usadas para ajustar benefícios, analisar disparidades salariais e planejar estratégias de retenção de talentos.\n",
    "\n",
    "Nosso objetivo, é ler a base com os dados e criar uma distribuição de frequências com base em classes de salários utilizando os conceitos da estatística tanto para visualizar os dados em um histograma quanto para identificar as faixas salariais mais representativas."
   ]
  },
  {
   "cell_type": "markdown",
   "metadata": {
    "id": "C52oSdLKpw2H"
   },
   "source": [
    "### <font color=\"#E23155\" face=\"Verdana\">Solução:</font>"
   ]
  },
  {
   "cell_type": "markdown",
   "metadata": {
    "id": "lOrr54RZpw2H"
   },
   "source": [
    "> **Documentações:**\n",
    ">\n",
    "> - [**cut**](https://www.rdocumentation.org/packages/base/versions/3.6.2/topics/cut)"
   ]
  },
  {
   "cell_type": "markdown",
   "metadata": {
    "id": "NG6babWFQUwU"
   },
   "source": [
    "Para calcular o número de classes utilizaremos a **Regra de Sturges** para em sequência segmentar os salários em faixas e calcular a frequência absoluta e relativa de cada faixa. Por fim, construiremos um histograma para visualizar os dados."
   ]
  },
  {
   "cell_type": "markdown",
   "metadata": {
    "id": "ijJNCPgaQ0qq"
   },
   "source": [
    "#### **Definindo o número de classes**"
   ]
  },
  {
   "cell_type": "markdown",
   "metadata": {
    "id": "NGZkPMVBpw2G"
   },
   "source": [
    "##### **Regra de Sturges**\n",
    "\n",
    "Calcula o número de classes de uma distribuição com base no tamanho da amostra:\n",
    "\n",
    "# $$k = 1 + \\frac {10}{3}\\log_{10}n$$\n",
    "\n",
    "onde,\n",
    "\n",
    "$k$ = número de classes\n",
    "\n",
    "$n$ = número de observações.\n",
    "\n"
   ]
  },
  {
   "cell_type": "code",
   "execution_count": null,
   "metadata": {
    "colab": {
     "base_uri": "https://localhost:8080/",
     "height": 286
    },
    "id": "0Yxasm_opw2H",
    "outputId": "fd4aab3b-ff7b-4007-d6e0-cb62859a4efe",
    "vscode": {
     "languageId": "r"
    }
   },
   "outputs": [],
   "source": [
    "colaboradores <- read.csv(\"https://raw.githubusercontent.com/alura-cursos/estatistica-r-frequencias-medidas/refs/heads/main/dados/colaboradores.csv\")\n",
    "head(colaboradores)"
   ]
  },
  {
   "cell_type": "code",
   "execution_count": null,
   "metadata": {
    "colab": {
     "base_uri": "https://localhost:8080/",
     "height": 34
    },
    "id": "ADX7_qdBpw2H",
    "outputId": "9f9de57e-bcd5-4b52-b121-706cd651cb2f",
    "vscode": {
     "languageId": "r"
    }
   },
   "outputs": [],
   "source": [
    "n <- ...\n",
    "n"
   ]
  },
  {
   "cell_type": "code",
   "execution_count": null,
   "metadata": {
    "colab": {
     "base_uri": "https://localhost:8080/",
     "height": 34
    },
    "id": "Pf7ssSfuRw0E",
    "outputId": "d8bffd49-3c8f-465d-c5cf-f5fcb45843b6",
    "vscode": {
     "languageId": "r"
    }
   },
   "outputs": [],
   "source": [
    "k <- ...\n",
    "k"
   ]
  },
  {
   "cell_type": "code",
   "execution_count": null,
   "metadata": {
    "colab": {
     "base_uri": "https://localhost:8080/",
     "height": 34
    },
    "id": "eUqt0hVxRwq9",
    "outputId": "9a7beed5-05dc-4142-f97c-b2534a5624ec",
    "vscode": {
     "languageId": "r"
    }
   },
   "outputs": [],
   "source": [
    "k <- round(k)\n",
    "k"
   ]
  },
  {
   "cell_type": "markdown",
   "metadata": {
    "id": "diDYSX53SHyR"
   },
   "source": [
    "#### **Criando a tabela de frequências**"
   ]
  },
  {
   "cell_type": "code",
   "execution_count": null,
   "metadata": {
    "colab": {
     "base_uri": "https://localhost:8080/",
     "height": 443
    },
    "id": "8rRoGoPTSO8N",
    "outputId": "241d8a19-e9b7-439f-c781-6fa2ef0cd07a",
    "vscode": {
     "languageId": "r"
    }
   },
   "outputs": [],
   "source": [
    "# Definindo os limites das classes\n",
    "faixas <- ...\n",
    "\n",
    "faixas"
   ]
  },
  {
   "cell_type": "code",
   "execution_count": null,
   "metadata": {
    "colab": {
     "base_uri": "https://localhost:8080/",
     "height": 443
    },
    "id": "VgBmVaQcSO3_",
    "outputId": "3b5bb4ce-7e21-43ad-ed84-9527b4b64a96",
    "vscode": {
     "languageId": "r"
    }
   },
   "outputs": [],
   "source": [
    "tabela_frequencias <- ...\n",
    "\n",
    "tabela_frequencias"
   ]
  },
  {
   "cell_type": "markdown",
   "metadata": {
    "id": "Yfw4zKmjW3HJ"
   },
   "source": [
    "A tabela de frequências mostra os intervalos de salários (faixas) e a concentração de colaboradores em cada uma.\n",
    "\n",
    "* Podemos observar que mais da metade dos colaboradores (52,5%) são remunerados dentro da 1ª faixa (de R\\$ 1.890,00 até R\\$4.080,00).\n",
    "* Proporção de Colaboradores: A coluna de porcentagem fornece insights sobre a distribuição relativa dos colaboradores, útil para comparações."
   ]
  },
  {
   "cell_type": "markdown",
   "metadata": {
    "id": "WC6FBjJlW5ar"
   },
   "source": [
    "#### **Construindo o histograma**"
   ]
  },
  {
   "cell_type": "code",
   "execution_count": null,
   "metadata": {
    "colab": {
     "base_uri": "https://localhost:8080/",
     "height": 497
    },
    "id": "oPk0xGKwSOzW",
    "outputId": "245142fa-226e-419e-9b2a-4bd7c9028060",
    "vscode": {
     "languageId": "r"
    }
   },
   "outputs": [],
   "source": []
  },
  {
   "cell_type": "code",
   "execution_count": null,
   "metadata": {
    "colab": {
     "base_uri": "https://localhost:8080/",
     "height": 497
    },
    "id": "bpTf8gDhcdYw",
    "outputId": "7ecd14fd-3d33-48bd-e820-a2fa96b796ca",
    "vscode": {
     "languageId": "r"
    }
   },
   "outputs": [],
   "source": [
    "ggplot(..., aes(x = ..., y = ...)) +\n",
    "  geom_histogram(bins = ..., boundary = ..., alpha = 0.6) +\n",
    "  geom_density(color = \"blue\") +\n",
    "  labs(title = \"Histograma dos Salários dos Colaboradores\", x = \"Remuneração (R$)\", y = \"Densidade\") +\n",
    "  tema"
   ]
  },
  {
   "cell_type": "markdown",
   "metadata": {
    "id": "a1LZXjycWmv4"
   },
   "source": [
    "O histograma apresenta a distribuição visual da nossa tabela de frequência. Conseguimos notar um comportamento assimétrico à direita, como esperado para salários em uma empresa.\n",
    "Notamos que a distribuição de salários está com mais de 95% das remunerações até R\\$ 10.000,00."
   ]
  },
  {
   "cell_type": "markdown",
   "metadata": {
    "id": "kdkt1BPYl29O"
   },
   "source": [
    "## **4.2 Avaliando os salários pelas medidas separatrizes**\n",
    "\n",
    "---\n",
    "\n"
   ]
  },
  {
   "cell_type": "markdown",
   "metadata": {
    "id": "amnGvIsMl29O"
   },
   "source": [
    "### <font color=\"#E23155\" face=\"Verdana\">Demanda 9: Análise de remuneração dos colaboradores</font>"
   ]
  },
  {
   "cell_type": "markdown",
   "metadata": {
    "id": "dvhcjvHVl29O"
   },
   "source": [
    "Agora, a equipe de RH e financeiro da empresa quer entender melhor a distribuição dos salários dos colaboradores dentro de faixas específicas. Há um interesse em identificar faixas salariais e entender se a remuneração das pessoas coordenadoras estão dentro dos 99% maiores salários.\n",
    "\n",
    "Como calcular e interpretar esses dados para gerar insights úteis ao RH e ao financeiro? Além disso, como comunicar essas análises de forma clara para orientar decisões estratégicas?"
   ]
  },
  {
   "cell_type": "markdown",
   "metadata": {
    "id": "qcWigRz7l29P"
   },
   "source": [
    "### **Quartis, decis e percentis**\n",
    "\n",
    "São medidas de posição semelhantes à mediana, embora não sejam medidas de tendência central. Como se sabe, a mediana divide a distribuição em duas partes iguais quanto ao número de elementos de cada parte. Para essas 3 medidas temos:\n",
    "\n",
    "* **Quartis:** Dividem os dados em 4 partes iguais de acordo com o número de registros, sendo bastante importante para identificar faixas.\n",
    "\n",
    "* **Decis:** Dividem os dados em 10 partes iguais.\n",
    "\n",
    "* **Percentis:** Dividem os dados em 100 partes iguais, que ajuda em análises mais granulares, como os 5% ou 1% maiores valores.\n",
    "\n"
   ]
  },
  {
   "cell_type": "markdown",
   "metadata": {
    "id": "FhS6uDi6l29P"
   },
   "source": [
    "### <font color=\"#E23155\" face=\"Verdana\">Solução:</font>"
   ]
  },
  {
   "cell_type": "markdown",
   "metadata": {
    "id": "f7rNN5Pdl29P"
   },
   "source": [
    "> **Documentações:**\n",
    ">\n",
    "> - [**quantile**](https://www.rdocumentation.org/packages/stats/versions/3.6.2/topics/quantile)"
   ]
  },
  {
   "cell_type": "markdown",
   "metadata": {
    "id": "Qjv264kal29P"
   },
   "source": [
    "Para os salários, utilizaremos os quartis para observar as faixas salariais e o percentil acima de 99% para identificar se as pessoas coordenadoras estão entre os salários mais altos."
   ]
  },
  {
   "cell_type": "markdown",
   "metadata": {
    "id": "xdKC61VSl29P"
   },
   "source": [
    "#### **Calculando os quartis**"
   ]
  },
  {
   "cell_type": "code",
   "execution_count": null,
   "metadata": {
    "colab": {
     "base_uri": "https://localhost:8080/",
     "height": 129
    },
    "id": "eP4rplzal29P",
    "outputId": "57e2af6e-0d75-4435-ddd2-6ff44321894a",
    "vscode": {
     "languageId": "r"
    }
   },
   "outputs": [],
   "source": [
    "quartis <- ...\n",
    "quartis"
   ]
  },
  {
   "cell_type": "markdown",
   "metadata": {
    "id": "mPT3_ya7l29Q"
   },
   "source": [
    "#### **Visualizando os quartis em um Histograma**"
   ]
  },
  {
   "cell_type": "code",
   "execution_count": null,
   "metadata": {
    "colab": {
     "base_uri": "https://localhost:8080/",
     "height": 497
    },
    "id": "LlR-mwQQl29Q",
    "outputId": "4b914582-dc8f-47a9-c044-1ba1f61c18f0",
    "vscode": {
     "languageId": "r"
    }
   },
   "outputs": [],
   "source": [
    "ggplot(colaboradores, aes(x = remuneracao)) +\n",
    "  geom_histogram(binwidth = 500, alpha = 0.6) +\n",
    "  geom_vline(aes(xintercept = quartis$Q1), color = \"blue\", linetype = \"dashed\") +\n",
    "  geom_vline(aes(xintercept = quartis$Q2), color = \"blue\", linetype = \"dashed\") +\n",
    "  geom_vline(aes(xintercept = quartis$Q3), color = \"blue\", linetype = \"dashed\") +\n",
    "  labs(title = \"Distribuição dos Salários com Quartis\", x = \"Salários\", y = \"Frequência\") +\n",
    "  tema"
   ]
  },
  {
   "cell_type": "markdown",
   "metadata": {
    "id": "3tVChCBTJI5I"
   },
   "source": [
    "Com os quartis conseguimos dividir as faixas salariais em partes iguais. Aqui conseguimos observar que por conta dos altos salários dos cargos mais gerenciais da empresa, temos uma **distribuição mais assimétrica** da remuneração.\n",
    "\n",
    "O que é um comportamento esperado para salário: muitos recebem um valor base e poucos com altos salários."
   ]
  },
  {
   "cell_type": "markdown",
   "metadata": {
    "id": "ItsyswokNuMx"
   },
   "source": [
    "#### **Analisando os salários das pessoas coordenadoras**"
   ]
  },
  {
   "cell_type": "markdown",
   "metadata": {
    "id": "rRNOTHa6N2q3"
   },
   "source": [
    "Vamos prosseguir nossa investigação verificando se as pessoas coordenadoras (3º em hierarquia na nossa base) estão entre os 1% com maiores salários."
   ]
  },
  {
   "cell_type": "code",
   "execution_count": null,
   "metadata": {
    "colab": {
     "base_uri": "https://localhost:8080/",
     "height": 34
    },
    "id": "p8AOALuEKg5l",
    "outputId": "7b1521a8-ade0-4410-918f-311d829df03e",
    "vscode": {
     "languageId": "r"
    }
   },
   "outputs": [],
   "source": [
    "percentil_99 <- ...\n",
    "percentil_99"
   ]
  },
  {
   "cell_type": "code",
   "execution_count": null,
   "metadata": {
    "colab": {
     "base_uri": "https://localhost:8080/",
     "height": 34
    },
    "id": "DBZigIGxLAQ1",
    "outputId": "c17a70d6-8505-49ba-cd3c-99c2b1a47cc0",
    "vscode": {
     "languageId": "r"
    }
   },
   "outputs": [],
   "source": []
  },
  {
   "cell_type": "code",
   "execution_count": null,
   "metadata": {
    "colab": {
     "base_uri": "https://localhost:8080/",
     "height": 34
    },
    "id": "Djyd0dtPKnaq",
    "outputId": "1faf7c1f-105f-49e0-a3d3-5e59a7a80226",
    "vscode": {
     "languageId": "r"
    }
   },
   "outputs": [],
   "source": []
  },
  {
   "cell_type": "markdown",
   "metadata": {
    "id": "iV64x1evMMCV"
   },
   "source": [
    "Com isso, conseguimos comprovar que as pessoas coordenadoras estão entre os 1% que recebem maiores salários dentro da empresa. Podemos repassar essa informação para o RH e financeiro da empresa para averiguar se está dentro das políticas salariais. E, se possível, analisando mais perfis, eles poderão definir políticas de remuneração mais transparentes e alinhadas ao mercado."
   ]
  },
  {
   "cell_type": "markdown",
   "metadata": {
    "id": "rIsGNiO4Xftk"
   },
   "source": [
    "## **4.3 Classificando dados pelas medidas separatrizes**\n",
    "\n",
    "---\n",
    "\n"
   ]
  },
  {
   "cell_type": "markdown",
   "metadata": {
    "id": "GsyRWPQoXftk"
   },
   "source": [
    "### <font color=\"#E23155\" face=\"Verdana\">Demanda 10: Pesquisa de colaboradores mais jovens</font>"
   ]
  },
  {
   "cell_type": "markdown",
   "metadata": {
    "id": "0f_deKW9Xftk"
   },
   "source": [
    "Nesta nova demanda, a equipe de RH da empresa quer realizar uma pesquisa em torno das idades dos colaboradores. Isto porque a empresa deseja identificar o grupo mais jovem (**20% mais novos**) para implementar um programa de aceleração profissional com cursos e treinamentos voltados ao desenvolvimento de jovens talentos.\n",
    "\n",
    "Como calcular e interpretar esses dados para repassar ao RH?"
   ]
  },
  {
   "cell_type": "markdown",
   "metadata": {
    "id": "P2t0IhFKXftn"
   },
   "source": [
    "### <font color=\"#E23155\" face=\"Verdana\">Solução - Analisando as idades:</font>"
   ]
  },
  {
   "cell_type": "markdown",
   "metadata": {
    "id": "2Us03iUDXftk"
   },
   "source": [
    "> **Documentações:**\n",
    ">\n",
    "> - [**cumsum**](https://www.rdocumentation.org/packages/base/versions/3.6.2/topics/cumsum)"
   ]
  },
  {
   "cell_type": "markdown",
   "metadata": {
    "id": "RUflEkZeXftn"
   },
   "source": [
    "Para as idades, visualizaremos a distribuição, classificaremos as idades percentualmente, e determinaremos o ponto de corte para o grupo de 20% mais jovens, que poderão ser contemplados com o programa de aceleração profissional.\n"
   ]
  },
  {
   "cell_type": "markdown",
   "metadata": {
    "id": "M3aMMFYKXftn"
   },
   "source": [
    "#### **Visualizando a faixa etária desejada**"
   ]
  },
  {
   "cell_type": "code",
   "execution_count": null,
   "metadata": {
    "colab": {
     "base_uri": "https://localhost:8080/",
     "height": 514
    },
    "id": "SXEGqeqJXftn",
    "outputId": "0b986bcc-e023-4a13-cb76-d408073960d4",
    "vscode": {
     "languageId": "r"
    }
   },
   "outputs": [],
   "source": [
    "ggplot(colaboradores, aes(x = idade)) +\n",
    "  geom_histogram(aes(y = after_stat(cumsum(count)/sum(count))), bins=10, alpha = 0.6) +\n",
    "  geom_freqpoly(aes(y = after_stat(cumsum(count)/sum(count))), color = \"red\" ) +\n",
    "  geom_hline(yintercept = 0.20, linetype = \"dashed\", color = \"blue\") +\n",
    "  labs(title = \"Distribuição percentual acumulada das idades\", x = \"Idade\", y = \"Percentual Acumulado\") +\n",
    "  tema"
   ]
  },
  {
   "cell_type": "markdown",
   "metadata": {
    "id": "oEO2umoKXftn"
   },
   "source": [
    "#### **Classificando os colaboradores e identificando público**"
   ]
  },
  {
   "cell_type": "code",
   "execution_count": null,
   "metadata": {
    "colab": {
     "base_uri": "https://localhost:8080/",
     "height": 565
    },
    "id": "kLTyvcTEXftn",
    "outputId": "7e71b0b4-5ead-4358-fead-3476e8e2f9a9",
    "vscode": {
     "languageId": "r"
    }
   },
   "outputs": [],
   "source": [
    "idades_classificacao <- ...\n",
    "idades_classificacao"
   ]
  },
  {
   "cell_type": "code",
   "execution_count": null,
   "metadata": {
    "colab": {
     "base_uri": "https://localhost:8080/",
     "height": 443
    },
    "id": "7mL__nNVXftn",
    "outputId": "63280ce0-ead7-4691-a543-dd0df0baa2f2",
    "vscode": {
     "languageId": "r"
    }
   },
   "outputs": [],
   "source": [
    "idades_qualificados <- ...\n",
    "idades_qualificados"
   ]
  },
  {
   "cell_type": "code",
   "execution_count": null,
   "metadata": {
    "colab": {
     "base_uri": "https://localhost:8080/",
     "height": 34
    },
    "id": "J_L8oZluXftn",
    "outputId": "a2f69717-e9aa-468f-fc62-3c5efc655872",
    "vscode": {
     "languageId": "r"
    }
   },
   "outputs": [],
   "source": []
  },
  {
   "cell_type": "markdown",
   "metadata": {
    "id": "y1-RKu9nqHQ3"
   },
   "source": [
    "Com base na análise, identificamos que há **2.218 pessoas** qualificadas para o programa, representando os **20% mais jovens do total de colaboradores**. Esse grupo pode ser o alvo ideal para o programa de aceleração profissional, já que engloba aqueles que estão no início de suas carreiras.\n",
    "\n",
    "Agora, podemos reportar ao RH a lista de funcionários dentro da qualificação desejada, o que ajudará no planejamento do programa para jovens talentos, fortalecendo a cultura organizacional e promovendo o desenvolvimento profissional."
   ]
  },
  {
   "cell_type": "markdown",
   "metadata": {
    "id": "d2JbJmNSiB9-"
   },
   "source": [
    "## **4.4 Construindo um boxplot para visualização das distribuções**\n",
    "\n",
    "---\n",
    "\n"
   ]
  },
  {
   "cell_type": "markdown",
   "metadata": {
    "id": "8ndjVGDUiB-A"
   },
   "source": [
    "### <font color=\"#E23155\" face=\"Verdana\">Demanda 11: Análise de remuneração dos colaboradores pelo sexo</font>"
   ]
  },
  {
   "cell_type": "markdown",
   "metadata": {
    "id": "5-2T8WlfiB-A"
   },
   "source": [
    "A equipe de RH e financeiro da empresa requisitou uma nova análise das distribuições salariais. Ela tem interesse em investigar as diferenças salariais entre os sexos biológicos masculino e feminino, buscando informações para reforçar a importância de garantir a equidade salarial.\n",
    "\n",
    "Os dados salariais não são fáceis de interpretar em tabelas ou gráficos convencionais. É necessário um visual que permita identificar algumas medidas de tendência central , faixas de salário e até possíveis outliers, além de comparar visualmente as distribuições entre diferentes grupos.\n",
    "\n",
    "Com isso, o RH também pode direcionar ações voltadas à igualdade salarial."
   ]
  },
  {
   "cell_type": "markdown",
   "metadata": {
    "id": "XYKxmn3HiB-A"
   },
   "source": [
    "### **Boxplot**\n",
    "\n",
    "![texto do link](https://github.com/alura-cursos/estatistica-r-frequencias-medidas/blob/main/imagens/outros/boxplot.png?raw=true)\n",
    "\n",
    "O **boxplot** é uma representação visual que mostra a distribuição de dados quantitativos, facilitando comparações entre variáveis ou categorias.\n",
    "\n",
    "Os elementos principais de um boxplot são:\n",
    "\n",
    "* **Caixa:** Representa o intervalo\n",
    "interquartil (IIQ), que vai do primeiro quartil (Q1 - 25% dos dados) ao terceiro quartil (Q3 - 75% dos dados).\n",
    "\n",
    "* **Linha mediana:** Onde está posicionado a mediana (Q2), valor que separa 50% dos dados.\n",
    "\n",
    "* **Whiskers (\"bigodes\"):** Extensões que mostram a variabilidade fora do intervalo interquartil, geralmente até 1,5 vezes o IIQ a partir dos quartis.\n",
    "\n",
    "* **Outliers:** Pontos individuais que estão fora do alcance dos *whiskers*, indicados separadamente.\n",
    "\n",
    "Essa visualização ajuda a identificar a centralidade, dispersão e possíveis outliers em um conjunto de dados.\n",
    "\n"
   ]
  },
  {
   "cell_type": "markdown",
   "metadata": {
    "id": "3YcD9SGriB-A"
   },
   "source": [
    "### <font color=\"#E23155\" face=\"Verdana\">Solução:</font>"
   ]
  },
  {
   "cell_type": "markdown",
   "metadata": {
    "id": "cGJMYTwFiB-A"
   },
   "source": [
    "> **Documentações:**\n",
    ">\n",
    "> - [**geom_boxplot**](https://ggplot2.tidyverse.org/reference/geom_boxplot.html)\n",
    "> - [**summary**](https://www.rdocumentation.org/packages/base/versions/3.6.2/topics/summary)"
   ]
  },
  {
   "cell_type": "markdown",
   "metadata": {
    "id": "cGEVuYvwiB-C"
   },
   "source": [
    "Vamos construir e interpretar boxplots para visualizar a distribuição das variáveis. Analisaremos diferenças salariais entre os sexos e discutiremos possíveis ações para promover equidade."
   ]
  },
  {
   "cell_type": "code",
   "execution_count": null,
   "metadata": {
    "colab": {
     "base_uri": "https://localhost:8080/",
     "height": 497
    },
    "id": "Dt0kamh18UTT",
    "outputId": "8e6c05bf-c038-47cf-afc8-2535e5f64d48",
    "vscode": {
     "languageId": "r"
    }
   },
   "outputs": [],
   "source": [
    "ggplot(..., aes(x= ...)) +\n",
    "  ... +\n",
    "  ... +\n",
    "  ggtitle(\"Boxplot de Salários\") +\n",
    "  xlab(\"Salário (R$)\") +\n",
    "  scale_y_continuous(lim = c(-1,1)) +\n",
    "  tema"
   ]
  },
  {
   "cell_type": "markdown",
   "metadata": {
    "id": "4mFPgXCW8U6z"
   },
   "source": [
    "Para sabermos os valores de cada elemento do boxplot, podemos utilizar as funções quando estudamos os quartis das remunerações ou chamar a função `summary()` que resume nossos dados com as principais estatísticas descritivas."
   ]
  },
  {
   "cell_type": "code",
   "execution_count": null,
   "metadata": {
    "colab": {
     "base_uri": "https://localhost:8080/",
     "height": 52
    },
    "id": "Fif-LU0riB-Z",
    "outputId": "c5c376d4-02a9-4ff9-8e08-30438d08738f",
    "vscode": {
     "languageId": "r"
    }
   },
   "outputs": [],
   "source": []
  },
  {
   "cell_type": "markdown",
   "metadata": {
    "id": "MNH11wTh8JcF"
   },
   "source": [
    "Agora, vamos partir para o foco da nossa análise que é a comparação entre os sexos biológicos:"
   ]
  },
  {
   "cell_type": "code",
   "execution_count": null,
   "metadata": {
    "colab": {
     "base_uri": "https://localhost:8080/",
     "height": 497
    },
    "id": "n6M1HtXfqZkJ",
    "outputId": "a815bb61-9518-4c7a-d386-e52898b97797",
    "vscode": {
     "languageId": "r"
    }
   },
   "outputs": [],
   "source": [
    "ggplot(..., aes(x= ..., y = ... , fill = ...)) +\n",
    "  ... +\n",
    "  ... +\n",
    "  ggtitle(\"Boxplot de Salários por Sexo Biológico\") +\n",
    "  xlab(\"Salário (R$)\") +\n",
    "  ylab (\"Sexo Biológico\") +\n",
    "  tema"
   ]
  },
  {
   "cell_type": "markdown",
   "metadata": {
    "id": "5xCQ6YQJ002d"
   },
   "source": [
    "Aplicando a análise visual, conseguimos notar que aparentemente as pessoas do sexo masculino possuem uma distribuição salarial maior que a do sexo feminino, mas com os candidatos à outliers que temos ainda não fica tão clara essa diferença.\n",
    "\n",
    "> **Obs:** Outliers indicam indivíduos com salários significativamente maiores ou menores.\n",
    "\n",
    "Como estudamos anteriormente, mais de 95% das remunerações chegam até R$ 10.000,00. Podemos usar esse fator para filtrar os dados e observar com mais facilidade essa diferença salarial."
   ]
  },
  {
   "cell_type": "code",
   "execution_count": null,
   "metadata": {
    "colab": {
     "base_uri": "https://localhost:8080/",
     "height": 497
    },
    "id": "GegihIxkqZgG",
    "outputId": "6221e795-a55c-4bb2-d504-b31d83733036",
    "vscode": {
     "languageId": "r"
    }
   },
   "outputs": [],
   "source": []
  },
  {
   "cell_type": "markdown",
   "metadata": {
    "id": "lPZY1oZi0O4P"
   },
   "source": [
    "Notamos aqui que **a mediana dos salários para pessoas do sexo feminino é menor** que a das pessoas com sexo masculino, sendo o primeiro abaixo **R$ 4.000,00** e o segundo acima desse valor.\n",
    "\n",
    "Para reforçar a análise, vamos calcular as estatísticas descritivas para cada grupo."
   ]
  },
  {
   "cell_type": "code",
   "execution_count": null,
   "metadata": {
    "id": "mWOlnvZhqZbd",
    "vscode": {
     "languageId": "r"
    }
   },
   "outputs": [],
   "source": [
    "estat_remuneracao <- ..."
   ]
  },
  {
   "cell_type": "code",
   "execution_count": null,
   "metadata": {
    "colab": {
     "base_uri": "https://localhost:8080/",
     "height": 129
    },
    "id": "TYS_H42w5hB-",
    "outputId": "7a767f95-2a11-4014-972d-ca8a25bb1203",
    "vscode": {
     "languageId": "r"
    }
   },
   "outputs": [],
   "source": [
    "remuneracao_sexo <- ...\n",
    "rownames(remuneracao_sexo) <- ...\n",
    "round(remuneracao_sexo, 2)"
   ]
  },
  {
   "cell_type": "markdown",
   "metadata": {
    "id": "ugLWYaJ48uWa"
   },
   "source": [
    "Podemos reportar os resultados para o RH da empresa que deve investigar as causas, especialmente ao considerar cargos similares. Com isso, será possível que a equipe realize ações que busquem revisar políticas salariais para garantir igualdade e realizar análises adicionais considerando fatores como cargo, experiência e desempenho."
   ]
  },
  {
   "cell_type": "markdown",
   "metadata": {
    "id": "mIIduoNUN-Ot"
   },
   "source": [
    "# **5. Analisando as variações dos dados**\n",
    "\n",
    "---\n",
    "\n"
   ]
  },
  {
   "cell_type": "markdown",
   "metadata": {
    "id": "VU21EIYoOT0g"
   },
   "source": [
    "## **5.1 Calculando o desvio médio absoluto**\n",
    "\n",
    "---\n",
    "\n"
   ]
  },
  {
   "cell_type": "markdown",
   "metadata": {
    "id": "28TnCZGXOT0j"
   },
   "source": [
    "### <font color=\"#E23155\" face=\"Verdana\">Demanda 12: Analisando diferenças salariais - Parte 1</font>"
   ]
  },
  {
   "cell_type": "markdown",
   "metadata": {
    "id": "shN52prnOT0k"
   },
   "source": [
    "A equipe de RH e financeiro da empresa de e-commerce recebeu alguns feedbacks sobre uma possível falta de padrão entre os salários dos cargos de **Inteligência comercial** e **Consultor(a) de vendas**.\n",
    "\n",
    "Com que aprendemos até o momento, apenas as medidas de tendência central (média e mediana) não são suficientes para avaliar a uniformidade dos salários. É necessário um indicador de dispersão que mostre como os salários se distribuem em relação à média, revelando inconsistências.\n",
    "\n",
    "O objetivo é investigar as faixas salariais desses cargos.\n",
    "\n",
    "\n",
    "\n"
   ]
  },
  {
   "cell_type": "markdown",
   "metadata": {
    "id": "gga08nGLOT0l"
   },
   "source": [
    "#### **Medidas de dispersão**\n",
    "As **medidas de dispersão** são utilizadas para indicar o grau da variação dos valores de uma variável quantitativa em relação à sua média.\n",
    "\n",
    "Embora as medidas de tendência central e de posição forneçam uma sumarização bastante importante dos dados, elas podem não ser suficientes para caracterizar conjuntos distintos, especialmente quando as observações de determinada distribuição apresentarem dados muito dispersos.\n",
    "\n",
    "#### **Desvio médio absoluto (MAD)**\n",
    "O **Desvio Médio Absoluto (MAD)** é uma medida para avaliar a dispersão dos dados que representa a média das diferenças absolutas entre cada valor e a média dos dados.\n",
    "\n",
    "# $$MAD = \\frac 1n\\sum_{i=1}^{n}|X_i-\\bar{X}|$$\n",
    "\n",
    "Onde:\n",
    "\n",
    "$n$ = número de observações\n",
    "\n",
    "$X_i$ = valores da i-ésima variável\n",
    "\n",
    "$\\bar{X}$ = a média da distribuição\n"
   ]
  },
  {
   "cell_type": "markdown",
   "metadata": {
    "id": "KkiaBdLwdc1-"
   },
   "source": [
    "### <font color=\"#E23155\" face=\"Verdana\">Solução:</font>"
   ]
  },
  {
   "cell_type": "markdown",
   "metadata": {
    "id": "xEd1Vc6yrbQx"
   },
   "source": [
    "> **Documentações:**\n",
    ">\n",
    "> - [**geom_segment**](https://ggplot2.tidyverse.org/reference/geom_segment.html)\n"
   ]
  },
  {
   "cell_type": "markdown",
   "metadata": {
    "id": "VevQwFNYe7P_"
   },
   "source": [
    "#### **Ler as estatísticas descritivas das remunerações**"
   ]
  },
  {
   "cell_type": "markdown",
   "metadata": {
    "id": "_HOhtTjJ7M6k"
   },
   "source": [
    "Vamos começar lendo os valores de tendência central dos salários dos cargos de Inteligência comercial e Consultor(a) de vendas"
   ]
  },
  {
   "cell_type": "code",
   "execution_count": null,
   "metadata": {
    "id": "alBt16Nbh_9V",
    "vscode": {
     "languageId": "r"
    }
   },
   "outputs": [],
   "source": [
    "comercial <- ..."
   ]
  },
  {
   "cell_type": "code",
   "execution_count": null,
   "metadata": {
    "colab": {
     "base_uri": "https://localhost:8080/",
     "height": 161
    },
    "id": "Tmu2aCDjPo2B",
    "outputId": "4b7ca655-6c0d-4fa6-9789-511347937374",
    "vscode": {
     "languageId": "r"
    }
   },
   "outputs": [],
   "source": []
  },
  {
   "cell_type": "markdown",
   "metadata": {
    "id": "SCbc3dkn8aJa"
   },
   "source": [
    "Conseguimos notar que as médias e medianas estão bem próximas, então parece tudo ok, certo?\n",
    "\n",
    "**Não!** As medidas de tendência central servem para trazer um valor que generaliza nosso dado, mas que não representa a dispersão entre eles. Neste caso precisamos utilizar as medidas de dispersão para ter uma noção."
   ]
  },
  {
   "cell_type": "markdown",
   "metadata": {
    "id": "-qoQTkVlnEly"
   },
   "source": [
    "\n",
    "#### **Observando as variações das remunerações**"
   ]
  },
  {
   "cell_type": "code",
   "execution_count": null,
   "metadata": {
    "colab": {
     "base_uri": "https://localhost:8080/",
     "height": 412
    },
    "id": "EZVTp1OO-s37",
    "outputId": "5f056b5c-ad72-490c-c310-2971a33b786c",
    "vscode": {
     "languageId": "r"
    }
   },
   "outputs": [],
   "source": [
    "set.seed(42)\n",
    "amostra <- sample_n(comercial, 10)\n",
    "amostra"
   ]
  },
  {
   "cell_type": "code",
   "execution_count": null,
   "metadata": {
    "colab": {
     "base_uri": "https://localhost:8080/",
     "height": 497
    },
    "id": "cRN9kent-MwO",
    "outputId": "8de56980-2577-4f81-d44e-f9a28db967f4",
    "vscode": {
     "languageId": "r"
    }
   },
   "outputs": [],
   "source": [
    "ggplot(data = amostra, aes(x = seq(1:nrow(amostra)), y = remuneracao)) +\n",
    "  geom_point(size = 3) +\n",
    "  geom_hline(yintercept = mean(amostra$remuneracao), color = \"red\") +\n",
    "  geom_segment(aes(x = seq(1:nrow(amostra)),\n",
    "                   y = remuneracao,\n",
    "                   xend = seq(1:nrow(amostra)),\n",
    "                   yend = mean(remuneracao))) +\n",
    "  tema"
   ]
  },
  {
   "cell_type": "code",
   "execution_count": null,
   "metadata": {
    "colab": {
     "base_uri": "https://localhost:8080/",
     "height": 161
    },
    "id": "Du3qyL9r-JD1",
    "outputId": "b712457f-19c6-4207-dbcc-0f81e20d6fb5",
    "vscode": {
     "languageId": "r"
    }
   },
   "outputs": [],
   "source": [
    "estat_colab <- ...\n",
    "estat_colab"
   ]
  },
  {
   "cell_type": "markdown",
   "metadata": {
    "id": "Pas5wN-FgtPe"
   },
   "source": [
    "Como dito anteriormente a média e mediana estão próximas entre os dois cargos. E o desvio médio absoluto é ligeiramente maior para as pessoas consultoras,  indicando maior dispersão se comparada com as pessoas da Inteligência comercial. Podemos visualizar graficamente essa variação entre elas."
   ]
  },
  {
   "cell_type": "markdown",
   "metadata": {
    "id": "FQ9WiCt4nPUI"
   },
   "source": [
    "\n",
    "#### **Visualizando graficamente**"
   ]
  },
  {
   "cell_type": "code",
   "execution_count": null,
   "metadata": {
    "colab": {
     "base_uri": "https://localhost:8080/",
     "height": 497
    },
    "id": "hMy3rJJghMRk",
    "outputId": "30aab627-eb56-4a73-88e3-421725f2a4b4",
    "vscode": {
     "languageId": "r"
    }
   },
   "outputs": [],
   "source": [
    "ggplot(..., aes(x = ..., y = ...)) +\n",
    "  ... +\n",
    "  ggtitle(\"Distribuição de Salários por Cargo\") +\n",
    "  xlab(\"Salário (R$)\") +\n",
    "  ylab(\"\") +\n",
    "  tema"
   ]
  },
  {
   "cell_type": "markdown",
   "metadata": {
    "id": "pfvNjCwSkjXu"
   },
   "source": [
    "Conseguimos observar os comportamentos dos salários entre os profissionais de inteligência comercial e consultoria de vendas e percebemos que ambos têm média e mediana salariais muito próximas, com uma variação ligeiramente superior do cargo de inteligência comercial, que foi comprovado tanto pelo MAD quanto observando o intervalo interquartil (IIQ).\n",
    "\n",
    "A equipe de RH pode usar esses dados para:\n",
    "\n",
    "* Investigar os critérios de definição salarial para ambos, visto que o esperado era ter o mesmo nível salarial.\n",
    "* Estabelecer políticas salariais mais padronizadas para cargos equivalentes ou ser mais transparente na definição salarial dentro da empresa."
   ]
  },
  {
   "cell_type": "markdown",
   "metadata": {
    "id": "UJ2gmXDoNbGN"
   },
   "source": [
    "## **5.2 Calculando a variância e desvio padrão**\n",
    "\n",
    "---\n",
    "\n"
   ]
  },
  {
   "cell_type": "markdown",
   "metadata": {
    "id": "UYlcZFKCnlzT"
   },
   "source": [
    "### <font color=\"#E23155\" face=\"Verdana\">Demanda 12: Analisando diferenças salariais - Parte 2</font>"
   ]
  },
  {
   "cell_type": "markdown",
   "metadata": {
    "id": "7App-vJbnlzU"
   },
   "source": [
    "A equipe de RH e financeiro da empresa de e-commerce também recebeu alguns feedbacks sobre uma possível falta de padrão entre os salários de dois cargos operacionais, Estoquista e Repositor(a), que representam o maior volume de funcionários da empresa.\n",
    "\n",
    "O objetivo é investigar também as faixas salariais desses cargos, determinar qual deles apresenta maior inconsistência e identificar padrões que possam sugerir desigualdades ou problemas de política salarial."
   ]
  },
  {
   "cell_type": "markdown",
   "metadata": {
    "id": "EaEpl1b4nlzZ"
   },
   "source": [
    "#### **Variância ($\\sigma^2$ ou $S^2$)**\n",
    "A **variância** é uma medida de dispersão que mostra o quão distante cada valor de uma variável quantitativa está da média da sua distribuição.\n",
    "\n",
    "Ela é construída a partir das diferenças entre cada observação e a média dos dados, ou seja, o desvio em torno da média. No cálculo da variância, os desvios em torno da média são elevados ao quadrado.\n",
    "\n",
    "##### **Variância populacional**\n",
    "\n",
    "# $$\\sigma^2 = \\frac 1n\\sum_{i=1}^{n}(X_i-\\mu)^2$$\n",
    "\n",
    "##### **Variância amostral**\n",
    "\n",
    "# $$S^2 = \\frac 1{n-1}\\sum_{i=1}^{n}(X_i-\\bar{X})^2$$\n",
    "\n",
    "Onde:\n",
    "\n",
    "$n$ = número de observações\n",
    "\n",
    "$X_i$ = valores da i-ésima variável\n",
    "\n",
    "$\\mu$ e $\\bar{X}$ = média da população e amostra da distribuição, respectivamente\n"
   ]
  },
  {
   "cell_type": "markdown",
   "metadata": {
    "id": "HIRUwrHAnlza"
   },
   "source": [
    "### <font color=\"#E23155\" face=\"Verdana\">Solução:</font>"
   ]
  },
  {
   "cell_type": "markdown",
   "metadata": {
    "id": "qujLTVa-rnbC"
   },
   "source": [
    "> **Documentações:**\n",
    ">\n",
    "> - [**var**](https://www.rdocumentation.org/packages/stats/versions/3.6.2/topics/cor)\n",
    "> - [**sd**](https://www.rdocumentation.org/packages/stats/versions/3.6.2/topics/sd)\n"
   ]
  },
  {
   "cell_type": "markdown",
   "metadata": {
    "id": "w83L_L-rnlzb"
   },
   "source": [
    "#### **Ler as estatísticas descritivas das remunerações**"
   ]
  },
  {
   "cell_type": "markdown",
   "metadata": {
    "id": "XlpxeVqKnlzc"
   },
   "source": [
    "Vamos começar lendo os valores de tendência central dos salários dos cargos de Estoquista e Repositor(a)"
   ]
  },
  {
   "cell_type": "code",
   "execution_count": null,
   "metadata": {
    "id": "534bKPttnlzc",
    "vscode": {
     "languageId": "r"
    }
   },
   "outputs": [],
   "source": [
    "operacional <- "
   ]
  },
  {
   "cell_type": "code",
   "execution_count": null,
   "metadata": {
    "colab": {
     "base_uri": "https://localhost:8080/",
     "height": 161
    },
    "id": "8Wqt9NPpnlzd",
    "outputId": "fad70489-cd4b-437f-e651-8006f384a1bc",
    "vscode": {
     "languageId": "r"
    }
   },
   "outputs": [],
   "source": []
  },
  {
   "cell_type": "markdown",
   "metadata": {
    "id": "sjXiPmqUnlze"
   },
   "source": [
    "Conseguimos notar que novamente as médias e medianas estão bem próximas. Precisamos utilizar as medidas de dispersão para ter uma noção se realmente temos uma diferença relevantes entre os salários dos dois cargos."
   ]
  },
  {
   "cell_type": "code",
   "execution_count": null,
   "metadata": {
    "colab": {
     "base_uri": "https://localhost:8080/",
     "height": 161
    },
    "id": "1MdkgUmKukMq",
    "outputId": "a28b3b3c-0c11-4a94-c56a-439d3da85929",
    "vscode": {
     "languageId": "r"
    }
   },
   "outputs": [],
   "source": []
  },
  {
   "cell_type": "markdown",
   "metadata": {
    "id": "GVqhLauZutQ8"
   },
   "source": [
    "Números bem altos não é mesmo? O que isso significa?\n",
    "\n",
    "Como variância fornece os valores das medidas ao quadrado, representar o nosso resultado dessa forma dificultaria a comparação da dispersão com as variáveis que a definem.\n",
    "\n",
    "Um modo de eliminar essa dificuldade é utilizando o **desvio padrão**"
   ]
  },
  {
   "cell_type": "markdown",
   "metadata": {
    "id": "Wn5-F5j0vow8"
   },
   "source": [
    "#### **Desvio padrão ($\\sigma$ ou $S$)**\n",
    "\n",
    "O desvio padrão é uma medida de dispersão que indica o grau de dispersão de um conjunto de dados. É expresso pela raiz quadrada da variância populacional ou amostral.\n",
    "\n",
    "Além de expressar a variabilidade da população, o desvio padrão pode ser utilizado para medir a confiança (nível de acerto esperado de uma estimativa) e geralmente permite sintetizar os resultados de amostras.\n",
    "\n",
    "\n",
    "##### **Desvio padão populacional**\n",
    "\n",
    "# $$\\sigma = \\sqrt{\\frac 1n\\sum_{i=1}^{n}(X_i-\\mu)^2} \\Longrightarrow \\sigma = \\sqrt{\\sigma^2}$$\n",
    "\n",
    "##### **Desvio padrão amostral**\n",
    "\n",
    "# $$S = \\sqrt{\\frac 1{n-1}\\sum_{i=1}^{n}(X_i-\\bar{X})^2} \\Longrightarrow S = \\sqrt{S^2}$$\n",
    "\n",
    "Onde:\n",
    "\n",
    "$n$ = número de observações\n",
    "\n",
    "$X_i$ = valores da i-ésima variável\n",
    "\n",
    "$\\mu$ e $\\bar{X}$ = média da população e amostra da distribuição, respectivamente\n"
   ]
  },
  {
   "cell_type": "code",
   "execution_count": null,
   "metadata": {
    "colab": {
     "base_uri": "https://localhost:8080/",
     "height": 161
    },
    "id": "MLOzjk5oyYds",
    "outputId": "4e085c07-3729-4c71-87df-e5c4e33795f1",
    "vscode": {
     "languageId": "r"
    }
   },
   "outputs": [],
   "source": []
  },
  {
   "cell_type": "markdown",
   "metadata": {
    "id": "r_koNcsinlzh"
   },
   "source": [
    "O que podemos constatar aqui:\n",
    "1. **Média e Mediana:** Ambos os cargos têm valores próximos, indicando simetria na centralidade.\n",
    "\n",
    "2. **Variância e Desvio Padrão:** O cargo de Estoquista tem maior variância e desvio padrão, revelando maior dispersão nos salários.\n",
    "\n",
    "3. **MAD vs. Desvio Padrão:** Em ambos os casos o MAD é menor em relação ao desvio padrão, indicando que a dispersão está sendo influenciada por valores extremos."
   ]
  },
  {
   "cell_type": "markdown",
   "metadata": {
    "id": "vhB29VqWnlzi"
   },
   "source": [
    "\n",
    "#### **Visualizando graficamente**"
   ]
  },
  {
   "cell_type": "code",
   "execution_count": null,
   "metadata": {
    "colab": {
     "base_uri": "https://localhost:8080/",
     "height": 497
    },
    "id": "4znwXgmpnlzj",
    "outputId": "4749a8e1-eb97-446f-a422-c63bbe216637",
    "vscode": {
     "languageId": "r"
    }
   },
   "outputs": [],
   "source": [
    "ggplot(..., aes(x = ..., y = ...)) +\n",
    "  ... +\n",
    "  ggtitle(\"Distribuição de Salários por Cargo\") +\n",
    "  xlab(\"Salário (R$)\") +\n",
    "  ylab(\"\") +\n",
    "  tema"
   ]
  },
  {
   "cell_type": "markdown",
   "metadata": {
    "id": "GIMQBTO_nlzj"
   },
   "source": [
    "Conseguimos observar os comportamentos dos salários entre os profissionais estoquistas e repositores e percebemos que ambos têm média e mediana salariais muito próximas, entretando notamos uma dispersão considerável entre os salários dos colaboradores, que foi comprovado tanto pelo desvio padrão e MAD quanto observando o intervalo interquartil (IIQ) no gráfico de violino.\n",
    "\n",
    "Consideração para o RH:\n",
    "\n",
    "* As métricas indicam que o cargo de Estoquista possui maior variabilidade salarial.\n",
    "* O RH deve investigar se essa inconsistência reflete discrepâncias injustas ou se há justificativas baseadas em mérito ou experiência.\n",
    "\n",
    "Como sugestão:\n",
    "* Ajuste das políticas para reduzir a inconsistência salarial, promovendo equidade.\n",
    "* Compartilhamento de mais informações para análise de outras métricas para maior robustez na análise."
   ]
  }
 ],
 "metadata": {
  "colab": {
   "provenance": []
  },
  "kernelspec": {
   "display_name": "R",
   "name": "ir"
  },
  "language_info": {
   "name": "R"
  }
 },
 "nbformat": 4,
 "nbformat_minor": 0
}
