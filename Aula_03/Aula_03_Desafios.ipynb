{
 "cells": [
  {
   "cell_type": "markdown",
   "metadata": {
    "id": "qxah03ikONCD"
   },
   "source": [
    "# **Sobre o notebook**\n",
    "\n",
    "Aproveite esse espaço para as atividades do curso de **Estatística com R: resumindo e analisando dados** da Alura. Aqui você pode escrever e testar os códigos dos diversos exercícios do **Mão na Massa** envolvendo os aprendizados de cada aula.\n",
    "\n",
    "Utilizando os conhecimentos adquiridos ao longo do curso, você precisará realizar uma **análise descritiva** básica de um conjunto de dados retirados da **Pesquisa Nacional por Amostra de Domicílios - 2015** do IBGE.\n",
    "\n",
    "Nele, você irá avaliar os tipos dos dados e suas distribuições, calcular as medidas de tendência central, medidas separatrizes e de dispersão dos dados e construirá visuais como histogramas, boxplot, entre outras para responder às perguntas.\n",
    "\n",
    "Este notebook foi construído com espaços para adicionar as células dos desafios propostos no curso, com eles você tem espaço para construir e executar suas soluções.\n",
    "\n",
    "\n",
    "\n"
   ]
  },
  {
   "cell_type": "markdown",
   "metadata": {
    "id": "ouMWQS5PkxIr"
   },
   "source": [
    "## **Dataset do Projeto**"
   ]
  },
  {
   "cell_type": "markdown",
   "metadata": {
    "id": "eeErXl4El6tC"
   },
   "source": [
    "O conjunto de dados que será explorado aqui é uma adaptação dos dados da **Pesquisa Nacional por Amostra de Domicílios - PNAD**. Ela investiga anualmente, de forma permanente, características gerais da população, de educação, trabalho, rendimento e habitação e outras, com periodicidade variável, de acordo com as necessidades de informação para o país, como as características sobre migração, fecundidade, nupcialidade, saúde, segurança alimentar, entre outros temas.\n",
    "\n",
    "O levantamento dessas estatísticas constitui, ao longo dos 49 anos de realização da pesquisa, um importante instrumento para formulação, validação e avaliação de políticas orientadas para o desenvolvimento socioeconômico e a melhoria das condições de vida no Brasil."
   ]
  },
  {
   "cell_type": "markdown",
   "metadata": {
    "id": "_vpi0QThnfJ6"
   },
   "source": [
    "### **Fonte dos Dados**\n",
    "\n",
    "https://www.ibge.gov.br/estatisticas/sociais/populacao/9127-pesquisa-nacional-por-amostra-de-domicilios.html?edicao=9128"
   ]
  },
  {
   "cell_type": "markdown",
   "metadata": {
    "id": "zrMeV3e5rQxd"
   },
   "source": [
    "### **Variáveis do dataset**\n",
    "\n",
    "> ### UF\n",
    "> ***\n",
    "\n",
    "Unidade federativa da pessoa responsável\n",
    "\n",
    "> ### Sexo\n",
    "> ***\n",
    "\n",
    "Sexo biológico da pessoa responsável\n",
    "\n",
    "<br>\n",
    "\n",
    "|Código|Descrição|\n",
    "|---|---|\n",
    "|0|Masculino|\n",
    "|1|Feminino|\n",
    "\n",
    "> ### Idade\n",
    "> ***\n",
    "\n",
    "Idade da pessoa responsável na data de referência em anos.\n",
    "\n",
    "> ### Cor\n",
    "> ***\n",
    "\n",
    "Cor ou raça da pessoa responsável com base na autodeclaração\n",
    "\n",
    "<br>\n",
    "\n",
    "|Código|Descrição|\n",
    "|---|---|\n",
    "|0|Indígena|\n",
    "|2|Branca|\n",
    "|4|Preta|\n",
    "|6|Amarela|\n",
    "|8|Parda|\n",
    "\n",
    "> ### Anos de Estudo\n",
    "> ***\n",
    "\n",
    "Anos de estudo da pessoa responsável\n",
    "\n",
    "<br>\n",
    "\n",
    "|Código|Descrição|\n",
    "|---|---|\n",
    "|1|Sem instrução e menos de 1 ano|\n",
    "|2|1 ano|\n",
    "|3|2 anos|\n",
    "|4|3 anos|\n",
    "|5|4 anos|\n",
    "|6|5 anos|\n",
    "|7|6 anos|\n",
    "|8|7 anos|\n",
    "|9|8 anos|\n",
    "|10|9 anos|\n",
    "|11|10 anos|\n",
    "|12|11 anos|\n",
    "|13|12 anos|\n",
    "|14|13 anos|\n",
    "|15|14 anos|\n",
    "|16|15 anos ou mais|\n",
    "|17|Não determinados|\n",
    "\n",
    "> ### Renda\n",
    "> ***\n",
    "\n",
    "Rendimento mensal do trabalho principal da pessoa responsável para 10 anos ou mais de idade.\n",
    "\n",
    "> ### Altura (elaboração própria - dado sintético)\n",
    "> ***\n",
    "\n",
    "Altura da pessoa responsável em metros."
   ]
  },
  {
   "cell_type": "markdown",
   "metadata": {
    "id": "sIlkOh1BvGsM"
   },
   "source": [
    "#### <font color='red'>Observação</font>\n",
    "***\n",
    "> Os seguintes tratamentos foram realizados nos dados originais:\n",
    "> 1. Foram eliminados os registros onde a **Renda** era inválida (999 999 999 999);\n",
    "> 2. Foram eliminados os registros onde a **Renda** era missing;\n",
    "> 3. Foram considerados somente os registros das **Pessoas de Referência** de cada domicílio (responsável pelo domicílio)."
   ]
  },
  {
   "cell_type": "markdown",
   "metadata": {
    "id": "IA3M1eso_L2Z"
   },
   "source": [
    "## **Aula 01 - Entendendo os dados**"
   ]
  },
  {
   "cell_type": "markdown",
   "metadata": {
    "id": "AmpR_VE4CImQ"
   },
   "source": [
    "### **Mão na Massa - Explorando novos dados**\n",
    "\n",
    "\n"
   ]
  },
  {
   "cell_type": "markdown",
   "metadata": {
    "id": "k2YfI6iDYmo4"
   },
   "source": [
    "Você está treinando para ser uma pessoa cientista de dados e recebeu a demanda de investigar os dados da PNAD de 2015. A fim de testar as suas habilidades de análise de dados e os conceitos da estatística descritiva, responda às perguntas ao longo do notebook compartilhado."
   ]
  },
  {
   "cell_type": "markdown",
   "metadata": {
    "id": "QDUU7jVGiMiZ"
   },
   "source": [
    "#### **Importando os pacotes e configurando o ambiente**"
   ]
  },
  {
   "cell_type": "code",
   "execution_count": 2,
   "metadata": {
    "colab": {
     "base_uri": "https://localhost:8080/"
    },
    "executionInfo": {
     "elapsed": 1387,
     "status": "ok",
     "timestamp": 1734369453401,
     "user": {
      "displayName": "Afonso Augusto Rios",
      "userId": "05972796828124452071"
     },
     "user_tz": 180
    },
    "id": "ZruvypSoO6oP",
    "outputId": "0a60403c-d90a-4e55-f1e9-9d8f9a2e5f66",
    "vscode": {
     "languageId": "r"
    }
   },
   "outputs": [
    {
     "name": "stderr",
     "output_type": "stream",
     "text": [
      "── \u001b[1mAttaching core tidyverse packages\u001b[22m ──────────────────────── tidyverse 2.0.0 ──\n",
      "\u001b[32m✔\u001b[39m \u001b[34mdplyr    \u001b[39m 1.1.4     \u001b[32m✔\u001b[39m \u001b[34mreadr    \u001b[39m 2.1.5\n",
      "\u001b[32m✔\u001b[39m \u001b[34mforcats  \u001b[39m 1.0.0     \u001b[32m✔\u001b[39m \u001b[34mstringr  \u001b[39m 1.5.1\n",
      "\u001b[32m✔\u001b[39m \u001b[34mggplot2  \u001b[39m 3.5.1     \u001b[32m✔\u001b[39m \u001b[34mtibble   \u001b[39m 3.2.1\n",
      "\u001b[32m✔\u001b[39m \u001b[34mlubridate\u001b[39m 1.9.4     \u001b[32m✔\u001b[39m \u001b[34mtidyr    \u001b[39m 1.3.1\n",
      "\u001b[32m✔\u001b[39m \u001b[34mpurrr    \u001b[39m 1.0.2     \n",
      "── \u001b[1mConflicts\u001b[22m ────────────────────────────────────────── tidyverse_conflicts() ──\n",
      "\u001b[31m✖\u001b[39m \u001b[34mdplyr\u001b[39m::\u001b[32mfilter()\u001b[39m masks \u001b[34mstats\u001b[39m::filter()\n",
      "\u001b[31m✖\u001b[39m \u001b[34mdplyr\u001b[39m::\u001b[32mlag()\u001b[39m    masks \u001b[34mstats\u001b[39m::lag()\n",
      "\u001b[36mℹ\u001b[39m Use the conflicted package (\u001b[3m\u001b[34m<http://conflicted.r-lib.org/>\u001b[39m\u001b[23m) to force all conflicts to become errors\n"
     ]
    }
   ],
   "source": [
    "# Importando os pacotes do projeto\n",
    "library(tidyverse)\n",
    "library(glue)\n",
    "\n",
    "# Perimitindo no máximo 20 linhas para exibição do dado\n",
    "options(repr.matrix.max.rows = 30)"
   ]
  },
  {
   "cell_type": "code",
   "execution_count": 3,
   "metadata": {
    "executionInfo": {
     "elapsed": 5,
     "status": "ok",
     "timestamp": 1734369453401,
     "user": {
      "displayName": "Afonso Augusto Rios",
      "userId": "05972796828124452071"
     },
     "user_tz": 180
    },
    "id": "tJD2u7_rLf_O",
    "vscode": {
     "languageId": "r"
    }
   },
   "outputs": [],
   "source": [
    "# Definindo as dimensões dos gráficos gerados\n",
    "options(repr.plot.width = 12, repr.plot.height = 8)\n",
    "\n",
    "# Definindo um tema básico para gráficos do ggplot\n",
    "tema <- theme(\n",
    "        plot.title=element_text(size = 22, hjust = 0.5),\n",
    "        axis.title.y=element_text(size = 16, vjust = +0.2),\n",
    "        axis.title.x=element_text(size = 16, vjust = -0.2),\n",
    "        axis.text.y=element_text(size = 14),\n",
    "        axis.text.x=element_text(size = 14))"
   ]
  },
  {
   "cell_type": "markdown",
   "metadata": {
    "id": "MqXopokVzjV8"
   },
   "source": [
    "#### **Importe o dataset e armazene o conteúdo em um DataFrame**"
   ]
  },
  {
   "cell_type": "markdown",
   "metadata": {
    "id": "pr2UTRm70Tsq"
   },
   "source": [
    "**Dica:** Passe a url para a função que lê um arquivo do tipo `.csv`"
   ]
  },
  {
   "cell_type": "code",
   "execution_count": 4,
   "metadata": {
    "executionInfo": {
     "elapsed": 1363,
     "status": "ok",
     "timestamp": 1734369454760,
     "user": {
      "displayName": "Afonso Augusto Rios",
      "userId": "05972796828124452071"
     },
     "user_tz": 180
    },
    "id": "cndAfPzKzjBs",
    "vscode": {
     "languageId": "r"
    }
   },
   "outputs": [],
   "source": [
    "url <- \"https://raw.githubusercontent.com/alura-cursos/estatistica-r-frequencias-medidas/refs/heads/main/dados/dados_desafio.csv\"\n",
    "dados <- read.csv(url)"
   ]
  },
  {
   "cell_type": "markdown",
   "metadata": {
    "id": "CKddW-tNzuP1"
   },
   "source": [
    "#### **Visualize o conteúdo do DataFrame e leia as infos sobre os dados (linhas, colunas, tipos)**"
   ]
  },
  {
   "cell_type": "markdown",
   "metadata": {
    "id": "exRQ_Tuf0jrD"
   },
   "source": [
    "**Dica:** Para observar as infos dos dados, utilize a função `glimpse` ou `str`"
   ]
  },
  {
   "cell_type": "code",
   "execution_count": 5,
   "metadata": {
    "colab": {
     "base_uri": "https://localhost:8080/",
     "height": 286
    },
    "executionInfo": {
     "elapsed": 32,
     "status": "ok",
     "timestamp": 1734369454760,
     "user": {
      "displayName": "Afonso Augusto Rios",
      "userId": "05972796828124452071"
     },
     "user_tz": 180
    },
    "id": "onefzgWfr7-7",
    "outputId": "073a34e5-4dc6-4ce0-88d5-c8459fd6176e",
    "vscode": {
     "languageId": "r"
    }
   },
   "outputs": [
    {
     "data": {
      "text/html": [
       "<table class=\"dataframe\">\n",
       "<caption>A data.frame: 6 × 7</caption>\n",
       "<thead>\n",
       "\t<tr><th></th><th scope=col>UF</th><th scope=col>Sexo</th><th scope=col>Idade</th><th scope=col>Cor</th><th scope=col>Anos.de.Estudo</th><th scope=col>Renda</th><th scope=col>Altura</th></tr>\n",
       "\t<tr><th></th><th scope=col>&lt;chr&gt;</th><th scope=col>&lt;int&gt;</th><th scope=col>&lt;int&gt;</th><th scope=col>&lt;int&gt;</th><th scope=col>&lt;int&gt;</th><th scope=col>&lt;int&gt;</th><th scope=col>&lt;dbl&gt;</th></tr>\n",
       "</thead>\n",
       "<tbody>\n",
       "\t<tr><th scope=row>1</th><td>Rondônia</td><td>0</td><td>23</td><td>8</td><td>12</td><td> 800</td><td>1.60</td></tr>\n",
       "\t<tr><th scope=row>2</th><td>Rondônia</td><td>1</td><td>23</td><td>2</td><td>12</td><td>1150</td><td>1.74</td></tr>\n",
       "\t<tr><th scope=row>3</th><td>Rondônia</td><td>1</td><td>35</td><td>8</td><td>15</td><td> 880</td><td>1.76</td></tr>\n",
       "\t<tr><th scope=row>4</th><td>Rondônia</td><td>0</td><td>46</td><td>2</td><td> 6</td><td>3500</td><td>1.78</td></tr>\n",
       "\t<tr><th scope=row>5</th><td>Rondônia</td><td>1</td><td>47</td><td>8</td><td> 9</td><td> 150</td><td>1.69</td></tr>\n",
       "\t<tr><th scope=row>6</th><td>Rondônia</td><td>1</td><td>34</td><td>8</td><td>12</td><td> 790</td><td>1.64</td></tr>\n",
       "</tbody>\n",
       "</table>\n"
      ],
      "text/latex": [
       "A data.frame: 6 × 7\n",
       "\\begin{tabular}{r|lllllll}\n",
       "  & UF & Sexo & Idade & Cor & Anos.de.Estudo & Renda & Altura\\\\\n",
       "  & <chr> & <int> & <int> & <int> & <int> & <int> & <dbl>\\\\\n",
       "\\hline\n",
       "\t1 & Rondônia & 0 & 23 & 8 & 12 &  800 & 1.60\\\\\n",
       "\t2 & Rondônia & 1 & 23 & 2 & 12 & 1150 & 1.74\\\\\n",
       "\t3 & Rondônia & 1 & 35 & 8 & 15 &  880 & 1.76\\\\\n",
       "\t4 & Rondônia & 0 & 46 & 2 &  6 & 3500 & 1.78\\\\\n",
       "\t5 & Rondônia & 1 & 47 & 8 &  9 &  150 & 1.69\\\\\n",
       "\t6 & Rondônia & 1 & 34 & 8 & 12 &  790 & 1.64\\\\\n",
       "\\end{tabular}\n"
      ],
      "text/markdown": [
       "\n",
       "A data.frame: 6 × 7\n",
       "\n",
       "| <!--/--> | UF &lt;chr&gt; | Sexo &lt;int&gt; | Idade &lt;int&gt; | Cor &lt;int&gt; | Anos.de.Estudo &lt;int&gt; | Renda &lt;int&gt; | Altura &lt;dbl&gt; |\n",
       "|---|---|---|---|---|---|---|---|\n",
       "| 1 | Rondônia | 0 | 23 | 8 | 12 |  800 | 1.60 |\n",
       "| 2 | Rondônia | 1 | 23 | 2 | 12 | 1150 | 1.74 |\n",
       "| 3 | Rondônia | 1 | 35 | 8 | 15 |  880 | 1.76 |\n",
       "| 4 | Rondônia | 0 | 46 | 2 |  6 | 3500 | 1.78 |\n",
       "| 5 | Rondônia | 1 | 47 | 8 |  9 |  150 | 1.69 |\n",
       "| 6 | Rondônia | 1 | 34 | 8 | 12 |  790 | 1.64 |\n",
       "\n"
      ],
      "text/plain": [
       "  UF       Sexo Idade Cor Anos.de.Estudo Renda Altura\n",
       "1 Rondônia 0    23    8   12              800  1.60  \n",
       "2 Rondônia 1    23    2   12             1150  1.74  \n",
       "3 Rondônia 1    35    8   15              880  1.76  \n",
       "4 Rondônia 0    46    2    6             3500  1.78  \n",
       "5 Rondônia 1    47    8    9              150  1.69  \n",
       "6 Rondônia 1    34    8   12              790  1.64  "
      ]
     },
     "metadata": {},
     "output_type": "display_data"
    }
   ],
   "source": [
    "head(dados)"
   ]
  },
  {
   "cell_type": "code",
   "execution_count": 6,
   "metadata": {
    "colab": {
     "base_uri": "https://localhost:8080/"
    },
    "executionInfo": {
     "elapsed": 31,
     "status": "ok",
     "timestamp": 1734369454760,
     "user": {
      "displayName": "Afonso Augusto Rios",
      "userId": "05972796828124452071"
     },
     "user_tz": 180
    },
    "id": "sMQfhgrt1F8K",
    "outputId": "3827f1f4-e564-41e1-f57a-6e049fee3bca",
    "vscode": {
     "languageId": "r"
    }
   },
   "outputs": [
    {
     "name": "stdout",
     "output_type": "stream",
     "text": [
      "Rows: 76,840\n",
      "Columns: 7\n",
      "$ UF             \u001b[3m\u001b[90m<chr>\u001b[39m\u001b[23m \"Rondônia\", \"Rondônia\", \"Rondônia\", \"Rondônia\", \"Rondôn…\n",
      "$ Sexo           \u001b[3m\u001b[90m<int>\u001b[39m\u001b[23m 0, 1, 1, 0, 1, 1, 0, 1, 1, 0, 1, 1, 1, 0, 0, 0, 1, 0, 0…\n",
      "$ Idade          \u001b[3m\u001b[90m<int>\u001b[39m\u001b[23m 23, 23, 35, 46, 47, 34, 57, 60, 50, 26, 46, 49, 52, 38,…\n",
      "$ Cor            \u001b[3m\u001b[90m<int>\u001b[39m\u001b[23m 8, 2, 8, 2, 8, 8, 8, 8, 4, 8, 8, 8, 2, 8, 2, 2, 8, 8, 2…\n",
      "$ Anos.de.Estudo \u001b[3m\u001b[90m<int>\u001b[39m\u001b[23m 12, 12, 15, 6, 9, 12, 12, 12, 14, 12, 12, 6, 6, 12, 12,…\n",
      "$ Renda          \u001b[3m\u001b[90m<int>\u001b[39m\u001b[23m 800, 1150, 880, 3500, 150, 790, 3150, 1700, 1800, 1150,…\n",
      "$ Altura         \u001b[3m\u001b[90m<dbl>\u001b[39m\u001b[23m 1.60, 1.74, 1.76, 1.78, 1.69, 1.64, 1.57, 1.61, 1.78, 1…\n"
     ]
    }
   ],
   "source": [
    "glimpse(dados)"
   ]
  },
  {
   "cell_type": "markdown",
   "metadata": {
    "id": "RAmtjJFi0-ni"
   },
   "source": [
    "#### **Explore brevemente a variável `UF` e investigue quantos dados possuímos para cada estado**"
   ]
  },
  {
   "cell_type": "markdown",
   "metadata": {
    "id": "FeK6odCN9O1m"
   },
   "source": [
    "**Dica:** Para explorar, utilize as funções `select`, `distinct`, `count` e `geom_col`"
   ]
  },
  {
   "cell_type": "code",
   "execution_count": 7,
   "metadata": {
    "colab": {
     "base_uri": "https://localhost:8080/",
     "height": 1000
    },
    "executionInfo": {
     "elapsed": 27,
     "status": "ok",
     "timestamp": 1734369454760,
     "user": {
      "displayName": "Afonso Augusto Rios",
      "userId": "05972796828124452071"
     },
     "user_tz": 180
    },
    "id": "tClysTb77818",
    "outputId": "8252fb0f-4621-49e6-9cfb-880a91c4ac6c",
    "vscode": {
     "languageId": "r"
    }
   },
   "outputs": [
    {
     "data": {
      "text/html": [
       "<table class=\"dataframe\">\n",
       "<caption>A data.frame: 76840 × 1</caption>\n",
       "<thead>\n",
       "\t<tr><th scope=col>UF</th></tr>\n",
       "\t<tr><th scope=col>&lt;chr&gt;</th></tr>\n",
       "</thead>\n",
       "<tbody>\n",
       "\t<tr><td>Rondônia</td></tr>\n",
       "\t<tr><td>Rondônia</td></tr>\n",
       "\t<tr><td>Rondônia</td></tr>\n",
       "\t<tr><td>Rondônia</td></tr>\n",
       "\t<tr><td>Rondônia</td></tr>\n",
       "\t<tr><td>Rondônia</td></tr>\n",
       "\t<tr><td>Rondônia</td></tr>\n",
       "\t<tr><td>Rondônia</td></tr>\n",
       "\t<tr><td>Rondônia</td></tr>\n",
       "\t<tr><td>Rondônia</td></tr>\n",
       "\t<tr><td>Rondônia</td></tr>\n",
       "\t<tr><td>Rondônia</td></tr>\n",
       "\t<tr><td>Rondônia</td></tr>\n",
       "\t<tr><td>Rondônia</td></tr>\n",
       "\t<tr><td>Rondônia</td></tr>\n",
       "\t<tr><td>⋮</td></tr>\n",
       "\t<tr><td>Distrito Federal</td></tr>\n",
       "\t<tr><td>Distrito Federal</td></tr>\n",
       "\t<tr><td>Distrito Federal</td></tr>\n",
       "\t<tr><td>Distrito Federal</td></tr>\n",
       "\t<tr><td>Distrito Federal</td></tr>\n",
       "\t<tr><td>Distrito Federal</td></tr>\n",
       "\t<tr><td>Distrito Federal</td></tr>\n",
       "\t<tr><td>Distrito Federal</td></tr>\n",
       "\t<tr><td>Distrito Federal</td></tr>\n",
       "\t<tr><td>Distrito Federal</td></tr>\n",
       "\t<tr><td>Distrito Federal</td></tr>\n",
       "\t<tr><td>Distrito Federal</td></tr>\n",
       "\t<tr><td>Distrito Federal</td></tr>\n",
       "\t<tr><td>Distrito Federal</td></tr>\n",
       "\t<tr><td>Distrito Federal</td></tr>\n",
       "</tbody>\n",
       "</table>\n"
      ],
      "text/latex": [
       "A data.frame: 76840 × 1\n",
       "\\begin{tabular}{l}\n",
       " UF\\\\\n",
       " <chr>\\\\\n",
       "\\hline\n",
       "\t Rondônia\\\\\n",
       "\t Rondônia\\\\\n",
       "\t Rondônia\\\\\n",
       "\t Rondônia\\\\\n",
       "\t Rondônia\\\\\n",
       "\t Rondônia\\\\\n",
       "\t Rondônia\\\\\n",
       "\t Rondônia\\\\\n",
       "\t Rondônia\\\\\n",
       "\t Rondônia\\\\\n",
       "\t Rondônia\\\\\n",
       "\t Rondônia\\\\\n",
       "\t Rondônia\\\\\n",
       "\t Rondônia\\\\\n",
       "\t Rondônia\\\\\n",
       "\t ⋮\\\\\n",
       "\t Distrito Federal\\\\\n",
       "\t Distrito Federal\\\\\n",
       "\t Distrito Federal\\\\\n",
       "\t Distrito Federal\\\\\n",
       "\t Distrito Federal\\\\\n",
       "\t Distrito Federal\\\\\n",
       "\t Distrito Federal\\\\\n",
       "\t Distrito Federal\\\\\n",
       "\t Distrito Federal\\\\\n",
       "\t Distrito Federal\\\\\n",
       "\t Distrito Federal\\\\\n",
       "\t Distrito Federal\\\\\n",
       "\t Distrito Federal\\\\\n",
       "\t Distrito Federal\\\\\n",
       "\t Distrito Federal\\\\\n",
       "\\end{tabular}\n"
      ],
      "text/markdown": [
       "\n",
       "A data.frame: 76840 × 1\n",
       "\n",
       "| UF &lt;chr&gt; |\n",
       "|---|\n",
       "| Rondônia |\n",
       "| Rondônia |\n",
       "| Rondônia |\n",
       "| Rondônia |\n",
       "| Rondônia |\n",
       "| Rondônia |\n",
       "| Rondônia |\n",
       "| Rondônia |\n",
       "| Rondônia |\n",
       "| Rondônia |\n",
       "| Rondônia |\n",
       "| Rondônia |\n",
       "| Rondônia |\n",
       "| Rondônia |\n",
       "| Rondônia |\n",
       "| ⋮ |\n",
       "| Distrito Federal |\n",
       "| Distrito Federal |\n",
       "| Distrito Federal |\n",
       "| Distrito Federal |\n",
       "| Distrito Federal |\n",
       "| Distrito Federal |\n",
       "| Distrito Federal |\n",
       "| Distrito Federal |\n",
       "| Distrito Federal |\n",
       "| Distrito Federal |\n",
       "| Distrito Federal |\n",
       "| Distrito Federal |\n",
       "| Distrito Federal |\n",
       "| Distrito Federal |\n",
       "| Distrito Federal |\n",
       "\n"
      ],
      "text/plain": [
       "      UF              \n",
       "1     Rondônia        \n",
       "2     Rondônia        \n",
       "3     Rondônia        \n",
       "4     Rondônia        \n",
       "5     Rondônia        \n",
       "6     Rondônia        \n",
       "7     Rondônia        \n",
       "8     Rondônia        \n",
       "9     Rondônia        \n",
       "10    Rondônia        \n",
       "11    Rondônia        \n",
       "12    Rondônia        \n",
       "13    Rondônia        \n",
       "14    Rondônia        \n",
       "15    Rondônia        \n",
       "⋮     ⋮               \n",
       "76826 Distrito Federal\n",
       "76827 Distrito Federal\n",
       "76828 Distrito Federal\n",
       "76829 Distrito Federal\n",
       "76830 Distrito Federal\n",
       "76831 Distrito Federal\n",
       "76832 Distrito Federal\n",
       "76833 Distrito Federal\n",
       "76834 Distrito Federal\n",
       "76835 Distrito Federal\n",
       "76836 Distrito Federal\n",
       "76837 Distrito Federal\n",
       "76838 Distrito Federal\n",
       "76839 Distrito Federal\n",
       "76840 Distrito Federal"
      ]
     },
     "metadata": {},
     "output_type": "display_data"
    }
   ],
   "source": [
    "dados %>%\n",
    "  select(UF)"
   ]
  },
  {
   "cell_type": "code",
   "execution_count": 8,
   "metadata": {
    "colab": {
     "base_uri": "https://localhost:8080/",
     "height": 945
    },
    "executionInfo": {
     "elapsed": 26,
     "status": "ok",
     "timestamp": 1734369454760,
     "user": {
      "displayName": "Afonso Augusto Rios",
      "userId": "05972796828124452071"
     },
     "user_tz": 180
    },
    "id": "cFHK-Ekm9tbi",
    "outputId": "1bc2ab16-8dff-452d-bec1-5603bc7e4154",
    "vscode": {
     "languageId": "r"
    }
   },
   "outputs": [
    {
     "data": {
      "text/html": [
       "<table class=\"dataframe\">\n",
       "<caption>A data.frame: 27 × 1</caption>\n",
       "<thead>\n",
       "\t<tr><th scope=col>UF</th></tr>\n",
       "\t<tr><th scope=col>&lt;chr&gt;</th></tr>\n",
       "</thead>\n",
       "<tbody>\n",
       "\t<tr><td>Rondônia           </td></tr>\n",
       "\t<tr><td>Acre               </td></tr>\n",
       "\t<tr><td>Amazonas           </td></tr>\n",
       "\t<tr><td>Roraima            </td></tr>\n",
       "\t<tr><td>Pará               </td></tr>\n",
       "\t<tr><td>Amapá              </td></tr>\n",
       "\t<tr><td>Tocantins          </td></tr>\n",
       "\t<tr><td>Maranhão           </td></tr>\n",
       "\t<tr><td>Piauí              </td></tr>\n",
       "\t<tr><td>Ceará              </td></tr>\n",
       "\t<tr><td>Rio Grande do Norte</td></tr>\n",
       "\t<tr><td>Paraíba            </td></tr>\n",
       "\t<tr><td>Pernambuco         </td></tr>\n",
       "\t<tr><td>Alagoas            </td></tr>\n",
       "\t<tr><td>Sergipe            </td></tr>\n",
       "\t<tr><td>Bahia              </td></tr>\n",
       "\t<tr><td>Minas Gerais       </td></tr>\n",
       "\t<tr><td>Espírito Santo     </td></tr>\n",
       "\t<tr><td>Rio de Janeiro     </td></tr>\n",
       "\t<tr><td>São Paulo          </td></tr>\n",
       "\t<tr><td>Paraná             </td></tr>\n",
       "\t<tr><td>Santa Catarina     </td></tr>\n",
       "\t<tr><td>Rio Grande do Sul  </td></tr>\n",
       "\t<tr><td>Mato Grosso do Sul </td></tr>\n",
       "\t<tr><td>Mato Grosso        </td></tr>\n",
       "\t<tr><td>Goiás              </td></tr>\n",
       "\t<tr><td>Distrito Federal   </td></tr>\n",
       "</tbody>\n",
       "</table>\n"
      ],
      "text/latex": [
       "A data.frame: 27 × 1\n",
       "\\begin{tabular}{l}\n",
       " UF\\\\\n",
       " <chr>\\\\\n",
       "\\hline\n",
       "\t Rondônia           \\\\\n",
       "\t Acre               \\\\\n",
       "\t Amazonas           \\\\\n",
       "\t Roraima            \\\\\n",
       "\t Pará               \\\\\n",
       "\t Amapá              \\\\\n",
       "\t Tocantins          \\\\\n",
       "\t Maranhão           \\\\\n",
       "\t Piauí              \\\\\n",
       "\t Ceará              \\\\\n",
       "\t Rio Grande do Norte\\\\\n",
       "\t Paraíba            \\\\\n",
       "\t Pernambuco         \\\\\n",
       "\t Alagoas            \\\\\n",
       "\t Sergipe            \\\\\n",
       "\t Bahia              \\\\\n",
       "\t Minas Gerais       \\\\\n",
       "\t Espírito Santo     \\\\\n",
       "\t Rio de Janeiro     \\\\\n",
       "\t São Paulo          \\\\\n",
       "\t Paraná             \\\\\n",
       "\t Santa Catarina     \\\\\n",
       "\t Rio Grande do Sul  \\\\\n",
       "\t Mato Grosso do Sul \\\\\n",
       "\t Mato Grosso        \\\\\n",
       "\t Goiás              \\\\\n",
       "\t Distrito Federal   \\\\\n",
       "\\end{tabular}\n"
      ],
      "text/markdown": [
       "\n",
       "A data.frame: 27 × 1\n",
       "\n",
       "| UF &lt;chr&gt; |\n",
       "|---|\n",
       "| Rondônia            |\n",
       "| Acre                |\n",
       "| Amazonas            |\n",
       "| Roraima             |\n",
       "| Pará                |\n",
       "| Amapá               |\n",
       "| Tocantins           |\n",
       "| Maranhão            |\n",
       "| Piauí               |\n",
       "| Ceará               |\n",
       "| Rio Grande do Norte |\n",
       "| Paraíba             |\n",
       "| Pernambuco          |\n",
       "| Alagoas             |\n",
       "| Sergipe             |\n",
       "| Bahia               |\n",
       "| Minas Gerais        |\n",
       "| Espírito Santo      |\n",
       "| Rio de Janeiro      |\n",
       "| São Paulo           |\n",
       "| Paraná              |\n",
       "| Santa Catarina      |\n",
       "| Rio Grande do Sul   |\n",
       "| Mato Grosso do Sul  |\n",
       "| Mato Grosso         |\n",
       "| Goiás               |\n",
       "| Distrito Federal    |\n",
       "\n"
      ],
      "text/plain": [
       "   UF                 \n",
       "1  Rondônia           \n",
       "2  Acre               \n",
       "3  Amazonas           \n",
       "4  Roraima            \n",
       "5  Pará               \n",
       "6  Amapá              \n",
       "7  Tocantins          \n",
       "8  Maranhão           \n",
       "9  Piauí              \n",
       "10 Ceará              \n",
       "11 Rio Grande do Norte\n",
       "12 Paraíba            \n",
       "13 Pernambuco         \n",
       "14 Alagoas            \n",
       "15 Sergipe            \n",
       "16 Bahia              \n",
       "17 Minas Gerais       \n",
       "18 Espírito Santo     \n",
       "19 Rio de Janeiro     \n",
       "20 São Paulo          \n",
       "21 Paraná             \n",
       "22 Santa Catarina     \n",
       "23 Rio Grande do Sul  \n",
       "24 Mato Grosso do Sul \n",
       "25 Mato Grosso        \n",
       "26 Goiás              \n",
       "27 Distrito Federal   "
      ]
     },
     "metadata": {},
     "output_type": "display_data"
    }
   ],
   "source": [
    "dados %>%\n",
    "  distinct(UF)"
   ]
  },
  {
   "cell_type": "code",
   "execution_count": 9,
   "metadata": {
    "colab": {
     "base_uri": "https://localhost:8080/",
     "height": 945
    },
    "executionInfo": {
     "elapsed": 25,
     "status": "ok",
     "timestamp": 1734369454760,
     "user": {
      "displayName": "Afonso Augusto Rios",
      "userId": "05972796828124452071"
     },
     "user_tz": 180
    },
    "id": "VhQ5_rRO9tZJ",
    "outputId": "ad3879e4-b02a-4567-aa6a-ddadbee7119e",
    "vscode": {
     "languageId": "r"
    }
   },
   "outputs": [
    {
     "data": {
      "text/html": [
       "<table class=\"dataframe\">\n",
       "<caption>A data.frame: 27 × 2</caption>\n",
       "<thead>\n",
       "\t<tr><th scope=col>UF</th><th scope=col>n</th></tr>\n",
       "\t<tr><th scope=col>&lt;chr&gt;</th><th scope=col>&lt;int&gt;</th></tr>\n",
       "</thead>\n",
       "<tbody>\n",
       "\t<tr><td>São Paulo          </td><td>8544</td></tr>\n",
       "\t<tr><td>Minas Gerais       </td><td>7686</td></tr>\n",
       "\t<tr><td>Rio Grande do Sul  </td><td>6322</td></tr>\n",
       "\t<tr><td>Bahia              </td><td>5717</td></tr>\n",
       "\t<tr><td>Rio de Janeiro     </td><td>5556</td></tr>\n",
       "\t<tr><td>Pará               </td><td>4449</td></tr>\n",
       "\t<tr><td>Paraná             </td><td>4356</td></tr>\n",
       "\t<tr><td>Pernambuco         </td><td>3820</td></tr>\n",
       "\t<tr><td>Goiás              </td><td>3478</td></tr>\n",
       "\t<tr><td>Ceará              </td><td>3359</td></tr>\n",
       "\t<tr><td>Santa Catarina     </td><td>2275</td></tr>\n",
       "\t<tr><td>Amazonas           </td><td>2206</td></tr>\n",
       "\t<tr><td>Distrito Federal   </td><td>2054</td></tr>\n",
       "\t<tr><td>Mato Grosso        </td><td>1800</td></tr>\n",
       "\t<tr><td>Maranhão           </td><td>1787</td></tr>\n",
       "\t<tr><td>Rondônia           </td><td>1537</td></tr>\n",
       "\t<tr><td>Espírito Santo     </td><td>1511</td></tr>\n",
       "\t<tr><td>Mato Grosso do Sul </td><td>1440</td></tr>\n",
       "\t<tr><td>Tocantins          </td><td>1306</td></tr>\n",
       "\t<tr><td>Sergipe            </td><td>1287</td></tr>\n",
       "\t<tr><td>Paraíba            </td><td>1274</td></tr>\n",
       "\t<tr><td>Piauí              </td><td>1211</td></tr>\n",
       "\t<tr><td>Rio Grande do Norte</td><td> 973</td></tr>\n",
       "\t<tr><td>Acre               </td><td> 937</td></tr>\n",
       "\t<tr><td>Alagoas            </td><td> 903</td></tr>\n",
       "\t<tr><td>Roraima            </td><td> 540</td></tr>\n",
       "\t<tr><td>Amapá              </td><td> 512</td></tr>\n",
       "</tbody>\n",
       "</table>\n"
      ],
      "text/latex": [
       "A data.frame: 27 × 2\n",
       "\\begin{tabular}{ll}\n",
       " UF & n\\\\\n",
       " <chr> & <int>\\\\\n",
       "\\hline\n",
       "\t São Paulo           & 8544\\\\\n",
       "\t Minas Gerais        & 7686\\\\\n",
       "\t Rio Grande do Sul   & 6322\\\\\n",
       "\t Bahia               & 5717\\\\\n",
       "\t Rio de Janeiro      & 5556\\\\\n",
       "\t Pará                & 4449\\\\\n",
       "\t Paraná              & 4356\\\\\n",
       "\t Pernambuco          & 3820\\\\\n",
       "\t Goiás               & 3478\\\\\n",
       "\t Ceará               & 3359\\\\\n",
       "\t Santa Catarina      & 2275\\\\\n",
       "\t Amazonas            & 2206\\\\\n",
       "\t Distrito Federal    & 2054\\\\\n",
       "\t Mato Grosso         & 1800\\\\\n",
       "\t Maranhão            & 1787\\\\\n",
       "\t Rondônia            & 1537\\\\\n",
       "\t Espírito Santo      & 1511\\\\\n",
       "\t Mato Grosso do Sul  & 1440\\\\\n",
       "\t Tocantins           & 1306\\\\\n",
       "\t Sergipe             & 1287\\\\\n",
       "\t Paraíba             & 1274\\\\\n",
       "\t Piauí               & 1211\\\\\n",
       "\t Rio Grande do Norte &  973\\\\\n",
       "\t Acre                &  937\\\\\n",
       "\t Alagoas             &  903\\\\\n",
       "\t Roraima             &  540\\\\\n",
       "\t Amapá               &  512\\\\\n",
       "\\end{tabular}\n"
      ],
      "text/markdown": [
       "\n",
       "A data.frame: 27 × 2\n",
       "\n",
       "| UF &lt;chr&gt; | n &lt;int&gt; |\n",
       "|---|---|\n",
       "| São Paulo           | 8544 |\n",
       "| Minas Gerais        | 7686 |\n",
       "| Rio Grande do Sul   | 6322 |\n",
       "| Bahia               | 5717 |\n",
       "| Rio de Janeiro      | 5556 |\n",
       "| Pará                | 4449 |\n",
       "| Paraná              | 4356 |\n",
       "| Pernambuco          | 3820 |\n",
       "| Goiás               | 3478 |\n",
       "| Ceará               | 3359 |\n",
       "| Santa Catarina      | 2275 |\n",
       "| Amazonas            | 2206 |\n",
       "| Distrito Federal    | 2054 |\n",
       "| Mato Grosso         | 1800 |\n",
       "| Maranhão            | 1787 |\n",
       "| Rondônia            | 1537 |\n",
       "| Espírito Santo      | 1511 |\n",
       "| Mato Grosso do Sul  | 1440 |\n",
       "| Tocantins           | 1306 |\n",
       "| Sergipe             | 1287 |\n",
       "| Paraíba             | 1274 |\n",
       "| Piauí               | 1211 |\n",
       "| Rio Grande do Norte |  973 |\n",
       "| Acre                |  937 |\n",
       "| Alagoas             |  903 |\n",
       "| Roraima             |  540 |\n",
       "| Amapá               |  512 |\n",
       "\n"
      ],
      "text/plain": [
       "   UF                  n   \n",
       "1  São Paulo           8544\n",
       "2  Minas Gerais        7686\n",
       "3  Rio Grande do Sul   6322\n",
       "4  Bahia               5717\n",
       "5  Rio de Janeiro      5556\n",
       "6  Pará                4449\n",
       "7  Paraná              4356\n",
       "8  Pernambuco          3820\n",
       "9  Goiás               3478\n",
       "10 Ceará               3359\n",
       "11 Santa Catarina      2275\n",
       "12 Amazonas            2206\n",
       "13 Distrito Federal    2054\n",
       "14 Mato Grosso         1800\n",
       "15 Maranhão            1787\n",
       "16 Rondônia            1537\n",
       "17 Espírito Santo      1511\n",
       "18 Mato Grosso do Sul  1440\n",
       "19 Tocantins           1306\n",
       "20 Sergipe             1287\n",
       "21 Paraíba             1274\n",
       "22 Piauí               1211\n",
       "23 Rio Grande do Norte  973\n",
       "24 Acre                 937\n",
       "25 Alagoas              903\n",
       "26 Roraima              540\n",
       "27 Amapá                512"
      ]
     },
     "metadata": {},
     "output_type": "display_data"
    }
   ],
   "source": [
    "registros_uf <- dados %>%\n",
    "  count(UF, sort=T)\n",
    "\n",
    "registros_uf"
   ]
  },
  {
   "cell_type": "code",
   "execution_count": 10,
   "metadata": {
    "colab": {
     "base_uri": "https://localhost:8080/",
     "height": 497
    },
    "executionInfo": {
     "elapsed": 1163,
     "status": "ok",
     "timestamp": 1734369455899,
     "user": {
      "displayName": "Afonso Augusto Rios",
      "userId": "05972796828124452071"
     },
     "user_tz": 180
    },
    "id": "Uvr8woqy9tWb",
    "outputId": "8db176c8-b4a0-4a0d-b7bc-131b9c6f1d1c",
    "vscode": {
     "languageId": "r"
    }
   },
   "outputs": [
    {
     "data": {
      "image/png": "[encoded data removed]",
      "text/plain": [
       "plot without title"
      ]
     },
     "metadata": {
      "image/png": {
       "height": 480,
       "width": 720
      }
     },
     "output_type": "display_data"
    }
   ],
   "source": [
    "ggplot(registros_uf) +\n",
    "  geom_col(aes(x = n, y = reorder(UF, n))) + tema"
   ]
  },
  {
   "cell_type": "markdown",
   "metadata": {
    "id": "8fTFk94y-ZUK"
   },
   "source": [
    "#### **Transforme as variáveis `Sexo`, `Cor` e `Anos.de.Estudo` em factor e observe o resultado**"
   ]
  },
  {
   "cell_type": "markdown",
   "metadata": {
    "id": "UUIelOM4-s9J"
   },
   "source": [
    "**Dica 1:** Para te auxiliar neste processo, a célula abaixo traz os vetores com os valores de cada coluna na ordem desejada.\n",
    "\n",
    "**Dica 2:** Utilize a tabela no início do documento para fazer a relação dos valores atuais para os desejados."
   ]
  },
  {
   "cell_type": "code",
   "execution_count": 11,
   "metadata": {
    "executionInfo": {
     "elapsed": 56,
     "status": "ok",
     "timestamp": 1734369455899,
     "user": {
      "displayName": "Afonso Augusto Rios",
      "userId": "05972796828124452071"
     },
     "user_tz": 180
    },
    "id": "Y-Db4dk--Y2x",
    "vscode": {
     "languageId": "r"
    }
   },
   "outputs": [],
   "source": [
    "sexo = c(\n",
    "    'Masculino',\n",
    "    'Feminino'\n",
    ")\n",
    "cor = c(\n",
    "    'Indígena',\n",
    "    'Branca',\n",
    "    'Preta',\n",
    "    'Amarela',\n",
    "    'Parda'\n",
    ")\n",
    "anos_de_estudo = c(\n",
    "    'Sem instrução e menos de 1 ano',\n",
    "    '1 ano',\n",
    "    '2 anos',\n",
    "    '3 anos',\n",
    "    '4 anos',\n",
    "    '5 anos',\n",
    "    '6 anos',\n",
    "    '7 anos',\n",
    "    '8 anos',\n",
    "    '9 anos',\n",
    "    '10 anos',\n",
    "    '11 anos',\n",
    "    '12 anos',\n",
    "    '13 anos',\n",
    "    '14 anos',\n",
    "    '15 anos ou mais',\n",
    "    'Não determinados'\n",
    ")"
   ]
  },
  {
   "cell_type": "code",
   "execution_count": 12,
   "metadata": {
    "colab": {
     "base_uri": "https://localhost:8080/",
     "height": 192
    },
    "executionInfo": {
     "elapsed": 56,
     "status": "ok",
     "timestamp": 1734369455899,
     "user": {
      "displayName": "Afonso Augusto Rios",
      "userId": "05972796828124452071"
     },
     "user_tz": 180
    },
    "id": "lxfNCBlibSZl",
    "outputId": "71308159-fc7d-4432-fd13-744ccc0660e1",
    "vscode": {
     "languageId": "r"
    }
   },
   "outputs": [
    {
     "data": {
      "text/html": [
       "<table class=\"dataframe\">\n",
       "<caption>A data.frame: 3 × 7</caption>\n",
       "<thead>\n",
       "\t<tr><th></th><th scope=col>UF</th><th scope=col>Sexo</th><th scope=col>Idade</th><th scope=col>Cor</th><th scope=col>Anos.de.Estudo</th><th scope=col>Renda</th><th scope=col>Altura</th></tr>\n",
       "\t<tr><th></th><th scope=col>&lt;chr&gt;</th><th scope=col>&lt;int&gt;</th><th scope=col>&lt;int&gt;</th><th scope=col>&lt;int&gt;</th><th scope=col>&lt;int&gt;</th><th scope=col>&lt;int&gt;</th><th scope=col>&lt;dbl&gt;</th></tr>\n",
       "</thead>\n",
       "<tbody>\n",
       "\t<tr><th scope=row>1</th><td>Rondônia</td><td>0</td><td>23</td><td>8</td><td>12</td><td> 800</td><td>1.60</td></tr>\n",
       "\t<tr><th scope=row>2</th><td>Rondônia</td><td>1</td><td>23</td><td>2</td><td>12</td><td>1150</td><td>1.74</td></tr>\n",
       "\t<tr><th scope=row>3</th><td>Rondônia</td><td>1</td><td>35</td><td>8</td><td>15</td><td> 880</td><td>1.76</td></tr>\n",
       "</tbody>\n",
       "</table>\n"
      ],
      "text/latex": [
       "A data.frame: 3 × 7\n",
       "\\begin{tabular}{r|lllllll}\n",
       "  & UF & Sexo & Idade & Cor & Anos.de.Estudo & Renda & Altura\\\\\n",
       "  & <chr> & <int> & <int> & <int> & <int> & <int> & <dbl>\\\\\n",
       "\\hline\n",
       "\t1 & Rondônia & 0 & 23 & 8 & 12 &  800 & 1.60\\\\\n",
       "\t2 & Rondônia & 1 & 23 & 2 & 12 & 1150 & 1.74\\\\\n",
       "\t3 & Rondônia & 1 & 35 & 8 & 15 &  880 & 1.76\\\\\n",
       "\\end{tabular}\n"
      ],
      "text/markdown": [
       "\n",
       "A data.frame: 3 × 7\n",
       "\n",
       "| <!--/--> | UF &lt;chr&gt; | Sexo &lt;int&gt; | Idade &lt;int&gt; | Cor &lt;int&gt; | Anos.de.Estudo &lt;int&gt; | Renda &lt;int&gt; | Altura &lt;dbl&gt; |\n",
       "|---|---|---|---|---|---|---|---|\n",
       "| 1 | Rondônia | 0 | 23 | 8 | 12 |  800 | 1.60 |\n",
       "| 2 | Rondônia | 1 | 23 | 2 | 12 | 1150 | 1.74 |\n",
       "| 3 | Rondônia | 1 | 35 | 8 | 15 |  880 | 1.76 |\n",
       "\n"
      ],
      "text/plain": [
       "  UF       Sexo Idade Cor Anos.de.Estudo Renda Altura\n",
       "1 Rondônia 0    23    8   12              800  1.60  \n",
       "2 Rondônia 1    23    2   12             1150  1.74  \n",
       "3 Rondônia 1    35    8   15              880  1.76  "
      ]
     },
     "metadata": {},
     "output_type": "display_data"
    }
   ],
   "source": [
    "head(dados,3)"
   ]
  },
  {
   "cell_type": "markdown",
   "metadata": {
    "id": "oNXrD7nYbu9L"
   },
   "source": [
    "##### Sexo"
   ]
  },
  {
   "cell_type": "code",
   "execution_count": 13,
   "metadata": {
    "executionInfo": {
     "elapsed": 56,
     "status": "ok",
     "timestamp": 1734369455900,
     "user": {
      "displayName": "Afonso Augusto Rios",
      "userId": "05972796828124452071"
     },
     "user_tz": 180
    },
    "id": "tT3-8pxMXH3n",
    "vscode": {
     "languageId": "r"
    }
   },
   "outputs": [],
   "source": [
    "dados <- dados %>%\n",
    "  mutate(Cat.Sexo = factor(Sexo,\n",
    "                           levels = c(0,1),\n",
    "                           labels = sexo))"
   ]
  },
  {
   "cell_type": "code",
   "execution_count": 14,
   "metadata": {
    "colab": {
     "base_uri": "https://localhost:8080/",
     "height": 161
    },
    "executionInfo": {
     "elapsed": 56,
     "status": "ok",
     "timestamp": 1734369455900,
     "user": {
      "displayName": "Afonso Augusto Rios",
      "userId": "05972796828124452071"
     },
     "user_tz": 180
    },
    "id": "NAQ8aFGIXH0S",
    "outputId": "27a8f916-e1f0-4735-8e5d-aa76a540afdf",
    "vscode": {
     "languageId": "r"
    }
   },
   "outputs": [
    {
     "data": {
      "text/html": [
       "<table class=\"dataframe\">\n",
       "<caption>A data.frame: 2 × 2</caption>\n",
       "<thead>\n",
       "\t<tr><th scope=col>Sexo</th><th scope=col>Cat.Sexo</th></tr>\n",
       "\t<tr><th scope=col>&lt;int&gt;</th><th scope=col>&lt;fct&gt;</th></tr>\n",
       "</thead>\n",
       "<tbody>\n",
       "\t<tr><td>0</td><td>Masculino</td></tr>\n",
       "\t<tr><td>1</td><td>Feminino </td></tr>\n",
       "</tbody>\n",
       "</table>\n"
      ],
      "text/latex": [
       "A data.frame: 2 × 2\n",
       "\\begin{tabular}{ll}\n",
       " Sexo & Cat.Sexo\\\\\n",
       " <int> & <fct>\\\\\n",
       "\\hline\n",
       "\t 0 & Masculino\\\\\n",
       "\t 1 & Feminino \\\\\n",
       "\\end{tabular}\n"
      ],
      "text/markdown": [
       "\n",
       "A data.frame: 2 × 2\n",
       "\n",
       "| Sexo &lt;int&gt; | Cat.Sexo &lt;fct&gt; |\n",
       "|---|---|\n",
       "| 0 | Masculino |\n",
       "| 1 | Feminino  |\n",
       "\n"
      ],
      "text/plain": [
       "  Sexo Cat.Sexo \n",
       "1 0    Masculino\n",
       "2 1    Feminino "
      ]
     },
     "metadata": {},
     "output_type": "display_data"
    }
   ],
   "source": [
    "dados %>%\n",
    "  distinct(Sexo, Cat.Sexo) %>%\n",
    "  arrange(Cat.Sexo)"
   ]
  },
  {
   "cell_type": "markdown",
   "metadata": {
    "id": "qrrZ2J9kcCFl"
   },
   "source": [
    "##### Cor"
   ]
  },
  {
   "cell_type": "code",
   "execution_count": 15,
   "metadata": {
    "executionInfo": {
     "elapsed": 56,
     "status": "ok",
     "timestamp": 1734369455900,
     "user": {
      "displayName": "Afonso Augusto Rios",
      "userId": "05972796828124452071"
     },
     "user_tz": 180
    },
    "id": "hYw4oqfxbWlE",
    "vscode": {
     "languageId": "r"
    }
   },
   "outputs": [],
   "source": [
    "dados <- dados %>%\n",
    "  mutate(Cat.Cor = factor(Cor,\n",
    "                           levels = c(0, 2, 4, 6, 8),\n",
    "                           labels = cor))"
   ]
  },
  {
   "cell_type": "code",
   "execution_count": 16,
   "metadata": {
    "colab": {
     "base_uri": "https://localhost:8080/",
     "height": 255
    },
    "executionInfo": {
     "elapsed": 55,
     "status": "ok",
     "timestamp": 1734369455900,
     "user": {
      "displayName": "Afonso Augusto Rios",
      "userId": "05972796828124452071"
     },
     "user_tz": 180
    },
    "id": "ZpOYL7LebWlF",
    "outputId": "72a45494-c2f7-4c9f-f589-80bea60966f5",
    "vscode": {
     "languageId": "r"
    }
   },
   "outputs": [
    {
     "data": {
      "text/html": [
       "<table class=\"dataframe\">\n",
       "<caption>A data.frame: 5 × 2</caption>\n",
       "<thead>\n",
       "\t<tr><th scope=col>Cor</th><th scope=col>Cat.Cor</th></tr>\n",
       "\t<tr><th scope=col>&lt;int&gt;</th><th scope=col>&lt;fct&gt;</th></tr>\n",
       "</thead>\n",
       "<tbody>\n",
       "\t<tr><td>0</td><td>Indígena</td></tr>\n",
       "\t<tr><td>2</td><td>Branca  </td></tr>\n",
       "\t<tr><td>4</td><td>Preta   </td></tr>\n",
       "\t<tr><td>6</td><td>Amarela </td></tr>\n",
       "\t<tr><td>8</td><td>Parda   </td></tr>\n",
       "</tbody>\n",
       "</table>\n"
      ],
      "text/latex": [
       "A data.frame: 5 × 2\n",
       "\\begin{tabular}{ll}\n",
       " Cor & Cat.Cor\\\\\n",
       " <int> & <fct>\\\\\n",
       "\\hline\n",
       "\t 0 & Indígena\\\\\n",
       "\t 2 & Branca  \\\\\n",
       "\t 4 & Preta   \\\\\n",
       "\t 6 & Amarela \\\\\n",
       "\t 8 & Parda   \\\\\n",
       "\\end{tabular}\n"
      ],
      "text/markdown": [
       "\n",
       "A data.frame: 5 × 2\n",
       "\n",
       "| Cor &lt;int&gt; | Cat.Cor &lt;fct&gt; |\n",
       "|---|---|\n",
       "| 0 | Indígena |\n",
       "| 2 | Branca   |\n",
       "| 4 | Preta    |\n",
       "| 6 | Amarela  |\n",
       "| 8 | Parda    |\n",
       "\n"
      ],
      "text/plain": [
       "  Cor Cat.Cor \n",
       "1 0   Indígena\n",
       "2 2   Branca  \n",
       "3 4   Preta   \n",
       "4 6   Amarela \n",
       "5 8   Parda   "
      ]
     },
     "metadata": {},
     "output_type": "display_data"
    }
   ],
   "source": [
    "dados %>%\n",
    "  distinct(Cor, Cat.Cor) %>%\n",
    "  arrange(Cat.Cor)"
   ]
  },
  {
   "cell_type": "markdown",
   "metadata": {
    "id": "ssIG-8t6cE5r"
   },
   "source": [
    "### Anos de Estudo"
   ]
  },
  {
   "cell_type": "markdown",
   "metadata": {
    "id": "5mPBXIFbgHL0"
   },
   "source": [
    "**Dica 3:** Para criar um vetor que representa uma sequência de números, utilize a notação `c(valor_inicial:valor_final)`.\n",
    "\n",
    "Exemplo: `c(1:5)` gera o vetor (1, 2, 3, 4, 5)."
   ]
  },
  {
   "cell_type": "code",
   "execution_count": 17,
   "metadata": {
    "executionInfo": {
     "elapsed": 55,
     "status": "ok",
     "timestamp": 1734369455900,
     "user": {
      "displayName": "Afonso Augusto Rios",
      "userId": "05972796828124452071"
     },
     "user_tz": 180
    },
    "id": "MgDm6PK4ba6r",
    "vscode": {
     "languageId": "r"
    }
   },
   "outputs": [],
   "source": [
    "dados <- dados %>%\n",
    "  mutate(Cat.Anos.de.Estudo = factor(Anos.de.Estudo,\n",
    "                           levels = c(1:17),\n",
    "                           labels = anos_de_estudo))"
   ]
  },
  {
   "cell_type": "code",
   "execution_count": 18,
   "metadata": {
    "colab": {
     "base_uri": "https://localhost:8080/",
     "height": 631
    },
    "executionInfo": {
     "elapsed": 55,
     "status": "ok",
     "timestamp": 1734369455900,
     "user": {
      "displayName": "Afonso Augusto Rios",
      "userId": "05972796828124452071"
     },
     "user_tz": 180
    },
    "id": "bev-3RVKba6s",
    "outputId": "f4760607-08b5-4cd3-ae69-871419114183",
    "vscode": {
     "languageId": "r"
    }
   },
   "outputs": [
    {
     "data": {
      "text/html": [
       "<table class=\"dataframe\">\n",
       "<caption>A data.frame: 17 × 2</caption>\n",
       "<thead>\n",
       "\t<tr><th scope=col>Anos.de.Estudo</th><th scope=col>Cat.Anos.de.Estudo</th></tr>\n",
       "\t<tr><th scope=col>&lt;int&gt;</th><th scope=col>&lt;fct&gt;</th></tr>\n",
       "</thead>\n",
       "<tbody>\n",
       "\t<tr><td> 1</td><td>Sem instrução e menos de 1 ano</td></tr>\n",
       "\t<tr><td> 2</td><td>1 ano                         </td></tr>\n",
       "\t<tr><td> 3</td><td>2 anos                        </td></tr>\n",
       "\t<tr><td> 4</td><td>3 anos                        </td></tr>\n",
       "\t<tr><td> 5</td><td>4 anos                        </td></tr>\n",
       "\t<tr><td> 6</td><td>5 anos                        </td></tr>\n",
       "\t<tr><td> 7</td><td>6 anos                        </td></tr>\n",
       "\t<tr><td> 8</td><td>7 anos                        </td></tr>\n",
       "\t<tr><td> 9</td><td>8 anos                        </td></tr>\n",
       "\t<tr><td>10</td><td>9 anos                        </td></tr>\n",
       "\t<tr><td>11</td><td>10 anos                       </td></tr>\n",
       "\t<tr><td>12</td><td>11 anos                       </td></tr>\n",
       "\t<tr><td>13</td><td>12 anos                       </td></tr>\n",
       "\t<tr><td>14</td><td>13 anos                       </td></tr>\n",
       "\t<tr><td>15</td><td>14 anos                       </td></tr>\n",
       "\t<tr><td>16</td><td>15 anos ou mais               </td></tr>\n",
       "\t<tr><td>17</td><td>Não determinados              </td></tr>\n",
       "</tbody>\n",
       "</table>\n"
      ],
      "text/latex": [
       "A data.frame: 17 × 2\n",
       "\\begin{tabular}{ll}\n",
       " Anos.de.Estudo & Cat.Anos.de.Estudo\\\\\n",
       " <int> & <fct>\\\\\n",
       "\\hline\n",
       "\t  1 & Sem instrução e menos de 1 ano\\\\\n",
       "\t  2 & 1 ano                         \\\\\n",
       "\t  3 & 2 anos                        \\\\\n",
       "\t  4 & 3 anos                        \\\\\n",
       "\t  5 & 4 anos                        \\\\\n",
       "\t  6 & 5 anos                        \\\\\n",
       "\t  7 & 6 anos                        \\\\\n",
       "\t  8 & 7 anos                        \\\\\n",
       "\t  9 & 8 anos                        \\\\\n",
       "\t 10 & 9 anos                        \\\\\n",
       "\t 11 & 10 anos                       \\\\\n",
       "\t 12 & 11 anos                       \\\\\n",
       "\t 13 & 12 anos                       \\\\\n",
       "\t 14 & 13 anos                       \\\\\n",
       "\t 15 & 14 anos                       \\\\\n",
       "\t 16 & 15 anos ou mais               \\\\\n",
       "\t 17 & Não determinados              \\\\\n",
       "\\end{tabular}\n"
      ],
      "text/markdown": [
       "\n",
       "A data.frame: 17 × 2\n",
       "\n",
       "| Anos.de.Estudo &lt;int&gt; | Cat.Anos.de.Estudo &lt;fct&gt; |\n",
       "|---|---|\n",
       "|  1 | Sem instrução e menos de 1 ano |\n",
       "|  2 | 1 ano                          |\n",
       "|  3 | 2 anos                         |\n",
       "|  4 | 3 anos                         |\n",
       "|  5 | 4 anos                         |\n",
       "|  6 | 5 anos                         |\n",
       "|  7 | 6 anos                         |\n",
       "|  8 | 7 anos                         |\n",
       "|  9 | 8 anos                         |\n",
       "| 10 | 9 anos                         |\n",
       "| 11 | 10 anos                        |\n",
       "| 12 | 11 anos                        |\n",
       "| 13 | 12 anos                        |\n",
       "| 14 | 13 anos                        |\n",
       "| 15 | 14 anos                        |\n",
       "| 16 | 15 anos ou mais                |\n",
       "| 17 | Não determinados               |\n",
       "\n"
      ],
      "text/plain": [
       "   Anos.de.Estudo Cat.Anos.de.Estudo            \n",
       "1   1             Sem instrução e menos de 1 ano\n",
       "2   2             1 ano                         \n",
       "3   3             2 anos                        \n",
       "4   4             3 anos                        \n",
       "5   5             4 anos                        \n",
       "6   6             5 anos                        \n",
       "7   7             6 anos                        \n",
       "8   8             7 anos                        \n",
       "9   9             8 anos                        \n",
       "10 10             9 anos                        \n",
       "11 11             10 anos                       \n",
       "12 12             11 anos                       \n",
       "13 13             12 anos                       \n",
       "14 14             13 anos                       \n",
       "15 15             14 anos                       \n",
       "16 16             15 anos ou mais               \n",
       "17 17             Não determinados              "
      ]
     },
     "metadata": {},
     "output_type": "display_data"
    }
   ],
   "source": [
    "dados %>%\n",
    "  distinct(Anos.de.Estudo, Cat.Anos.de.Estudo) %>%\n",
    "  arrange(Cat.Anos.de.Estudo)"
   ]
  },
  {
   "cell_type": "code",
   "execution_count": 19,
   "metadata": {
    "colab": {
     "base_uri": "https://localhost:8080/",
     "height": 192
    },
    "executionInfo": {
     "elapsed": 54,
     "status": "ok",
     "timestamp": 1734369455900,
     "user": {
      "displayName": "Afonso Augusto Rios",
      "userId": "05972796828124452071"
     },
     "user_tz": 180
    },
    "id": "JQXv8ZtFbVYk",
    "outputId": "a010c9d4-20c5-4abb-e42d-949df629aa74",
    "vscode": {
     "languageId": "r"
    }
   },
   "outputs": [
    {
     "data": {
      "text/html": [
       "<table class=\"dataframe\">\n",
       "<caption>A data.frame: 3 × 10</caption>\n",
       "<thead>\n",
       "\t<tr><th></th><th scope=col>UF</th><th scope=col>Sexo</th><th scope=col>Idade</th><th scope=col>Cor</th><th scope=col>Anos.de.Estudo</th><th scope=col>Renda</th><th scope=col>Altura</th><th scope=col>Cat.Sexo</th><th scope=col>Cat.Cor</th><th scope=col>Cat.Anos.de.Estudo</th></tr>\n",
       "\t<tr><th></th><th scope=col>&lt;chr&gt;</th><th scope=col>&lt;int&gt;</th><th scope=col>&lt;int&gt;</th><th scope=col>&lt;int&gt;</th><th scope=col>&lt;int&gt;</th><th scope=col>&lt;int&gt;</th><th scope=col>&lt;dbl&gt;</th><th scope=col>&lt;fct&gt;</th><th scope=col>&lt;fct&gt;</th><th scope=col>&lt;fct&gt;</th></tr>\n",
       "</thead>\n",
       "<tbody>\n",
       "\t<tr><th scope=row>1</th><td>Rondônia</td><td>0</td><td>23</td><td>8</td><td>12</td><td> 800</td><td>1.60</td><td>Masculino</td><td>Parda </td><td>11 anos</td></tr>\n",
       "\t<tr><th scope=row>2</th><td>Rondônia</td><td>1</td><td>23</td><td>2</td><td>12</td><td>1150</td><td>1.74</td><td>Feminino </td><td>Branca</td><td>11 anos</td></tr>\n",
       "\t<tr><th scope=row>3</th><td>Rondônia</td><td>1</td><td>35</td><td>8</td><td>15</td><td> 880</td><td>1.76</td><td>Feminino </td><td>Parda </td><td>14 anos</td></tr>\n",
       "</tbody>\n",
       "</table>\n"
      ],
      "text/latex": [
       "A data.frame: 3 × 10\n",
       "\\begin{tabular}{r|llllllllll}\n",
       "  & UF & Sexo & Idade & Cor & Anos.de.Estudo & Renda & Altura & Cat.Sexo & Cat.Cor & Cat.Anos.de.Estudo\\\\\n",
       "  & <chr> & <int> & <int> & <int> & <int> & <int> & <dbl> & <fct> & <fct> & <fct>\\\\\n",
       "\\hline\n",
       "\t1 & Rondônia & 0 & 23 & 8 & 12 &  800 & 1.60 & Masculino & Parda  & 11 anos\\\\\n",
       "\t2 & Rondônia & 1 & 23 & 2 & 12 & 1150 & 1.74 & Feminino  & Branca & 11 anos\\\\\n",
       "\t3 & Rondônia & 1 & 35 & 8 & 15 &  880 & 1.76 & Feminino  & Parda  & 14 anos\\\\\n",
       "\\end{tabular}\n"
      ],
      "text/markdown": [
       "\n",
       "A data.frame: 3 × 10\n",
       "\n",
       "| <!--/--> | UF &lt;chr&gt; | Sexo &lt;int&gt; | Idade &lt;int&gt; | Cor &lt;int&gt; | Anos.de.Estudo &lt;int&gt; | Renda &lt;int&gt; | Altura &lt;dbl&gt; | Cat.Sexo &lt;fct&gt; | Cat.Cor &lt;fct&gt; | Cat.Anos.de.Estudo &lt;fct&gt; |\n",
       "|---|---|---|---|---|---|---|---|---|---|---|\n",
       "| 1 | Rondônia | 0 | 23 | 8 | 12 |  800 | 1.60 | Masculino | Parda  | 11 anos |\n",
       "| 2 | Rondônia | 1 | 23 | 2 | 12 | 1150 | 1.74 | Feminino  | Branca | 11 anos |\n",
       "| 3 | Rondônia | 1 | 35 | 8 | 15 |  880 | 1.76 | Feminino  | Parda  | 14 anos |\n",
       "\n"
      ],
      "text/plain": [
       "  UF       Sexo Idade Cor Anos.de.Estudo Renda Altura Cat.Sexo  Cat.Cor\n",
       "1 Rondônia 0    23    8   12              800  1.60   Masculino Parda  \n",
       "2 Rondônia 1    23    2   12             1150  1.74   Feminino  Branca \n",
       "3 Rondônia 1    35    8   15              880  1.76   Feminino  Parda  \n",
       "  Cat.Anos.de.Estudo\n",
       "1 11 anos           \n",
       "2 11 anos           \n",
       "3 14 anos           "
      ]
     },
     "metadata": {},
     "output_type": "display_data"
    }
   ],
   "source": [
    "head(dados,3)"
   ]
  },
  {
   "cell_type": "markdown",
   "metadata": {
    "id": "kZO79aSSgp7w"
   },
   "source": [
    "#### **Apresente em texto a menor e maior `Renda` da base de dados**"
   ]
  },
  {
   "cell_type": "markdown",
   "metadata": {
    "id": "L3vbQxRRiMF0"
   },
   "source": [
    "**Dica:** A renda é uma medida discreta. Para formatar o texto com `glue` para separação milhar dos dados use a função `format` da seguinte forma:\n",
    "\n",
    "```format(variavel_desejada, big.mark = ',')```"
   ]
  },
  {
   "cell_type": "code",
   "execution_count": 20,
   "metadata": {
    "colab": {
     "base_uri": "https://localhost:8080/",
     "height": 34
    },
    "executionInfo": {
     "elapsed": 53,
     "status": "ok",
     "timestamp": 1734369455900,
     "user": {
      "displayName": "Afonso Augusto Rios",
      "userId": "05972796828124452071"
     },
     "user_tz": 180
    },
    "id": "GkmDkp_Gg9PI",
    "outputId": "2021da67-3518-4aee-e530-617558e6395b",
    "vscode": {
     "languageId": "r"
    }
   },
   "outputs": [
    {
     "data": {
      "text/html": [
       "'A menor Renda da base de dados é de R$ 0 e a maior é de R$ 200,000'"
      ],
      "text/latex": [
       "'A menor Renda da base de dados é de R\\$ 0 e a maior é de R\\$ 200,000'"
      ],
      "text/markdown": [
       "'A menor Renda da base de dados é de R$ 0 e a maior é de R$ 200,000'"
      ],
      "text/plain": [
       "A menor Renda da base de dados é de R$ 0 e a maior é de R$ 200,000"
      ]
     },
     "metadata": {},
     "output_type": "display_data"
    }
   ],
   "source": [
    "glue(\"A menor Renda da base de dados é de R$ {min(dados$Renda)} e a maior é de R$ {format(max(dados$Renda), big.mark = ',')}\")"
   ]
  },
  {
   "cell_type": "markdown",
   "metadata": {
    "id": "ix1N_JAH_T1C"
   },
   "source": [
    "## **Aula 02 - Identificando o perfil do público**"
   ]
  },
  {
   "cell_type": "markdown",
   "metadata": {
    "id": "J_4eNIp7i6Rh"
   },
   "source": [
    "### **Mão na Massa - Analisando o perfil das pessoas responsáveis**"
   ]
  },
  {
   "cell_type": "markdown",
   "metadata": {
    "id": "0rBGP9HaAQJj"
   },
   "source": [
    "Vamos prosseguir no treinamento, agora identificando o perfil das pessoas responsáveis pelo domicílio de acordo com os dados da PNAD de 2015. Responda às perguntas abaixo e reflita sobre os achados."
   ]
  },
  {
   "cell_type": "markdown",
   "metadata": {
    "id": "IMiAX2onkchv"
   },
   "source": [
    "#### **Construa uma tabela de frequências das pessoas responsáveis pelo domicílio por `Cat.Sexo`. Adicione também uma coluna com esse valor em porcentagem.**"
   ]
  },
  {
   "cell_type": "code",
   "execution_count": 21,
   "metadata": {
    "colab": {
     "base_uri": "https://localhost:8080/",
     "height": 192
    },
    "executionInfo": {
     "elapsed": 52,
     "status": "ok",
     "timestamp": 1734369455900,
     "user": {
      "displayName": "Afonso Augusto Rios",
      "userId": "05972796828124452071"
     },
     "user_tz": 180
    },
    "id": "YzTg0iwOjf38",
    "outputId": "de4e2cd9-0864-4d54-ba10-85231f7057ec",
    "vscode": {
     "languageId": "r"
    }
   },
   "outputs": [
    {
     "data": {
      "text/html": [
       "<table class=\"dataframe\">\n",
       "<caption>A data.frame: 3 × 10</caption>\n",
       "<thead>\n",
       "\t<tr><th></th><th scope=col>UF</th><th scope=col>Sexo</th><th scope=col>Idade</th><th scope=col>Cor</th><th scope=col>Anos.de.Estudo</th><th scope=col>Renda</th><th scope=col>Altura</th><th scope=col>Cat.Sexo</th><th scope=col>Cat.Cor</th><th scope=col>Cat.Anos.de.Estudo</th></tr>\n",
       "\t<tr><th></th><th scope=col>&lt;chr&gt;</th><th scope=col>&lt;int&gt;</th><th scope=col>&lt;int&gt;</th><th scope=col>&lt;int&gt;</th><th scope=col>&lt;int&gt;</th><th scope=col>&lt;int&gt;</th><th scope=col>&lt;dbl&gt;</th><th scope=col>&lt;fct&gt;</th><th scope=col>&lt;fct&gt;</th><th scope=col>&lt;fct&gt;</th></tr>\n",
       "</thead>\n",
       "<tbody>\n",
       "\t<tr><th scope=row>1</th><td>Rondônia</td><td>0</td><td>23</td><td>8</td><td>12</td><td> 800</td><td>1.60</td><td>Masculino</td><td>Parda </td><td>11 anos</td></tr>\n",
       "\t<tr><th scope=row>2</th><td>Rondônia</td><td>1</td><td>23</td><td>2</td><td>12</td><td>1150</td><td>1.74</td><td>Feminino </td><td>Branca</td><td>11 anos</td></tr>\n",
       "\t<tr><th scope=row>3</th><td>Rondônia</td><td>1</td><td>35</td><td>8</td><td>15</td><td> 880</td><td>1.76</td><td>Feminino </td><td>Parda </td><td>14 anos</td></tr>\n",
       "</tbody>\n",
       "</table>\n"
      ],
      "text/latex": [
       "A data.frame: 3 × 10\n",
       "\\begin{tabular}{r|llllllllll}\n",
       "  & UF & Sexo & Idade & Cor & Anos.de.Estudo & Renda & Altura & Cat.Sexo & Cat.Cor & Cat.Anos.de.Estudo\\\\\n",
       "  & <chr> & <int> & <int> & <int> & <int> & <int> & <dbl> & <fct> & <fct> & <fct>\\\\\n",
       "\\hline\n",
       "\t1 & Rondônia & 0 & 23 & 8 & 12 &  800 & 1.60 & Masculino & Parda  & 11 anos\\\\\n",
       "\t2 & Rondônia & 1 & 23 & 2 & 12 & 1150 & 1.74 & Feminino  & Branca & 11 anos\\\\\n",
       "\t3 & Rondônia & 1 & 35 & 8 & 15 &  880 & 1.76 & Feminino  & Parda  & 14 anos\\\\\n",
       "\\end{tabular}\n"
      ],
      "text/markdown": [
       "\n",
       "A data.frame: 3 × 10\n",
       "\n",
       "| <!--/--> | UF &lt;chr&gt; | Sexo &lt;int&gt; | Idade &lt;int&gt; | Cor &lt;int&gt; | Anos.de.Estudo &lt;int&gt; | Renda &lt;int&gt; | Altura &lt;dbl&gt; | Cat.Sexo &lt;fct&gt; | Cat.Cor &lt;fct&gt; | Cat.Anos.de.Estudo &lt;fct&gt; |\n",
       "|---|---|---|---|---|---|---|---|---|---|---|\n",
       "| 1 | Rondônia | 0 | 23 | 8 | 12 |  800 | 1.60 | Masculino | Parda  | 11 anos |\n",
       "| 2 | Rondônia | 1 | 23 | 2 | 12 | 1150 | 1.74 | Feminino  | Branca | 11 anos |\n",
       "| 3 | Rondônia | 1 | 35 | 8 | 15 |  880 | 1.76 | Feminino  | Parda  | 14 anos |\n",
       "\n"
      ],
      "text/plain": [
       "  UF       Sexo Idade Cor Anos.de.Estudo Renda Altura Cat.Sexo  Cat.Cor\n",
       "1 Rondônia 0    23    8   12              800  1.60   Masculino Parda  \n",
       "2 Rondônia 1    23    2   12             1150  1.74   Feminino  Branca \n",
       "3 Rondônia 1    35    8   15              880  1.76   Feminino  Parda  \n",
       "  Cat.Anos.de.Estudo\n",
       "1 11 anos           \n",
       "2 11 anos           \n",
       "3 14 anos           "
      ]
     },
     "metadata": {},
     "output_type": "display_data"
    }
   ],
   "source": [
    "head(dados, 3)"
   ]
  },
  {
   "cell_type": "code",
   "execution_count": 22,
   "metadata": {
    "colab": {
     "base_uri": "https://localhost:8080/",
     "height": 161
    },
    "executionInfo": {
     "elapsed": 52,
     "status": "ok",
     "timestamp": 1734369455900,
     "user": {
      "displayName": "Afonso Augusto Rios",
      "userId": "05972796828124452071"
     },
     "user_tz": 180
    },
    "id": "BhhXTtukjf0p",
    "outputId": "3ffac816-2891-4e32-c7c4-ab428ebdad32",
    "vscode": {
     "languageId": "r"
    }
   },
   "outputs": [
    {
     "data": {
      "text/html": [
       "<table class=\"dataframe\">\n",
       "<caption>A tibble: 2 × 2</caption>\n",
       "<thead>\n",
       "\t<tr><th scope=col>Cat.Sexo</th><th scope=col>freq_absoluta</th></tr>\n",
       "\t<tr><th scope=col>&lt;fct&gt;</th><th scope=col>&lt;int&gt;</th></tr>\n",
       "</thead>\n",
       "<tbody>\n",
       "\t<tr><td>Masculino</td><td>53250</td></tr>\n",
       "\t<tr><td>Feminino </td><td>23590</td></tr>\n",
       "</tbody>\n",
       "</table>\n"
      ],
      "text/latex": [
       "A tibble: 2 × 2\n",
       "\\begin{tabular}{ll}\n",
       " Cat.Sexo & freq\\_absoluta\\\\\n",
       " <fct> & <int>\\\\\n",
       "\\hline\n",
       "\t Masculino & 53250\\\\\n",
       "\t Feminino  & 23590\\\\\n",
       "\\end{tabular}\n"
      ],
      "text/markdown": [
       "\n",
       "A tibble: 2 × 2\n",
       "\n",
       "| Cat.Sexo &lt;fct&gt; | freq_absoluta &lt;int&gt; |\n",
       "|---|---|\n",
       "| Masculino | 53250 |\n",
       "| Feminino  | 23590 |\n",
       "\n"
      ],
      "text/plain": [
       "  Cat.Sexo  freq_absoluta\n",
       "1 Masculino 53250        \n",
       "2 Feminino  23590        "
      ]
     },
     "metadata": {},
     "output_type": "display_data"
    }
   ],
   "source": [
    "freq_sexo <- dados %>%\n",
    "  group_by(Cat.Sexo) %>%\n",
    "  summarise(freq_absoluta = n())\n",
    "\n",
    "freq_sexo"
   ]
  },
  {
   "cell_type": "code",
   "execution_count": 23,
   "metadata": {
    "colab": {
     "base_uri": "https://localhost:8080/",
     "height": 161
    },
    "executionInfo": {
     "elapsed": 51,
     "status": "ok",
     "timestamp": 1734369455900,
     "user": {
      "displayName": "Afonso Augusto Rios",
      "userId": "05972796828124452071"
     },
     "user_tz": 180
    },
    "id": "oRgjb1NVjfxn",
    "outputId": "0140a306-f99c-45c2-af1b-a2879df6a17b",
    "vscode": {
     "languageId": "r"
    }
   },
   "outputs": [
    {
     "data": {
      "text/html": [
       "<table class=\"dataframe\">\n",
       "<caption>A tibble: 2 × 3</caption>\n",
       "<thead>\n",
       "\t<tr><th scope=col>Cat.Sexo</th><th scope=col>freq_absoluta</th><th scope=col>freq_relativa</th></tr>\n",
       "\t<tr><th scope=col>&lt;fct&gt;</th><th scope=col>&lt;int&gt;</th><th scope=col>&lt;dbl&gt;</th></tr>\n",
       "</thead>\n",
       "<tbody>\n",
       "\t<tr><td>Masculino</td><td>53250</td><td>69.3</td></tr>\n",
       "\t<tr><td>Feminino </td><td>23590</td><td>30.7</td></tr>\n",
       "</tbody>\n",
       "</table>\n"
      ],
      "text/latex": [
       "A tibble: 2 × 3\n",
       "\\begin{tabular}{lll}\n",
       " Cat.Sexo & freq\\_absoluta & freq\\_relativa\\\\\n",
       " <fct> & <int> & <dbl>\\\\\n",
       "\\hline\n",
       "\t Masculino & 53250 & 69.3\\\\\n",
       "\t Feminino  & 23590 & 30.7\\\\\n",
       "\\end{tabular}\n"
      ],
      "text/markdown": [
       "\n",
       "A tibble: 2 × 3\n",
       "\n",
       "| Cat.Sexo &lt;fct&gt; | freq_absoluta &lt;int&gt; | freq_relativa &lt;dbl&gt; |\n",
       "|---|---|---|\n",
       "| Masculino | 53250 | 69.3 |\n",
       "| Feminino  | 23590 | 30.7 |\n",
       "\n"
      ],
      "text/plain": [
       "  Cat.Sexo  freq_absoluta freq_relativa\n",
       "1 Masculino 53250         69.3         \n",
       "2 Feminino  23590         30.7         "
      ]
     },
     "metadata": {},
     "output_type": "display_data"
    }
   ],
   "source": [
    "freq_sexo <- freq_sexo %>%\n",
    "  mutate(freq_relativa = round((freq_absoluta / sum(freq_absoluta))* 100, 1))\n",
    "\n",
    "freq_sexo"
   ]
  },
  {
   "cell_type": "code",
   "execution_count": 24,
   "metadata": {
    "colab": {
     "base_uri": "https://localhost:8080/",
     "height": 161
    },
    "executionInfo": {
     "elapsed": 51,
     "status": "ok",
     "timestamp": 1734369455901,
     "user": {
      "displayName": "Afonso Augusto Rios",
      "userId": "05972796828124452071"
     },
     "user_tz": 180
    },
    "id": "8NZcDIIAjfu8",
    "outputId": "0f1c10ee-3cce-4338-cc35-8aff36cc9f66",
    "vscode": {
     "languageId": "r"
    }
   },
   "outputs": [
    {
     "data": {
      "text/html": [
       "<table class=\"dataframe\">\n",
       "<caption>A tibble: 2 × 3</caption>\n",
       "<thead>\n",
       "\t<tr><th scope=col>Sexo</th><th scope=col>Quantidade</th><th scope=col>Porcentagem (%)</th></tr>\n",
       "\t<tr><th scope=col>&lt;fct&gt;</th><th scope=col>&lt;int&gt;</th><th scope=col>&lt;dbl&gt;</th></tr>\n",
       "</thead>\n",
       "<tbody>\n",
       "\t<tr><td>Masculino</td><td>53250</td><td>69.3</td></tr>\n",
       "\t<tr><td>Feminino </td><td>23590</td><td>30.7</td></tr>\n",
       "</tbody>\n",
       "</table>\n"
      ],
      "text/latex": [
       "A tibble: 2 × 3\n",
       "\\begin{tabular}{lll}\n",
       " Sexo & Quantidade & Porcentagem (\\%)\\\\\n",
       " <fct> & <int> & <dbl>\\\\\n",
       "\\hline\n",
       "\t Masculino & 53250 & 69.3\\\\\n",
       "\t Feminino  & 23590 & 30.7\\\\\n",
       "\\end{tabular}\n"
      ],
      "text/markdown": [
       "\n",
       "A tibble: 2 × 3\n",
       "\n",
       "| Sexo &lt;fct&gt; | Quantidade &lt;int&gt; | Porcentagem (%) &lt;dbl&gt; |\n",
       "|---|---|---|\n",
       "| Masculino | 53250 | 69.3 |\n",
       "| Feminino  | 23590 | 30.7 |\n",
       "\n"
      ],
      "text/plain": [
       "  Sexo      Quantidade Porcentagem (%)\n",
       "1 Masculino 53250      69.3           \n",
       "2 Feminino  23590      30.7           "
      ]
     },
     "metadata": {},
     "output_type": "display_data"
    }
   ],
   "source": [
    "colnames(freq_sexo) <- c(\"Sexo\", \"Quantidade\", \"Porcentagem (%)\")\n",
    "freq_sexo"
   ]
  },
  {
   "cell_type": "markdown",
   "metadata": {
    "id": "oN452vflnRlO"
   },
   "source": [
    "#### **Construa uma tabela de frequências absolutas e outra de relativas cruzando as variáveis `Cat.Sexo` e `Cat.Cor` das pessoas responsáveis pelo domicílio.**"
   ]
  },
  {
   "cell_type": "code",
   "execution_count": 25,
   "metadata": {
    "colab": {
     "base_uri": "https://localhost:8080/",
     "height": 161
    },
    "executionInfo": {
     "elapsed": 1427,
     "status": "ok",
     "timestamp": 1734369457277,
     "user": {
      "displayName": "Afonso Augusto Rios",
      "userId": "05972796828124452071"
     },
     "user_tz": 180
    },
    "id": "KdGBdmzQor2l",
    "outputId": "94219a3c-3d98-4737-e41a-281036230371",
    "vscode": {
     "languageId": "r"
    }
   },
   "outputs": [
    {
     "data": {
      "text/html": [
       "<table class=\"dataframe\">\n",
       "<caption>A tibble: 2 × 6</caption>\n",
       "<thead>\n",
       "\t<tr><th scope=col>Cat.Sexo</th><th scope=col>Indígena</th><th scope=col>Branca</th><th scope=col>Preta</th><th scope=col>Amarela</th><th scope=col>Parda</th></tr>\n",
       "\t<tr><th scope=col>&lt;fct&gt;</th><th scope=col>&lt;int&gt;</th><th scope=col>&lt;int&gt;</th><th scope=col>&lt;int&gt;</th><th scope=col>&lt;int&gt;</th><th scope=col>&lt;int&gt;</th></tr>\n",
       "</thead>\n",
       "<tbody>\n",
       "\t<tr><td>Feminino </td><td>101</td><td> 9621</td><td>2889</td><td>117</td><td>10862</td></tr>\n",
       "\t<tr><td>Masculino</td><td>256</td><td>22194</td><td>5502</td><td>235</td><td>25063</td></tr>\n",
       "</tbody>\n",
       "</table>\n"
      ],
      "text/latex": [
       "A tibble: 2 × 6\n",
       "\\begin{tabular}{llllll}\n",
       " Cat.Sexo & Indígena & Branca & Preta & Amarela & Parda\\\\\n",
       " <fct> & <int> & <int> & <int> & <int> & <int>\\\\\n",
       "\\hline\n",
       "\t Feminino  & 101 &  9621 & 2889 & 117 & 10862\\\\\n",
       "\t Masculino & 256 & 22194 & 5502 & 235 & 25063\\\\\n",
       "\\end{tabular}\n"
      ],
      "text/markdown": [
       "\n",
       "A tibble: 2 × 6\n",
       "\n",
       "| Cat.Sexo &lt;fct&gt; | Indígena &lt;int&gt; | Branca &lt;int&gt; | Preta &lt;int&gt; | Amarela &lt;int&gt; | Parda &lt;int&gt; |\n",
       "|---|---|---|---|---|---|\n",
       "| Feminino  | 101 |  9621 | 2889 | 117 | 10862 |\n",
       "| Masculino | 256 | 22194 | 5502 | 235 | 25063 |\n",
       "\n"
      ],
      "text/plain": [
       "  Cat.Sexo  Indígena Branca Preta Amarela Parda\n",
       "1 Feminino  101       9621  2889  117     10862\n",
       "2 Masculino 256      22194  5502  235     25063"
      ]
     },
     "metadata": {},
     "output_type": "display_data"
    }
   ],
   "source": [
    "dist_freq <- dados %>%\n",
    "  count(Cat.Sexo, Cat.Cor) %>%\n",
    "  pivot_wider(names_from = Cat.Cor, values_from = n) %>%\n",
    "  arrange(desc(Cat.Sexo))\n",
    "\n",
    "dist_freq"
   ]
  },
  {
   "cell_type": "markdown",
   "metadata": {
    "id": "mFQqAe-vrZ6d"
   },
   "source": [
    "**Dica:** Diferentemente da aula, continuaremos utilizando o `mutate(across())`, porém para cada valor que temos (`.`) dividiremos pela quantidade total de dados (`nrow(dados)`), pois queremos a porcentagem relativa relacionando todas as variáveis. Logo a função seria da seguinte forma:\n",
    "\n",
    "```~ round(. * 100 / nrow(dados), 2)```\n",
    "\n",
    "Lembre-se de só selecionar as colunas numéricas para este cálculo"
   ]
  },
  {
   "cell_type": "code",
   "execution_count": 26,
   "metadata": {
    "colab": {
     "base_uri": "https://localhost:8080/",
     "height": 161
    },
    "executionInfo": {
     "elapsed": 55,
     "status": "ok",
     "timestamp": 1734369457277,
     "user": {
      "displayName": "Afonso Augusto Rios",
      "userId": "05972796828124452071"
     },
     "user_tz": 180
    },
    "id": "wwMxINGForzu",
    "outputId": "718e3a6d-ff32-483e-ec76-f6aa70d497b6",
    "vscode": {
     "languageId": "r"
    }
   },
   "outputs": [
    {
     "data": {
      "text/html": [
       "<table class=\"dataframe\">\n",
       "<caption>A tibble: 2 × 6</caption>\n",
       "<thead>\n",
       "\t<tr><th scope=col>Cat.Sexo</th><th scope=col>Indígena</th><th scope=col>Branca</th><th scope=col>Preta</th><th scope=col>Amarela</th><th scope=col>Parda</th></tr>\n",
       "\t<tr><th scope=col>&lt;fct&gt;</th><th scope=col>&lt;dbl&gt;</th><th scope=col>&lt;dbl&gt;</th><th scope=col>&lt;dbl&gt;</th><th scope=col>&lt;dbl&gt;</th><th scope=col>&lt;dbl&gt;</th></tr>\n",
       "</thead>\n",
       "<tbody>\n",
       "\t<tr><td>Feminino </td><td>0.13</td><td>12.52</td><td>3.76</td><td>0.15</td><td>14.14</td></tr>\n",
       "\t<tr><td>Masculino</td><td>0.33</td><td>28.88</td><td>7.16</td><td>0.31</td><td>32.62</td></tr>\n",
       "</tbody>\n",
       "</table>\n"
      ],
      "text/latex": [
       "A tibble: 2 × 6\n",
       "\\begin{tabular}{llllll}\n",
       " Cat.Sexo & Indígena & Branca & Preta & Amarela & Parda\\\\\n",
       " <fct> & <dbl> & <dbl> & <dbl> & <dbl> & <dbl>\\\\\n",
       "\\hline\n",
       "\t Feminino  & 0.13 & 12.52 & 3.76 & 0.15 & 14.14\\\\\n",
       "\t Masculino & 0.33 & 28.88 & 7.16 & 0.31 & 32.62\\\\\n",
       "\\end{tabular}\n"
      ],
      "text/markdown": [
       "\n",
       "A tibble: 2 × 6\n",
       "\n",
       "| Cat.Sexo &lt;fct&gt; | Indígena &lt;dbl&gt; | Branca &lt;dbl&gt; | Preta &lt;dbl&gt; | Amarela &lt;dbl&gt; | Parda &lt;dbl&gt; |\n",
       "|---|---|---|---|---|---|\n",
       "| Feminino  | 0.13 | 12.52 | 3.76 | 0.15 | 14.14 |\n",
       "| Masculino | 0.33 | 28.88 | 7.16 | 0.31 | 32.62 |\n",
       "\n"
      ],
      "text/plain": [
       "  Cat.Sexo  Indígena Branca Preta Amarela Parda\n",
       "1 Feminino  0.13     12.52  3.76  0.15    14.14\n",
       "2 Masculino 0.33     28.88  7.16  0.31    32.62"
      ]
     },
     "metadata": {},
     "output_type": "display_data"
    }
   ],
   "source": [
    "dist_freq_relativa <- dist_freq %>%\n",
    "  mutate(across(-Cat.Sexo, ~ round(. * 100 / nrow(dados), 2)))\n",
    "\n",
    "dist_freq_relativa"
   ]
  },
  {
   "cell_type": "markdown",
   "metadata": {
    "id": "gxFG42FfwpN1"
   },
   "source": [
    "> #### Conclusões\n",
    "\n",
    "Escreva suas conclusões aqui..."
   ]
  },
  {
   "cell_type": "markdown",
   "metadata": {
    "id": "Opcp5rprwrlX"
   },
   "source": [
    "#### **Construa uma tabela cruzada para calcular a `Renda` média das pessoas responsáveis pelo domicílio em relação ao `Cat.Sexo` e `Cat.Cor`.**"
   ]
  },
  {
   "cell_type": "code",
   "execution_count": 27,
   "metadata": {
    "colab": {
     "base_uri": "https://localhost:8080/",
     "height": 161
    },
    "executionInfo": {
     "elapsed": 54,
     "status": "ok",
     "timestamp": 1734369457277,
     "user": {
      "displayName": "Afonso Augusto Rios",
      "userId": "05972796828124452071"
     },
     "user_tz": 180
    },
    "id": "qugMFOaAxMMe",
    "outputId": "883b5b73-02a7-441a-d759-c2827d120332",
    "vscode": {
     "languageId": "r"
    }
   },
   "outputs": [
    {
     "data": {
      "text/html": [
       "<table class=\"dataframe\">\n",
       "<caption>A tibble: 2 × 6</caption>\n",
       "<thead>\n",
       "\t<tr><th scope=col>Cat.Sexo</th><th scope=col>Indígena</th><th scope=col>Branca</th><th scope=col>Preta</th><th scope=col>Amarela</th><th scope=col>Parda</th></tr>\n",
       "\t<tr><th scope=col>&lt;fct&gt;</th><th scope=col>&lt;dbl&gt;</th><th scope=col>&lt;dbl&gt;</th><th scope=col>&lt;dbl&gt;</th><th scope=col>&lt;dbl&gt;</th><th scope=col>&lt;dbl&gt;</th></tr>\n",
       "</thead>\n",
       "<tbody>\n",
       "\t<tr><td>Masculino</td><td>1081.71</td><td>2925.74</td><td>1603.86</td><td>4758.25</td><td>1659.58</td></tr>\n",
       "\t<tr><td>Feminino </td><td>2464.39</td><td>2109.87</td><td>1134.60</td><td>3027.34</td><td>1176.76</td></tr>\n",
       "</tbody>\n",
       "</table>\n"
      ],
      "text/latex": [
       "A tibble: 2 × 6\n",
       "\\begin{tabular}{llllll}\n",
       " Cat.Sexo & Indígena & Branca & Preta & Amarela & Parda\\\\\n",
       " <fct> & <dbl> & <dbl> & <dbl> & <dbl> & <dbl>\\\\\n",
       "\\hline\n",
       "\t Masculino & 1081.71 & 2925.74 & 1603.86 & 4758.25 & 1659.58\\\\\n",
       "\t Feminino  & 2464.39 & 2109.87 & 1134.60 & 3027.34 & 1176.76\\\\\n",
       "\\end{tabular}\n"
      ],
      "text/markdown": [
       "\n",
       "A tibble: 2 × 6\n",
       "\n",
       "| Cat.Sexo &lt;fct&gt; | Indígena &lt;dbl&gt; | Branca &lt;dbl&gt; | Preta &lt;dbl&gt; | Amarela &lt;dbl&gt; | Parda &lt;dbl&gt; |\n",
       "|---|---|---|---|---|---|\n",
       "| Masculino | 1081.71 | 2925.74 | 1603.86 | 4758.25 | 1659.58 |\n",
       "| Feminino  | 2464.39 | 2109.87 | 1134.60 | 3027.34 | 1176.76 |\n",
       "\n"
      ],
      "text/plain": [
       "  Cat.Sexo  Indígena Branca  Preta   Amarela Parda  \n",
       "1 Masculino 1081.71  2925.74 1603.86 4758.25 1659.58\n",
       "2 Feminino  2464.39  2109.87 1134.60 3027.34 1176.76"
      ]
     },
     "metadata": {},
     "output_type": "display_data"
    }
   ],
   "source": [
    "renda_media <- dados %>%\n",
    "  group_by(Cat.Sexo, Cat.Cor) %>%\n",
    "  summarise(renda_media = round(mean(Renda), 2), .groups = \"rowwise\") %>%\n",
    "  pivot_wider(names_from = Cat.Cor, values_from = renda_media)\n",
    "\n",
    "renda_media"
   ]
  },
  {
   "cell_type": "markdown",
   "metadata": {
    "id": "Hlrb10eQn5yI"
   },
   "source": [
    "#### **Transforme o resultado anterior em uma matriz**"
   ]
  },
  {
   "cell_type": "markdown",
   "metadata": {
    "id": "U6wMDb0mn_Qm"
   },
   "source": [
    "**Dica:** Para transformar em matriz tire a coluna com os dados do sexo biológico antes de usar a função `as.matrix` e adicione as posteriormente com o rownames"
   ]
  },
  {
   "cell_type": "code",
   "execution_count": 28,
   "metadata": {
    "colab": {
     "base_uri": "https://localhost:8080/",
     "height": 129
    },
    "executionInfo": {
     "elapsed": 53,
     "status": "ok",
     "timestamp": 1734369457277,
     "user": {
      "displayName": "Afonso Augusto Rios",
      "userId": "05972796828124452071"
     },
     "user_tz": 180
    },
    "id": "_7KZSA15niCg",
    "outputId": "f6b66404-6419-4f76-dc79-2e1101415832",
    "vscode": {
     "languageId": "r"
    }
   },
   "outputs": [
    {
     "data": {
      "text/html": [
       "<table class=\"dataframe\">\n",
       "<caption>A matrix: 2 × 5 of type dbl</caption>\n",
       "<thead>\n",
       "\t<tr><th></th><th scope=col>Indígena</th><th scope=col>Branca</th><th scope=col>Preta</th><th scope=col>Amarela</th><th scope=col>Parda</th></tr>\n",
       "</thead>\n",
       "<tbody>\n",
       "\t<tr><th scope=row>Masculino</th><td>1081.71</td><td>2925.74</td><td>1603.86</td><td>4758.25</td><td>1659.58</td></tr>\n",
       "\t<tr><th scope=row>Feminino</th><td>2464.39</td><td>2109.87</td><td>1134.60</td><td>3027.34</td><td>1176.76</td></tr>\n",
       "</tbody>\n",
       "</table>\n"
      ],
      "text/latex": [
       "A matrix: 2 × 5 of type dbl\n",
       "\\begin{tabular}{r|lllll}\n",
       "  & Indígena & Branca & Preta & Amarela & Parda\\\\\n",
       "\\hline\n",
       "\tMasculino & 1081.71 & 2925.74 & 1603.86 & 4758.25 & 1659.58\\\\\n",
       "\tFeminino & 2464.39 & 2109.87 & 1134.60 & 3027.34 & 1176.76\\\\\n",
       "\\end{tabular}\n"
      ],
      "text/markdown": [
       "\n",
       "A matrix: 2 × 5 of type dbl\n",
       "\n",
       "| <!--/--> | Indígena | Branca | Preta | Amarela | Parda |\n",
       "|---|---|---|---|---|---|\n",
       "| Masculino | 1081.71 | 2925.74 | 1603.86 | 4758.25 | 1659.58 |\n",
       "| Feminino | 2464.39 | 2109.87 | 1134.60 | 3027.34 | 1176.76 |\n",
       "\n"
      ],
      "text/plain": [
       "          Indígena Branca  Preta   Amarela Parda  \n",
       "Masculino 1081.71  2925.74 1603.86 4758.25 1659.58\n",
       "Feminino  2464.39  2109.87 1134.60 3027.34 1176.76"
      ]
     },
     "metadata": {},
     "output_type": "display_data"
    }
   ],
   "source": [
    "freq_sexo_matrix <- as.matrix(renda_media[,-1])\n",
    "rownames(freq_sexo_matrix) <- renda_media$Cat.Sexo\n",
    "freq_sexo_matrix"
   ]
  },
  {
   "cell_type": "markdown",
   "metadata": {
    "id": "d5Iwt1EKwNfp"
   },
   "source": [
    "> #### Conclusões\n",
    "\n",
    "Escreva suas conclusões aqui..."
   ]
  },
  {
   "cell_type": "markdown",
   "metadata": {
    "id": "1uTAdILB_T6m"
   },
   "source": [
    "## **Aula 03 - Analisando a tendência dos dados**"
   ]
  },
  {
   "cell_type": "markdown",
   "metadata": {
    "id": "vJ0a5l-Di79U"
   },
   "source": [
    "### **Mão na Massa - Analisando a renda das pessoas responsáveis**"
   ]
  },
  {
   "cell_type": "markdown",
   "metadata": {
    "id": "xAZjitTs-roh"
   },
   "source": [
    "Nesta etapa do treinamento, vamos analisar mais dados das pessoas responsáveis pelo domicílio de acordo com os dados da PNAD de 2015, focando na renda e na variável que criamos com as suas alturas. Responda às perguntas abaixo e reflita sobre os achados."
   ]
  },
  {
   "cell_type": "markdown",
   "metadata": {
    "id": "pTpoxoY7-roj"
   },
   "source": [
    "#### **Calcule as medidas de tendência central (média, mediana e moda) para a variável `Renda`**"
   ]
  },
  {
   "cell_type": "code",
   "execution_count": 29,
   "metadata": {
    "colab": {
     "base_uri": "https://localhost:8080/",
     "height": 34
    },
    "executionInfo": {
     "elapsed": 52,
     "status": "ok",
     "timestamp": 1734369457277,
     "user": {
      "displayName": "Afonso Augusto Rios",
      "userId": "05972796828124452071"
     },
     "user_tz": 180
    },
    "id": "4ch-Hrl3E1Me",
    "outputId": "8f9f8ec5-1020-447e-a03a-94e22a226766",
    "vscode": {
     "languageId": "r"
    }
   },
   "outputs": [
    {
     "data": {
      "text/html": [
       "2000.38"
      ],
      "text/latex": [
       "2000.38"
      ],
      "text/markdown": [
       "2000.38"
      ],
      "text/plain": [
       "[1] 2000.38"
      ]
     },
     "metadata": {},
     "output_type": "display_data"
    }
   ],
   "source": [
    "round(mean(dados$Renda), 2)"
   ]
  },
  {
   "cell_type": "code",
   "execution_count": 30,
   "metadata": {
    "colab": {
     "base_uri": "https://localhost:8080/",
     "height": 34
    },
    "executionInfo": {
     "elapsed": 51,
     "status": "ok",
     "timestamp": 1734369457277,
     "user": {
      "displayName": "Afonso Augusto Rios",
      "userId": "05972796828124452071"
     },
     "user_tz": 180
    },
    "id": "IlA4TrONE8R0",
    "outputId": "07465347-6db4-47ce-e758-10e784c7f6bd",
    "vscode": {
     "languageId": "r"
    }
   },
   "outputs": [
    {
     "data": {
      "text/html": [
       "1200"
      ],
      "text/latex": [
       "1200"
      ],
      "text/markdown": [
       "1200"
      ],
      "text/plain": [
       "[1] 1200"
      ]
     },
     "metadata": {},
     "output_type": "display_data"
    }
   ],
   "source": [
    "median(dados$Renda)"
   ]
  },
  {
   "cell_type": "code",
   "execution_count": 31,
   "metadata": {
    "colab": {
     "base_uri": "https://localhost:8080/",
     "height": 129
    },
    "executionInfo": {
     "elapsed": 51,
     "status": "ok",
     "timestamp": 1734369457277,
     "user": {
      "displayName": "Afonso Augusto Rios",
      "userId": "05972796828124452071"
     },
     "user_tz": 180
    },
    "id": "tsRO0dUIE8Os",
    "outputId": "f5908138-a1e2-4ea1-f173-88742314e0d9",
    "vscode": {
     "languageId": "r"
    }
   },
   "outputs": [
    {
     "data": {
      "text/html": [
       "<table class=\"dataframe\">\n",
       "<caption>A tibble: 1 × 2</caption>\n",
       "<thead>\n",
       "\t<tr><th scope=col>Renda</th><th scope=col>frequencia</th></tr>\n",
       "\t<tr><th scope=col>&lt;int&gt;</th><th scope=col>&lt;int&gt;</th></tr>\n",
       "</thead>\n",
       "<tbody>\n",
       "\t<tr><td>788</td><td>6881</td></tr>\n",
       "</tbody>\n",
       "</table>\n"
      ],
      "text/latex": [
       "A tibble: 1 × 2\n",
       "\\begin{tabular}{ll}\n",
       " Renda & frequencia\\\\\n",
       " <int> & <int>\\\\\n",
       "\\hline\n",
       "\t 788 & 6881\\\\\n",
       "\\end{tabular}\n"
      ],
      "text/markdown": [
       "\n",
       "A tibble: 1 × 2\n",
       "\n",
       "| Renda &lt;int&gt; | frequencia &lt;int&gt; |\n",
       "|---|---|\n",
       "| 788 | 6881 |\n",
       "\n"
      ],
      "text/plain": [
       "  Renda frequencia\n",
       "1 788   6881      "
      ]
     },
     "metadata": {},
     "output_type": "display_data"
    }
   ],
   "source": [
    "dados %>%\n",
    "  group_by(Renda) %>%\n",
    "  summarize(frequencia = n()) %>%\n",
    "  filter(frequencia == max(frequencia))"
   ]
  },
  {
   "cell_type": "markdown",
   "metadata": {
    "id": "ICXWPxBCB9F3"
   },
   "source": [
    "#### **Crie um gráfico de barras do Top 5 estados pela médias de `Renda`**"
   ]
  },
  {
   "cell_type": "markdown",
   "metadata": {
    "id": "Fn0HRjQTFcqc"
   },
   "source": [
    "**Dica:** Para conseguir apresentar apenas os Top 5 estados utilize após o agrupamento dos dados pela média a função [`slice_max()`](https://dplyr.tidyverse.org/reference/slice.html) passando como variáveis a coluna que deseja contar essa ordem e quantos valores apresentar.\n",
    "\n",
    "Exemplo: `slice_max(media_idade, n = 3)` seleciona as linhas com os 3 maiores valores da variável `media_idade`."
   ]
  },
  {
   "cell_type": "code",
   "execution_count": 32,
   "metadata": {
    "colab": {
     "base_uri": "https://localhost:8080/",
     "height": 192
    },
    "executionInfo": {
     "elapsed": 982,
     "status": "ok",
     "timestamp": 1734369458209,
     "user": {
      "displayName": "Afonso Augusto Rios",
      "userId": "05972796828124452071"
     },
     "user_tz": 180
    },
    "id": "j5r4oaGb-rok",
    "outputId": "4535919e-b8df-4751-9690-4a447a5f16f6",
    "vscode": {
     "languageId": "r"
    }
   },
   "outputs": [
    {
     "data": {
      "text/html": [
       "<table class=\"dataframe\">\n",
       "<caption>A data.frame: 3 × 10</caption>\n",
       "<thead>\n",
       "\t<tr><th></th><th scope=col>UF</th><th scope=col>Sexo</th><th scope=col>Idade</th><th scope=col>Cor</th><th scope=col>Anos.de.Estudo</th><th scope=col>Renda</th><th scope=col>Altura</th><th scope=col>Cat.Sexo</th><th scope=col>Cat.Cor</th><th scope=col>Cat.Anos.de.Estudo</th></tr>\n",
       "\t<tr><th></th><th scope=col>&lt;chr&gt;</th><th scope=col>&lt;int&gt;</th><th scope=col>&lt;int&gt;</th><th scope=col>&lt;int&gt;</th><th scope=col>&lt;int&gt;</th><th scope=col>&lt;int&gt;</th><th scope=col>&lt;dbl&gt;</th><th scope=col>&lt;fct&gt;</th><th scope=col>&lt;fct&gt;</th><th scope=col>&lt;fct&gt;</th></tr>\n",
       "</thead>\n",
       "<tbody>\n",
       "\t<tr><th scope=row>1</th><td>Rondônia</td><td>0</td><td>23</td><td>8</td><td>12</td><td> 800</td><td>1.60</td><td>Masculino</td><td>Parda </td><td>11 anos</td></tr>\n",
       "\t<tr><th scope=row>2</th><td>Rondônia</td><td>1</td><td>23</td><td>2</td><td>12</td><td>1150</td><td>1.74</td><td>Feminino </td><td>Branca</td><td>11 anos</td></tr>\n",
       "\t<tr><th scope=row>3</th><td>Rondônia</td><td>1</td><td>35</td><td>8</td><td>15</td><td> 880</td><td>1.76</td><td>Feminino </td><td>Parda </td><td>14 anos</td></tr>\n",
       "</tbody>\n",
       "</table>\n"
      ],
      "text/latex": [
       "A data.frame: 3 × 10\n",
       "\\begin{tabular}{r|llllllllll}\n",
       "  & UF & Sexo & Idade & Cor & Anos.de.Estudo & Renda & Altura & Cat.Sexo & Cat.Cor & Cat.Anos.de.Estudo\\\\\n",
       "  & <chr> & <int> & <int> & <int> & <int> & <int> & <dbl> & <fct> & <fct> & <fct>\\\\\n",
       "\\hline\n",
       "\t1 & Rondônia & 0 & 23 & 8 & 12 &  800 & 1.60 & Masculino & Parda  & 11 anos\\\\\n",
       "\t2 & Rondônia & 1 & 23 & 2 & 12 & 1150 & 1.74 & Feminino  & Branca & 11 anos\\\\\n",
       "\t3 & Rondônia & 1 & 35 & 8 & 15 &  880 & 1.76 & Feminino  & Parda  & 14 anos\\\\\n",
       "\\end{tabular}\n"
      ],
      "text/markdown": [
       "\n",
       "A data.frame: 3 × 10\n",
       "\n",
       "| <!--/--> | UF &lt;chr&gt; | Sexo &lt;int&gt; | Idade &lt;int&gt; | Cor &lt;int&gt; | Anos.de.Estudo &lt;int&gt; | Renda &lt;int&gt; | Altura &lt;dbl&gt; | Cat.Sexo &lt;fct&gt; | Cat.Cor &lt;fct&gt; | Cat.Anos.de.Estudo &lt;fct&gt; |\n",
       "|---|---|---|---|---|---|---|---|---|---|---|\n",
       "| 1 | Rondônia | 0 | 23 | 8 | 12 |  800 | 1.60 | Masculino | Parda  | 11 anos |\n",
       "| 2 | Rondônia | 1 | 23 | 2 | 12 | 1150 | 1.74 | Feminino  | Branca | 11 anos |\n",
       "| 3 | Rondônia | 1 | 35 | 8 | 15 |  880 | 1.76 | Feminino  | Parda  | 14 anos |\n",
       "\n"
      ],
      "text/plain": [
       "  UF       Sexo Idade Cor Anos.de.Estudo Renda Altura Cat.Sexo  Cat.Cor\n",
       "1 Rondônia 0    23    8   12              800  1.60   Masculino Parda  \n",
       "2 Rondônia 1    23    2   12             1150  1.74   Feminino  Branca \n",
       "3 Rondônia 1    35    8   15              880  1.76   Feminino  Parda  \n",
       "  Cat.Anos.de.Estudo\n",
       "1 11 anos           \n",
       "2 11 anos           \n",
       "3 14 anos           "
      ]
     },
     "metadata": {},
     "output_type": "display_data"
    }
   ],
   "source": [
    "head(dados, 3)"
   ]
  },
  {
   "cell_type": "code",
   "execution_count": 33,
   "metadata": {
    "colab": {
     "base_uri": "https://localhost:8080/",
     "height": 255
    },
    "executionInfo": {
     "elapsed": 64,
     "status": "ok",
     "timestamp": 1734369458209,
     "user": {
      "displayName": "Afonso Augusto Rios",
      "userId": "05972796828124452071"
     },
     "user_tz": 180
    },
    "id": "ZrV6dXV0-rom",
    "outputId": "d2923004-307d-4916-bb72-6d652f681995",
    "vscode": {
     "languageId": "r"
    }
   },
   "outputs": [
    {
     "data": {
      "text/html": [
       "<table class=\"dataframe\">\n",
       "<caption>A tibble: 5 × 2</caption>\n",
       "<thead>\n",
       "\t<tr><th scope=col>UF</th><th scope=col>media</th></tr>\n",
       "\t<tr><th scope=col>&lt;chr&gt;</th><th scope=col>&lt;dbl&gt;</th></tr>\n",
       "</thead>\n",
       "<tbody>\n",
       "\t<tr><td>Distrito Federal</td><td>4241.95</td></tr>\n",
       "\t<tr><td>São Paulo       </td><td>2638.10</td></tr>\n",
       "\t<tr><td>Rio de Janeiro  </td><td>2496.40</td></tr>\n",
       "\t<tr><td>Paraná          </td><td>2493.87</td></tr>\n",
       "\t<tr><td>Santa Catarina  </td><td>2470.85</td></tr>\n",
       "</tbody>\n",
       "</table>\n"
      ],
      "text/latex": [
       "A tibble: 5 × 2\n",
       "\\begin{tabular}{ll}\n",
       " UF & media\\\\\n",
       " <chr> & <dbl>\\\\\n",
       "\\hline\n",
       "\t Distrito Federal & 4241.95\\\\\n",
       "\t São Paulo        & 2638.10\\\\\n",
       "\t Rio de Janeiro   & 2496.40\\\\\n",
       "\t Paraná           & 2493.87\\\\\n",
       "\t Santa Catarina   & 2470.85\\\\\n",
       "\\end{tabular}\n"
      ],
      "text/markdown": [
       "\n",
       "A tibble: 5 × 2\n",
       "\n",
       "| UF &lt;chr&gt; | media &lt;dbl&gt; |\n",
       "|---|---|\n",
       "| Distrito Federal | 4241.95 |\n",
       "| São Paulo        | 2638.10 |\n",
       "| Rio de Janeiro   | 2496.40 |\n",
       "| Paraná           | 2493.87 |\n",
       "| Santa Catarina   | 2470.85 |\n",
       "\n"
      ],
      "text/plain": [
       "  UF               media  \n",
       "1 Distrito Federal 4241.95\n",
       "2 São Paulo        2638.10\n",
       "3 Rio de Janeiro   2496.40\n",
       "4 Paraná           2493.87\n",
       "5 Santa Catarina   2470.85"
      ]
     },
     "metadata": {},
     "output_type": "display_data"
    }
   ],
   "source": [
    "Top5_renda <- dados %>%\n",
    "  group_by(UF) %>%\n",
    "  summarize(media = round(mean(Renda), 2)) %>%\n",
    "  slice_max(media, n = 5)\n",
    "\n",
    "Top5_renda"
   ]
  },
  {
   "cell_type": "code",
   "execution_count": 34,
   "metadata": {
    "colab": {
     "base_uri": "https://localhost:8080/",
     "height": 497
    },
    "executionInfo": {
     "elapsed": 63,
     "status": "ok",
     "timestamp": 1734369458209,
     "user": {
      "displayName": "Afonso Augusto Rios",
      "userId": "05972796828124452071"
     },
     "user_tz": 180
    },
    "id": "KqOb6uBI-roo",
    "outputId": "04802b69-e085-4dc8-ff51-244ee81a04d3",
    "vscode": {
     "languageId": "r"
    }
   },
   "outputs": [
    {
     "data": {
      "image/png": "[encoded data removed]",
      "text/plain": [
       "plot without title"
      ]
     },
     "metadata": {
      "image/png": {
       "height": 480,
       "width": 720
      }
     },
     "output_type": "display_data"
    }
   ],
   "source": [
    "ggplot() +\n",
    "  geom_col(data = Top5_renda, aes(x = media, y = reorder(UF, media))) +\n",
    "  tema"
   ]
  },
  {
   "cell_type": "markdown",
   "metadata": {
    "id": "-3RjEjJrKa0J"
   },
   "source": [
    "> #### Conclusões\n",
    "\n",
    "Escreva suas conclusões aqui..."
   ]
  },
  {
   "cell_type": "markdown",
   "metadata": {
    "id": "7wYIJXkt-roo"
   },
   "source": [
    "#### **Construa 3 tabelas cruzadas calculando a média, mediana e valores máximos de `Renda` relacionando as pessoas responsáveis por estado da Região Sudeste (`UF`) e por `Cat.Sexo`**"
   ]
  },
  {
   "cell_type": "code",
   "execution_count": 35,
   "metadata": {
    "colab": {
     "base_uri": "https://localhost:8080/",
     "height": 192
    },
    "executionInfo": {
     "elapsed": 62,
     "status": "ok",
     "timestamp": 1734369458209,
     "user": {
      "displayName": "Afonso Augusto Rios",
      "userId": "05972796828124452071"
     },
     "user_tz": 180
    },
    "id": "U-6YnrJFIxq2",
    "outputId": "3bc9d4d3-b7f1-4fe6-f0be-1d35332a944b",
    "vscode": {
     "languageId": "r"
    }
   },
   "outputs": [
    {
     "data": {
      "text/html": [
       "<table class=\"dataframe\">\n",
       "<caption>A data.frame: 3 × 10</caption>\n",
       "<thead>\n",
       "\t<tr><th></th><th scope=col>UF</th><th scope=col>Sexo</th><th scope=col>Idade</th><th scope=col>Cor</th><th scope=col>Anos.de.Estudo</th><th scope=col>Renda</th><th scope=col>Altura</th><th scope=col>Cat.Sexo</th><th scope=col>Cat.Cor</th><th scope=col>Cat.Anos.de.Estudo</th></tr>\n",
       "\t<tr><th></th><th scope=col>&lt;chr&gt;</th><th scope=col>&lt;int&gt;</th><th scope=col>&lt;int&gt;</th><th scope=col>&lt;int&gt;</th><th scope=col>&lt;int&gt;</th><th scope=col>&lt;int&gt;</th><th scope=col>&lt;dbl&gt;</th><th scope=col>&lt;fct&gt;</th><th scope=col>&lt;fct&gt;</th><th scope=col>&lt;fct&gt;</th></tr>\n",
       "</thead>\n",
       "<tbody>\n",
       "\t<tr><th scope=row>1</th><td>Minas Gerais</td><td>0</td><td>40</td><td>2</td><td>12</td><td>1600</td><td>1.62</td><td>Masculino</td><td>Branca</td><td>11 anos</td></tr>\n",
       "\t<tr><th scope=row>2</th><td>Minas Gerais</td><td>0</td><td>58</td><td>8</td><td> 5</td><td> 850</td><td>1.58</td><td>Masculino</td><td>Parda </td><td>4 anos </td></tr>\n",
       "\t<tr><th scope=row>3</th><td>Minas Gerais</td><td>0</td><td>36</td><td>8</td><td> 3</td><td>1400</td><td>1.75</td><td>Masculino</td><td>Parda </td><td>2 anos </td></tr>\n",
       "</tbody>\n",
       "</table>\n"
      ],
      "text/latex": [
       "A data.frame: 3 × 10\n",
       "\\begin{tabular}{r|llllllllll}\n",
       "  & UF & Sexo & Idade & Cor & Anos.de.Estudo & Renda & Altura & Cat.Sexo & Cat.Cor & Cat.Anos.de.Estudo\\\\\n",
       "  & <chr> & <int> & <int> & <int> & <int> & <int> & <dbl> & <fct> & <fct> & <fct>\\\\\n",
       "\\hline\n",
       "\t1 & Minas Gerais & 0 & 40 & 2 & 12 & 1600 & 1.62 & Masculino & Branca & 11 anos\\\\\n",
       "\t2 & Minas Gerais & 0 & 58 & 8 &  5 &  850 & 1.58 & Masculino & Parda  & 4 anos \\\\\n",
       "\t3 & Minas Gerais & 0 & 36 & 8 &  3 & 1400 & 1.75 & Masculino & Parda  & 2 anos \\\\\n",
       "\\end{tabular}\n"
      ],
      "text/markdown": [
       "\n",
       "A data.frame: 3 × 10\n",
       "\n",
       "| <!--/--> | UF &lt;chr&gt; | Sexo &lt;int&gt; | Idade &lt;int&gt; | Cor &lt;int&gt; | Anos.de.Estudo &lt;int&gt; | Renda &lt;int&gt; | Altura &lt;dbl&gt; | Cat.Sexo &lt;fct&gt; | Cat.Cor &lt;fct&gt; | Cat.Anos.de.Estudo &lt;fct&gt; |\n",
       "|---|---|---|---|---|---|---|---|---|---|---|\n",
       "| 1 | Minas Gerais | 0 | 40 | 2 | 12 | 1600 | 1.62 | Masculino | Branca | 11 anos |\n",
       "| 2 | Minas Gerais | 0 | 58 | 8 |  5 |  850 | 1.58 | Masculino | Parda  | 4 anos  |\n",
       "| 3 | Minas Gerais | 0 | 36 | 8 |  3 | 1400 | 1.75 | Masculino | Parda  | 2 anos  |\n",
       "\n"
      ],
      "text/plain": [
       "  UF           Sexo Idade Cor Anos.de.Estudo Renda Altura Cat.Sexo  Cat.Cor\n",
       "1 Minas Gerais 0    40    2   12             1600  1.62   Masculino Branca \n",
       "2 Minas Gerais 0    58    8    5              850  1.58   Masculino Parda  \n",
       "3 Minas Gerais 0    36    8    3             1400  1.75   Masculino Parda  \n",
       "  Cat.Anos.de.Estudo\n",
       "1 11 anos           \n",
       "2 4 anos            \n",
       "3 2 anos            "
      ]
     },
     "metadata": {},
     "output_type": "display_data"
    }
   ],
   "source": [
    "dados_sudeste <- dados %>%\n",
    "  filter(UF %in% c(\"Espírito Santo\", \"Minas Gerais\", \"Rio de Janeiro\", \"São Paulo\"))\n",
    "\n",
    "head(dados_sudeste, 3)"
   ]
  },
  {
   "cell_type": "markdown",
   "metadata": {
    "id": "FtNN9kkiKfK4"
   },
   "source": [
    "##### **Média**"
   ]
  },
  {
   "cell_type": "code",
   "execution_count": 36,
   "metadata": {
    "colab": {
     "base_uri": "https://localhost:8080/",
     "height": 161
    },
    "executionInfo": {
     "elapsed": 60,
     "status": "ok",
     "timestamp": 1734369458209,
     "user": {
      "displayName": "Afonso Augusto Rios",
      "userId": "05972796828124452071"
     },
     "user_tz": 180
    },
    "id": "4Vz0GWeI-rop",
    "outputId": "73f0e45d-78a7-4207-f586-bac0c96e44ed",
    "vscode": {
     "languageId": "r"
    }
   },
   "outputs": [
    {
     "data": {
      "text/html": [
       "<table class=\"dataframe\">\n",
       "<caption>A tibble: 2 × 5</caption>\n",
       "<thead>\n",
       "\t<tr><th scope=col>Cat.Sexo</th><th scope=col>Espírito Santo</th><th scope=col>Minas Gerais</th><th scope=col>Rio de Janeiro</th><th scope=col>São Paulo</th></tr>\n",
       "\t<tr><th scope=col>&lt;fct&gt;</th><th scope=col>&lt;dbl&gt;</th><th scope=col>&lt;dbl&gt;</th><th scope=col>&lt;dbl&gt;</th><th scope=col>&lt;dbl&gt;</th></tr>\n",
       "</thead>\n",
       "<tbody>\n",
       "\t<tr><td>Masculino</td><td>2129.32</td><td>2283.16</td><td>2777.55</td><td>2947.74</td></tr>\n",
       "\t<tr><td>Feminino </td><td>1752.71</td><td>1489.62</td><td>1971.53</td><td>1950.18</td></tr>\n",
       "</tbody>\n",
       "</table>\n"
      ],
      "text/latex": [
       "A tibble: 2 × 5\n",
       "\\begin{tabular}{lllll}\n",
       " Cat.Sexo & Espírito Santo & Minas Gerais & Rio de Janeiro & São Paulo\\\\\n",
       " <fct> & <dbl> & <dbl> & <dbl> & <dbl>\\\\\n",
       "\\hline\n",
       "\t Masculino & 2129.32 & 2283.16 & 2777.55 & 2947.74\\\\\n",
       "\t Feminino  & 1752.71 & 1489.62 & 1971.53 & 1950.18\\\\\n",
       "\\end{tabular}\n"
      ],
      "text/markdown": [
       "\n",
       "A tibble: 2 × 5\n",
       "\n",
       "| Cat.Sexo &lt;fct&gt; | Espírito Santo &lt;dbl&gt; | Minas Gerais &lt;dbl&gt; | Rio de Janeiro &lt;dbl&gt; | São Paulo &lt;dbl&gt; |\n",
       "|---|---|---|---|---|\n",
       "| Masculino | 2129.32 | 2283.16 | 2777.55 | 2947.74 |\n",
       "| Feminino  | 1752.71 | 1489.62 | 1971.53 | 1950.18 |\n",
       "\n"
      ],
      "text/plain": [
       "  Cat.Sexo  Espírito Santo Minas Gerais Rio de Janeiro São Paulo\n",
       "1 Masculino 2129.32        2283.16      2777.55        2947.74  \n",
       "2 Feminino  1752.71        1489.62      1971.53        1950.18  "
      ]
     },
     "metadata": {},
     "output_type": "display_data"
    }
   ],
   "source": [
    "renda_media <- dados_sudeste %>%\n",
    "  group_by(Cat.Sexo, UF) %>%\n",
    "  summarise(renda_media = round(mean(Renda), 2), .groups = \"rowwise\") %>%\n",
    "  pivot_wider(names_from = UF, values_from = renda_media)\n",
    "\n",
    "renda_media"
   ]
  },
  {
   "cell_type": "markdown",
   "metadata": {
    "id": "I_HNBCdWKjyX"
   },
   "source": [
    "##### **Mediana**"
   ]
  },
  {
   "cell_type": "code",
   "execution_count": 37,
   "metadata": {
    "colab": {
     "base_uri": "https://localhost:8080/",
     "height": 161
    },
    "executionInfo": {
     "elapsed": 60,
     "status": "ok",
     "timestamp": 1734369458210,
     "user": {
      "displayName": "Afonso Augusto Rios",
      "userId": "05972796828124452071"
     },
     "user_tz": 180
    },
    "id": "C_InEFlEKjyY",
    "outputId": "5bd61997-72a4-4eb8-b031-9a22466f5541",
    "vscode": {
     "languageId": "r"
    }
   },
   "outputs": [
    {
     "data": {
      "text/html": [
       "<table class=\"dataframe\">\n",
       "<caption>A tibble: 2 × 5</caption>\n",
       "<thead>\n",
       "\t<tr><th scope=col>Cat.Sexo</th><th scope=col>Espírito Santo</th><th scope=col>Minas Gerais</th><th scope=col>Rio de Janeiro</th><th scope=col>São Paulo</th></tr>\n",
       "\t<tr><th scope=col>&lt;fct&gt;</th><th scope=col>&lt;dbl&gt;</th><th scope=col>&lt;dbl&gt;</th><th scope=col>&lt;dbl&gt;</th><th scope=col>&lt;dbl&gt;</th></tr>\n",
       "</thead>\n",
       "<tbody>\n",
       "\t<tr><td>Masculino</td><td>1500</td><td>1400</td><td>1510.0</td><td>1820</td></tr>\n",
       "\t<tr><td>Feminino </td><td> 927</td><td> 900</td><td>1040.5</td><td>1200</td></tr>\n",
       "</tbody>\n",
       "</table>\n"
      ],
      "text/latex": [
       "A tibble: 2 × 5\n",
       "\\begin{tabular}{lllll}\n",
       " Cat.Sexo & Espírito Santo & Minas Gerais & Rio de Janeiro & São Paulo\\\\\n",
       " <fct> & <dbl> & <dbl> & <dbl> & <dbl>\\\\\n",
       "\\hline\n",
       "\t Masculino & 1500 & 1400 & 1510.0 & 1820\\\\\n",
       "\t Feminino  &  927 &  900 & 1040.5 & 1200\\\\\n",
       "\\end{tabular}\n"
      ],
      "text/markdown": [
       "\n",
       "A tibble: 2 × 5\n",
       "\n",
       "| Cat.Sexo &lt;fct&gt; | Espírito Santo &lt;dbl&gt; | Minas Gerais &lt;dbl&gt; | Rio de Janeiro &lt;dbl&gt; | São Paulo &lt;dbl&gt; |\n",
       "|---|---|---|---|---|\n",
       "| Masculino | 1500 | 1400 | 1510.0 | 1820 |\n",
       "| Feminino  |  927 |  900 | 1040.5 | 1200 |\n",
       "\n"
      ],
      "text/plain": [
       "  Cat.Sexo  Espírito Santo Minas Gerais Rio de Janeiro São Paulo\n",
       "1 Masculino 1500           1400         1510.0         1820     \n",
       "2 Feminino   927            900         1040.5         1200     "
      ]
     },
     "metadata": {},
     "output_type": "display_data"
    }
   ],
   "source": [
    "renda_mediana <- dados_sudeste %>%\n",
    "  group_by(Cat.Sexo, UF) %>%\n",
    "  summarise(renda_mediana = median(Renda), .groups = \"rowwise\") %>%\n",
    "  pivot_wider(names_from = UF, values_from = renda_mediana)\n",
    "\n",
    "renda_mediana"
   ]
  },
  {
   "cell_type": "markdown",
   "metadata": {
    "id": "m4bFpespKk2Y"
   },
   "source": [
    "##### **Renda Máxima**"
   ]
  },
  {
   "cell_type": "code",
   "execution_count": 38,
   "metadata": {
    "colab": {
     "base_uri": "https://localhost:8080/",
     "height": 161
    },
    "executionInfo": {
     "elapsed": 59,
     "status": "ok",
     "timestamp": 1734369458210,
     "user": {
      "displayName": "Afonso Augusto Rios",
      "userId": "05972796828124452071"
     },
     "user_tz": 180
    },
    "id": "tQyP2y2OKk2a",
    "outputId": "e5f4a8f9-9557-4139-8c3d-606d1fb0b880",
    "vscode": {
     "languageId": "r"
    }
   },
   "outputs": [
    {
     "data": {
      "text/html": [
       "<table class=\"dataframe\">\n",
       "<caption>A tibble: 2 × 5</caption>\n",
       "<thead>\n",
       "\t<tr><th scope=col>Cat.Sexo</th><th scope=col>Espírito Santo</th><th scope=col>Minas Gerais</th><th scope=col>Rio de Janeiro</th><th scope=col>São Paulo</th></tr>\n",
       "\t<tr><th scope=col>&lt;fct&gt;</th><th scope=col>&lt;int&gt;</th><th scope=col>&lt;int&gt;</th><th scope=col>&lt;int&gt;</th><th scope=col>&lt;int&gt;</th></tr>\n",
       "</thead>\n",
       "<tbody>\n",
       "\t<tr><td>Masculino</td><td> 40000</td><td>100000</td><td>200000</td><td>80000</td></tr>\n",
       "\t<tr><td>Feminino </td><td>100000</td><td> 30000</td><td>120000</td><td>50000</td></tr>\n",
       "</tbody>\n",
       "</table>\n"
      ],
      "text/latex": [
       "A tibble: 2 × 5\n",
       "\\begin{tabular}{lllll}\n",
       " Cat.Sexo & Espírito Santo & Minas Gerais & Rio de Janeiro & São Paulo\\\\\n",
       " <fct> & <int> & <int> & <int> & <int>\\\\\n",
       "\\hline\n",
       "\t Masculino &  40000 & 100000 & 200000 & 80000\\\\\n",
       "\t Feminino  & 100000 &  30000 & 120000 & 50000\\\\\n",
       "\\end{tabular}\n"
      ],
      "text/markdown": [
       "\n",
       "A tibble: 2 × 5\n",
       "\n",
       "| Cat.Sexo &lt;fct&gt; | Espírito Santo &lt;int&gt; | Minas Gerais &lt;int&gt; | Rio de Janeiro &lt;int&gt; | São Paulo &lt;int&gt; |\n",
       "|---|---|---|---|---|\n",
       "| Masculino |  40000 | 100000 | 200000 | 80000 |\n",
       "| Feminino  | 100000 |  30000 | 120000 | 50000 |\n",
       "\n"
      ],
      "text/plain": [
       "  Cat.Sexo  Espírito Santo Minas Gerais Rio de Janeiro São Paulo\n",
       "1 Masculino  40000         100000       200000         80000    \n",
       "2 Feminino  100000          30000       120000         50000    "
      ]
     },
     "metadata": {},
     "output_type": "display_data"
    }
   ],
   "source": [
    "renda_max <- dados_sudeste %>%\n",
    "  group_by(Cat.Sexo, UF) %>%\n",
    "  summarise(renda_max = max(Renda), .groups = \"rowwise\") %>%\n",
    "  pivot_wider(names_from = UF, values_from = renda_max)\n",
    "\n",
    "renda_max"
   ]
  },
  {
   "cell_type": "markdown",
   "metadata": {
    "id": "4d19wJraKcQX"
   },
   "source": [
    "> #### Conclusões\n",
    "\n",
    "Escreva suas conclusões aqui..."
   ]
  },
  {
   "cell_type": "markdown",
   "metadata": {
    "id": "Jk7hNSEKC6Bf"
   },
   "source": [
    "#### **Construa 2 histogramas com curva de densidade com os valores das colunas `Altura` e `Idade` de todas as pessoas responsáveis e compare as curvas obtidas com as suas  MTCs**"
   ]
  },
  {
   "cell_type": "markdown",
   "metadata": {
    "id": "zE321QEALLSH"
   },
   "source": [
    "##### **Altura**"
   ]
  },
  {
   "cell_type": "code",
   "execution_count": 39,
   "metadata": {
    "colab": {
     "base_uri": "https://localhost:8080/",
     "height": 497
    },
    "executionInfo": {
     "elapsed": 58,
     "status": "ok",
     "timestamp": 1734369458210,
     "user": {
      "displayName": "Afonso Augusto Rios",
      "userId": "05972796828124452071"
     },
     "user_tz": 180
    },
    "id": "aK3JDiOS-ror",
    "outputId": "1e3aca13-b4d5-469c-edb5-f4ac5df9c42e",
    "vscode": {
     "languageId": "r"
    }
   },
   "outputs": [
    {
     "data": {
      "image/png": "[encoded data removed]",
      "text/plain": [
       "plot without title"
      ]
     },
     "metadata": {
      "image/png": {
       "height": 480,
       "width": 720
      }
     },
     "output_type": "display_data"
    }
   ],
   "source": [
    "ggplot(dados, aes(x = Altura, y = after_stat(density))) +\n",
    "  geom_histogram(bins = 15, alpha = 0.6) +\n",
    "  geom_density(color = \"blue\", linewidth = 1) +\n",
    "  labs(title = \"Distribuição das alturas das pessoas responsáveis pelo domicílio\", x = \"Altura (metros)\", y = \"Densidade\") +\n",
    "  tema"
   ]
  },
  {
   "cell_type": "code",
   "execution_count": 40,
   "metadata": {
    "colab": {
     "base_uri": "https://localhost:8080/",
     "height": 129
    },
    "executionInfo": {
     "elapsed": 58,
     "status": "ok",
     "timestamp": 1734369458210,
     "user": {
      "displayName": "Afonso Augusto Rios",
      "userId": "05972796828124452071"
     },
     "user_tz": 180
    },
    "id": "Mk5_f1mfLuQT",
    "outputId": "caaac4b1-b01c-4843-80a9-111a67bfb46d",
    "vscode": {
     "languageId": "r"
    }
   },
   "outputs": [
    {
     "data": {
      "text/html": [
       "<table class=\"dataframe\">\n",
       "<caption>A data.frame: 1 × 3</caption>\n",
       "<thead>\n",
       "\t<tr><th scope=col>media</th><th scope=col>mediana</th><th scope=col>moda</th></tr>\n",
       "\t<tr><th scope=col>&lt;dbl&gt;</th><th scope=col>&lt;dbl&gt;</th><th scope=col>&lt;dbl&gt;</th></tr>\n",
       "</thead>\n",
       "<tbody>\n",
       "\t<tr><td>1.7</td><td>1.7</td><td>1.7</td></tr>\n",
       "</tbody>\n",
       "</table>\n"
      ],
      "text/latex": [
       "A data.frame: 1 × 3\n",
       "\\begin{tabular}{lll}\n",
       " media & mediana & moda\\\\\n",
       " <dbl> & <dbl> & <dbl>\\\\\n",
       "\\hline\n",
       "\t 1.7 & 1.7 & 1.7\\\\\n",
       "\\end{tabular}\n"
      ],
      "text/markdown": [
       "\n",
       "A data.frame: 1 × 3\n",
       "\n",
       "| media &lt;dbl&gt; | mediana &lt;dbl&gt; | moda &lt;dbl&gt; |\n",
       "|---|---|---|\n",
       "| 1.7 | 1.7 | 1.7 |\n",
       "\n"
      ],
      "text/plain": [
       "  media mediana moda\n",
       "1 1.7   1.7     1.7 "
      ]
     },
     "metadata": {},
     "output_type": "display_data"
    }
   ],
   "source": [
    "altura_resumo <- dados %>%\n",
    "  summarise(\n",
    "  media = round(mean(Altura), 2),\n",
    "  mediana = median(Altura),\n",
    "  moda = as.numeric(names(sort(table(dados$Altura), decreasing=T)[1]))  )\n",
    "\n",
    "altura_resumo"
   ]
  },
  {
   "cell_type": "markdown",
   "metadata": {
    "id": "B5ZUa7OF-ror"
   },
   "source": [
    "> #### Conclusões\n",
    "\n",
    "Escreva suas conclusões aqui..."
   ]
  },
  {
   "cell_type": "markdown",
   "metadata": {
    "id": "whm6etapM6Ni"
   },
   "source": [
    "##### **Idade**"
   ]
  },
  {
   "cell_type": "code",
   "execution_count": 41,
   "metadata": {
    "colab": {
     "base_uri": "https://localhost:8080/",
     "height": 497
    },
    "executionInfo": {
     "elapsed": 1276,
     "status": "ok",
     "timestamp": 1734369459429,
     "user": {
      "displayName": "Afonso Augusto Rios",
      "userId": "05972796828124452071"
     },
     "user_tz": 180
    },
    "id": "VItbasLSM6Ni",
    "outputId": "7e602926-80fe-46e8-c5b7-96901bffd29f",
    "vscode": {
     "languageId": "r"
    }
   },
   "outputs": [
    {
     "data": {
      "image/png": "[encoded data removed]",
      "text/plain": [
       "plot without title"
      ]
     },
     "metadata": {
      "image/png": {
       "height": 480,
       "width": 720
      }
     },
     "output_type": "display_data"
    }
   ],
   "source": [
    "ggplot(dados, aes(x = Idade, y = after_stat(density))) +\n",
    "  geom_histogram(bins = 15, alpha = 0.6) +\n",
    "  geom_density(color = \"blue\", linewidth = 1) +\n",
    "  labs(title = \"Distribuição das idades das pessoas responsáveis pelo domicílio\", x = \"Idade (metros)\", y = \"Densidade\") +\n",
    "  tema"
   ]
  },
  {
   "cell_type": "code",
   "execution_count": 42,
   "metadata": {
    "colab": {
     "base_uri": "https://localhost:8080/",
     "height": 129
    },
    "executionInfo": {
     "elapsed": 101,
     "status": "ok",
     "timestamp": 1734369459429,
     "user": {
      "displayName": "Afonso Augusto Rios",
      "userId": "05972796828124452071"
     },
     "user_tz": 180
    },
    "id": "h5f4Iu3KM6Ni",
    "outputId": "639c43cd-b3c6-430e-c03c-7801cf370089",
    "vscode": {
     "languageId": "r"
    }
   },
   "outputs": [
    {
     "data": {
      "text/html": [
       "<table class=\"dataframe\">\n",
       "<caption>A data.frame: 1 × 3</caption>\n",
       "<thead>\n",
       "\t<tr><th scope=col>media</th><th scope=col>mediana</th><th scope=col>moda</th></tr>\n",
       "\t<tr><th scope=col>&lt;dbl&gt;</th><th scope=col>&lt;dbl&gt;</th><th scope=col>&lt;dbl&gt;</th></tr>\n",
       "</thead>\n",
       "<tbody>\n",
       "\t<tr><td>44.07</td><td>43</td><td>40</td></tr>\n",
       "</tbody>\n",
       "</table>\n"
      ],
      "text/latex": [
       "A data.frame: 1 × 3\n",
       "\\begin{tabular}{lll}\n",
       " media & mediana & moda\\\\\n",
       " <dbl> & <dbl> & <dbl>\\\\\n",
       "\\hline\n",
       "\t 44.07 & 43 & 40\\\\\n",
       "\\end{tabular}\n"
      ],
      "text/markdown": [
       "\n",
       "A data.frame: 1 × 3\n",
       "\n",
       "| media &lt;dbl&gt; | mediana &lt;dbl&gt; | moda &lt;dbl&gt; |\n",
       "|---|---|---|\n",
       "| 44.07 | 43 | 40 |\n",
       "\n"
      ],
      "text/plain": [
       "  media mediana moda\n",
       "1 44.07 43      40  "
      ]
     },
     "metadata": {},
     "output_type": "display_data"
    }
   ],
   "source": [
    "idade_resumo <- dados %>%\n",
    "  summarise(\n",
    "  media = round(mean(Idade), 2),\n",
    "  mediana = median(Idade),\n",
    "  moda = as.numeric(names(sort(table(dados$Idade), decreasing=T)[1]))  )\n",
    "\n",
    "idade_resumo"
   ]
  },
  {
   "cell_type": "markdown",
   "metadata": {
    "id": "8E3XCvRYM9Qz"
   },
   "source": [
    "> #### Conclusões\n",
    "\n",
    "Escreva suas conclusões aqui..."
   ]
  },
  {
   "cell_type": "markdown",
   "metadata": {
    "id": "i_X1NcH9_T-u"
   },
   "source": [
    "## **Aula 04 - Investigando os dados dos colaboradores**"
   ]
  },
  {
   "cell_type": "markdown",
   "metadata": {
    "id": "hd7f_bUIi8ty"
   },
   "source": [
    "### **Mão na Massa - Analisando as rendas e suas divisões**"
   ]
  },
  {
   "cell_type": "markdown",
   "metadata": {
    "id": "_PehOjjeVL1Y"
   },
   "source": [
    "Nesta etapa do treinamento, vamos analisar os dados das pessoas responsáveis pelo domicílio de acordo com os dados da PNAD de 2015, por meio das medidas separatrizes. Responda às perguntas abaixo e reflita sobre os achados.\n"
   ]
  },
  {
   "cell_type": "markdown",
   "metadata": {
    "id": "NENRGQVdY3fq"
   },
   "source": [
    "#### **Calcule o número de classes para `Renda` até R$15.000 utilizando a regra de Sturges**"
   ]
  },
  {
   "cell_type": "markdown",
   "metadata": {
    "id": "cBeURnT-1mvR"
   },
   "source": [
    "$$k = 1 + \\frac {10}{3}\\log_{10}n$$\n",
    "\n",
    "onde,\n",
    "\n",
    "$k$ = número de classes\n",
    "\n",
    "$n$ = número de observações.\n"
   ]
  },
  {
   "cell_type": "code",
   "execution_count": 43,
   "metadata": {
    "executionInfo": {
     "elapsed": 100,
     "status": "ok",
     "timestamp": 1734369459429,
     "user": {
      "displayName": "Afonso Augusto Rios",
      "userId": "05972796828124452071"
     },
     "user_tz": 180
    },
    "id": "dkSY8xOY8loo",
    "vscode": {
     "languageId": "r"
    }
   },
   "outputs": [],
   "source": [
    "renda_15k <- ..."
   ]
  },
  {
   "cell_type": "code",
   "execution_count": null,
   "metadata": {
    "colab": {
     "base_uri": "https://localhost:8080/",
     "height": 34
    },
    "executionInfo": {
     "elapsed": 100,
     "status": "ok",
     "timestamp": 1734369459429,
     "user": {
      "displayName": "Afonso Augusto Rios",
      "userId": "05972796828124452071"
     },
     "user_tz": 180
    },
    "id": "J1Yp0ITkY3fs",
    "outputId": "e244ab85-e2c3-4459-b87b-518b06318ab0",
    "vscode": {
     "languageId": "r"
    }
   },
   "outputs": [],
   "source": [
    "n <- ...\n",
    "n"
   ]
  },
  {
   "cell_type": "code",
   "execution_count": null,
   "metadata": {
    "colab": {
     "base_uri": "https://localhost:8080/",
     "height": 34
    },
    "executionInfo": {
     "elapsed": 98,
     "status": "ok",
     "timestamp": 1734369459429,
     "user": {
      "displayName": "Afonso Augusto Rios",
      "userId": "05972796828124452071"
     },
     "user_tz": 180
    },
    "id": "dE4N2O06Y3ft",
    "outputId": "dd2e67e4-0c34-4614-f8ba-3f1b47a14d63",
    "vscode": {
     "languageId": "r"
    }
   },
   "outputs": [],
   "source": [
    "k <- ...\n",
    "k"
   ]
  },
  {
   "cell_type": "code",
   "execution_count": null,
   "metadata": {
    "colab": {
     "base_uri": "https://localhost:8080/",
     "height": 34
    },
    "executionInfo": {
     "elapsed": 97,
     "status": "ok",
     "timestamp": 1734369459429,
     "user": {
      "displayName": "Afonso Augusto Rios",
      "userId": "05972796828124452071"
     },
     "user_tz": 180
    },
    "id": "az5Vu3VSY3fu",
    "outputId": "4c85db9e-47b9-4591-daa5-7822391b366d",
    "vscode": {
     "languageId": "r"
    }
   },
   "outputs": [],
   "source": [
    "k <- round(k)\n",
    "k"
   ]
  },
  {
   "cell_type": "markdown",
   "metadata": {
    "id": "jOLZSNmHY3fv"
   },
   "source": [
    "#### **Crie o histograma da `Renda` das pessoas responsáveis até R$15.000 seguindo o número de classes calculado anteriormente**"
   ]
  },
  {
   "cell_type": "markdown",
   "metadata": {
    "id": "ycnq6L-I24cO"
   },
   "source": [
    "> **Observação:** Ao rodar o código para dividir os dados em faixas é possível que você observe o limite inferior da 1ª faixa com um valor negativo. Isto porque a *Regra de Sturges* define o intervalo mínimo da 1ª classe pela seguinte fórmula: $min(Renda) - (max(Renda) - min(Renda)) * 0.001$.\n",
    "\n"
   ]
  },
  {
   "cell_type": "code",
   "execution_count": null,
   "metadata": {
    "colab": {
     "base_uri": "https://localhost:8080/",
     "height": 286
    },
    "executionInfo": {
     "elapsed": 95,
     "status": "ok",
     "timestamp": 1734369459429,
     "user": {
      "displayName": "Afonso Augusto Rios",
      "userId": "05972796828124452071"
     },
     "user_tz": 180
    },
    "id": "fzD7HWaQY3fw",
    "outputId": "b2750174-645e-43ea-b8d4-dc226831ef12",
    "vscode": {
     "languageId": "r"
    }
   },
   "outputs": [],
   "source": [
    "faixas <- ...\n",
    "\n",
    "head(faixas)"
   ]
  },
  {
   "cell_type": "code",
   "execution_count": null,
   "metadata": {
    "colab": {
     "base_uri": "https://localhost:8080/",
     "height": 631
    },
    "executionInfo": {
     "elapsed": 94,
     "status": "ok",
     "timestamp": 1734369459429,
     "user": {
      "displayName": "Afonso Augusto Rios",
      "userId": "05972796828124452071"
     },
     "user_tz": 180
    },
    "id": "hXaXQ0wTY3fx",
    "outputId": "1c232c17-4bd0-4b4f-8309-200a44628109",
    "vscode": {
     "languageId": "r"
    }
   },
   "outputs": [],
   "source": [
    "tabela_frequencias <- ...\n",
    "\n",
    "tabela_frequencias"
   ]
  },
  {
   "cell_type": "code",
   "execution_count": null,
   "metadata": {
    "colab": {
     "base_uri": "https://localhost:8080/",
     "height": 497
    },
    "executionInfo": {
     "elapsed": 93,
     "status": "ok",
     "timestamp": 1734369459429,
     "user": {
      "displayName": "Afonso Augusto Rios",
      "userId": "05972796828124452071"
     },
     "user_tz": 180
    },
    "id": "u1Y1K66HY3fy",
    "outputId": "5ad68cfc-143b-4004-e04b-fd92f7916aac",
    "vscode": {
     "languageId": "r"
    }
   },
   "outputs": [],
   "source": [
    "ggplot(... , aes(x = ... )) +\n",
    "  ... +\n",
    "  labs(title = \"Histograma das rendas das pessoas responsáveis pelo domicílio\", x = \"Renda (R$)\", y = \"Frequência\") +\n",
    "  tema"
   ]
  },
  {
   "cell_type": "markdown",
   "metadata": {
    "id": "MRRzLUVVY3fz"
   },
   "source": [
    "> #### Conclusões\n",
    "\n",
    "Escreva suas conclusões aqui..."
   ]
  },
  {
   "cell_type": "markdown",
   "metadata": {
    "id": "CY3P_t7CiUmK"
   },
   "source": [
    "#### **Responda as seguintes questões sobre o nosso dataset completo utilizando os conceitos que estudamos até aqui:**"
   ]
  },
  {
   "cell_type": "markdown",
   "metadata": {
    "id": "1eRC8Ko0B-8u"
   },
   "source": [
    "##### **1. Qual o percentual de pessoas responsáveis que ganhava até um salário mínimo em 2015 (R$ 788,00)?**\n",
    "\n"
   ]
  },
  {
   "cell_type": "code",
   "execution_count": null,
   "metadata": {
    "colab": {
     "base_uri": "https://localhost:8080/",
     "height": 147
    },
    "executionInfo": {
     "elapsed": 92,
     "status": "ok",
     "timestamp": 1734369459429,
     "user": {
      "displayName": "Afonso Augusto Rios",
      "userId": "05972796828124452071"
     },
     "user_tz": 180
    },
    "id": "JJ7a381SY3f0",
    "outputId": "8936588b-c1fc-4052-8490-94e81210870e",
    "vscode": {
     "languageId": "r"
    }
   },
   "outputs": [],
   "source": []
  },
  {
   "cell_type": "markdown",
   "metadata": {
    "id": "DG8AZfpRY3f3"
   },
   "source": [
    "##### **2. Qual a renda máxima de 95% das pessoas responsáveis na pesquisa?**\n"
   ]
  },
  {
   "cell_type": "code",
   "execution_count": null,
   "metadata": {
    "colab": {
     "base_uri": "https://localhost:8080/",
     "height": 34
    },
    "executionInfo": {
     "elapsed": 92,
     "status": "ok",
     "timestamp": 1734369459430,
     "user": {
      "displayName": "Afonso Augusto Rios",
      "userId": "05972796828124452071"
     },
     "user_tz": 180
    },
    "id": "YbY6aZ_XEmwq",
    "outputId": "5beba75b-7d68-412a-9f7a-c37c7196587b",
    "vscode": {
     "languageId": "r"
    }
   },
   "outputs": [],
   "source": []
  },
  {
   "cell_type": "markdown",
   "metadata": {
    "id": "uPqMZkacY3f5"
   },
   "source": [
    "##### **3.   Qual a renda mínima dos 1% mais bem pagos da pesquisa?**"
   ]
  },
  {
   "cell_type": "code",
   "execution_count": null,
   "metadata": {
    "colab": {
     "base_uri": "https://localhost:8080/",
     "height": 34
    },
    "executionInfo": {
     "elapsed": 91,
     "status": "ok",
     "timestamp": 1734369459430,
     "user": {
      "displayName": "Afonso Augusto Rios",
      "userId": "05972796828124452071"
     },
     "user_tz": 180
    },
    "id": "xGxwcBqoY3f5",
    "outputId": "5fc9f695-22a8-47d4-d7c9-8b11f03a5446",
    "vscode": {
     "languageId": "r"
    }
   },
   "outputs": [],
   "source": []
  },
  {
   "cell_type": "markdown",
   "metadata": {
    "id": "J8R5TK2_Y3f1"
   },
   "source": [
    "##### **4. Qual a renda máxima de 25%, 50% e 75% das pessoas responsáveis que receberam até R$ 6.000 de rendimento mensal? Construa o boxplot e traga o resumo desses dados.**\n"
   ]
  },
  {
   "cell_type": "code",
   "execution_count": 53,
   "metadata": {
    "executionInfo": {
     "elapsed": 91,
     "status": "ok",
     "timestamp": 1734369459430,
     "user": {
      "displayName": "Afonso Augusto Rios",
      "userId": "05972796828124452071"
     },
     "user_tz": 180
    },
    "id": "StPxImV5HHAi",
    "vscode": {
     "languageId": "r"
    }
   },
   "outputs": [],
   "source": [
    "renda_6k <- ..."
   ]
  },
  {
   "cell_type": "code",
   "execution_count": null,
   "metadata": {
    "colab": {
     "base_uri": "https://localhost:8080/",
     "height": 497
    },
    "executionInfo": {
     "elapsed": 1340,
     "status": "ok",
     "timestamp": 1734369460680,
     "user": {
      "displayName": "Afonso Augusto Rios",
      "userId": "05972796828124452071"
     },
     "user_tz": 180
    },
    "id": "GcaRkiHMEA6u",
    "outputId": "9ebd36b5-7479-4aad-fd72-4b022c93cee6",
    "vscode": {
     "languageId": "r"
    }
   },
   "outputs": [],
   "source": [
    "ggplot(... , aes(x= ... )) +\n",
    "  ... +\n",
    "  ... +\n",
    "  ggtitle(\"Boxplot de Renda das pessoas responsáveis pelo domicílio\") +\n",
    "  xlab(\"Renda (R$)\") +\n",
    "  scale_y_continuous(lim = c(-0.75, 0.75)) +\n",
    "  tema"
   ]
  },
  {
   "cell_type": "code",
   "execution_count": null,
   "metadata": {
    "colab": {
     "base_uri": "https://localhost:8080/",
     "height": 129
    },
    "executionInfo": {
     "elapsed": 24,
     "status": "ok",
     "timestamp": 1734369460680,
     "user": {
      "displayName": "Afonso Augusto Rios",
      "userId": "05972796828124452071"
     },
     "user_tz": 180
    },
    "id": "jjMMjDWWY3f2",
    "outputId": "d55dd845-d018-485e-e88e-2362fe456e24",
    "vscode": {
     "languageId": "r"
    }
   },
   "outputs": [],
   "source": []
  },
  {
   "cell_type": "markdown",
   "metadata": {
    "id": "OEVJhNXlY3f6"
   },
   "source": [
    "> #### Conclusões\n",
    "\n",
    "Escreva suas conclusões aqui..."
   ]
  },
  {
   "cell_type": "markdown",
   "metadata": {
    "id": "ZGVF4ZrrY3f7"
   },
   "source": [
    "#### **Construa o boxplot da `Renda` até o percentil 95% (`renda_6k`) das pessoas responsáveis por `Cat.Sexo` e `Cat.Cor`. Interprete o resultado.**"
   ]
  },
  {
   "cell_type": "markdown",
   "metadata": {
    "id": "hmcRkp8GHsT3"
   },
   "source": [
    "**Dica:** Para incluir uma 3ª variável na construção de um boxplot, utilize o parâmetro `fill` da seguinte maneira: `aes(x = Renda, y = Cat.Cor, fill = Cat.Sexo)`."
   ]
  },
  {
   "cell_type": "code",
   "execution_count": null,
   "metadata": {
    "colab": {
     "base_uri": "https://localhost:8080/",
     "height": 497
    },
    "executionInfo": {
     "elapsed": 1255,
     "status": "ok",
     "timestamp": 1734369461912,
     "user": {
      "displayName": "Afonso Augusto Rios",
      "userId": "05972796828124452071"
     },
     "user_tz": 180
    },
    "id": "wG9JfyGhHaZY",
    "outputId": "0016a92c-734e-4050-f7aa-e2938f6102e8",
    "vscode": {
     "languageId": "r"
    }
   },
   "outputs": [],
   "source": [
    "ggplot(... , aes(x = ... , y = ... , fill = ... )) +\n",
    "    ... +\n",
    "    ggtitle('Boxplot da Renda das pessoas responsáveis por sexo biológico e cor/raça') +\n",
    "    xlab(\"Renda (R$)\") +\n",
    "    ylab(\"Cor ou Raça\") +\n",
    "    tema"
   ]
  },
  {
   "cell_type": "markdown",
   "metadata": {
    "id": "u5QwAmCdlsW_"
   },
   "source": [
    "#### **Qual a idade limite para 20% da população? Construa o histograma acumulado com curva de densidade, definindo a idade limite e quantas pessoas se encaixam nessa porcentagem.**"
   ]
  },
  {
   "cell_type": "markdown",
   "metadata": {
    "id": "xtzRs-kPJnoX"
   },
   "source": [
    "**Dica:** Para ler os últimos valores de um DataFrame utilize a função `tail()`.\n",
    "\n",
    "Exemplo: `tail(df, 3)` lê os ultimos 3 registros do DataFrame `df`."
   ]
  },
  {
   "cell_type": "code",
   "execution_count": null,
   "metadata": {
    "colab": {
     "base_uri": "https://localhost:8080/",
     "height": 514
    },
    "executionInfo": {
     "elapsed": 58,
     "status": "ok",
     "timestamp": 1734369461912,
     "user": {
      "displayName": "Afonso Augusto Rios",
      "userId": "05972796828124452071"
     },
     "user_tz": 180
    },
    "id": "D0NvkYM5Y3f8",
    "outputId": "9b17cd72-f1b8-48a9-ae1e-5de3ec760fef",
    "vscode": {
     "languageId": "r"
    }
   },
   "outputs": [],
   "source": [
    "ggplot(..., aes(x = ...)) +\n",
    "  geom_histogram(aes(y = ... ), bins=10, alpha = 0.6) +\n",
    "  geom_freqpoly(aes(y = ... ), color = \"red\" ) +\n",
    "  geom_hline(yintercept = ... , linetype = \"dashed\", color = \"blue\") +\n",
    "  labs(title = \"Distribuição percentual acumulada das idades\", x = \"Idade\", y = \"Percentual Acumulado\") +\n",
    "  tema"
   ]
  },
  {
   "cell_type": "code",
   "execution_count": null,
   "metadata": {
    "colab": {
     "base_uri": "https://localhost:8080/",
     "height": 192
    },
    "executionInfo": {
     "elapsed": 56,
     "status": "ok",
     "timestamp": 1734369461912,
     "user": {
      "displayName": "Afonso Augusto Rios",
      "userId": "05972796828124452071"
     },
     "user_tz": 180
    },
    "id": "CoUf4DX2Y3f9",
    "outputId": "ed905792-6a9f-4b93-bd89-baa1ab5192dc",
    "vscode": {
     "languageId": "r"
    }
   },
   "outputs": [],
   "source": [
    "idades_classificacao <- ...\n",
    "\n",
    "tail(idades_classificacao, 3)"
   ]
  },
  {
   "cell_type": "code",
   "execution_count": null,
   "metadata": {
    "colab": {
     "base_uri": "https://localhost:8080/",
     "height": 34
    },
    "executionInfo": {
     "elapsed": 55,
     "status": "ok",
     "timestamp": 1734369461912,
     "user": {
      "displayName": "Afonso Augusto Rios",
      "userId": "05972796828124452071"
     },
     "user_tz": 180
    },
    "id": "nH9_wcj-J48-",
    "outputId": "776f403d-a11e-49a3-c75a-75ea4e59389e",
    "vscode": {
     "languageId": "r"
    }
   },
   "outputs": [],
   "source": []
  },
  {
   "cell_type": "markdown",
   "metadata": {
    "id": "4D6YPAnvY3f-"
   },
   "source": [
    "> #### Conclusões\n",
    "\n",
    "Escreva suas conclusões aqui..."
   ]
  },
  {
   "cell_type": "markdown",
   "metadata": {
    "id": "8oiQ6DsahpRv"
   },
   "source": [
    "## **Aula 05 - Analisando a variação dos dados**"
   ]
  },
  {
   "cell_type": "markdown",
   "metadata": {
    "id": "41X1NLZpi9Z_"
   },
   "source": [
    "### **Mão na Massa - Analisando a variação da Renda das pessoas responsáveis**"
   ]
  },
  {
   "cell_type": "markdown",
   "metadata": {
    "id": "iBC8rHu8MJw5"
   },
   "source": [
    "Nesta última etapa do treinamento, vamos analisar os dados de renda das pessoas responsáveis pelo domicílio de acordo com os dados da PNAD de 2015, calculando a variação desta para determinadas características da amostra. Responda às perguntas abaixo e reflita sobre os achados.\n"
   ]
  },
  {
   "cell_type": "markdown",
   "metadata": {
    "id": "_M9dh9-Bnnak"
   },
   "source": [
    "#### **Responda as seguintes questões sobre o nosso dataset utilizando os conceitos que estudamos até aqui:**"
   ]
  },
  {
   "cell_type": "markdown",
   "metadata": {
    "id": "s3M82GT_nnal"
   },
   "source": [
    "##### **1.   Qual o desvio médio absoluto, a variância e desvio padrão da renda das pessoas responsáveis na pesquisa?**\n",
    "\n",
    "\n",
    "\n"
   ]
  },
  {
   "cell_type": "code",
   "execution_count": null,
   "metadata": {
    "colab": {
     "base_uri": "https://localhost:8080/",
     "height": 129
    },
    "executionInfo": {
     "elapsed": 589,
     "status": "ok",
     "timestamp": 1734369476939,
     "user": {
      "displayName": "Afonso Augusto Rios",
      "userId": "05972796828124452071"
     },
     "user_tz": 180
    },
    "id": "KEiFW1yZdhdF",
    "outputId": "bb4fa4c4-b54a-4a4f-d20c-d2c8ca58cc7f",
    "vscode": {
     "languageId": "r"
    }
   },
   "outputs": [],
   "source": [
    "estat_renda <-  ...\n",
    "\n",
    "estat_renda"
   ]
  },
  {
   "cell_type": "markdown",
   "metadata": {
    "id": "6F0H8I-MdhB9"
   },
   "source": [
    "##### **2. Construa uma tabela com a média, mediana e desvio padrão para a renda das pessoas em relação aos Anos de Estudo. O que podemos interpretar com esses dados?**"
   ]
  },
  {
   "cell_type": "code",
   "execution_count": null,
   "metadata": {
    "colab": {
     "base_uri": "https://localhost:8080/",
     "height": 631
    },
    "executionInfo": {
     "elapsed": 616,
     "status": "ok",
     "timestamp": 1734370678694,
     "user": {
      "displayName": "Afonso Augusto Rios",
      "userId": "05972796828124452071"
     },
     "user_tz": 180
    },
    "id": "K_SkSxHedXxl",
    "outputId": "59f0e773-a7be-465d-ada9-8f4eac2a4f72",
    "vscode": {
     "languageId": "r"
    }
   },
   "outputs": [],
   "source": [
    "estat_renda_anos_estudo <- ...\n",
    "\n",
    "estat_renda_anos_estudo"
   ]
  },
  {
   "cell_type": "markdown",
   "metadata": {
    "id": "BUI1Zps3eseQ"
   },
   "source": [
    "> #### Conclusões\n",
    "\n",
    "Escreva suas conclusões aqui..."
   ]
  },
  {
   "cell_type": "markdown",
   "metadata": {
    "id": "upuAC7ZuddUd"
   },
   "source": [
    "##### **3.   Construa uma tabela com a média, mediana e desvio padrão para a renda das pessoas do sexo biológico masculino e feminino até R$ 15.000. O que podemos interpretar com esses dados?**"
   ]
  },
  {
   "cell_type": "code",
   "execution_count": null,
   "metadata": {
    "colab": {
     "base_uri": "https://localhost:8080/",
     "height": 161
    },
    "executionInfo": {
     "elapsed": 607,
     "status": "ok",
     "timestamp": 1734370743758,
     "user": {
      "displayName": "Afonso Augusto Rios",
      "userId": "05972796828124452071"
     },
     "user_tz": 180
    },
    "id": "9iev_feudnuV",
    "outputId": "017af637-847e-416e-9c64-697655ced2a9",
    "vscode": {
     "languageId": "r"
    }
   },
   "outputs": [],
   "source": [
    "estat_renda_sexo <- ...\n",
    "            \n",
    "estat_renda_sexo"
   ]
  },
  {
   "cell_type": "markdown",
   "metadata": {
    "id": "4EcHVWU3etkV"
   },
   "source": [
    "> #### Conclusões\n",
    "\n",
    "Escreva suas conclusões aqui..."
   ]
  },
  {
   "cell_type": "markdown",
   "metadata": {
    "id": "Z-zoKBPRnnal"
   },
   "source": [
    "#### **Construa um boxplot da `Renda` dos estados da Região Centro-Oeste até R$ 10.000 segundo o `Cat.Sexo`. Para interpretar o resultado construa 3 tabelas com cada uma das estatísticas descritivas (média, mediana e desvio padrão).**"
   ]
  },
  {
   "cell_type": "code",
   "execution_count": 119,
   "metadata": {
    "executionInfo": {
     "elapsed": 340,
     "status": "ok",
     "timestamp": 1734371691116,
     "user": {
      "displayName": "Afonso Augusto Rios",
      "userId": "05972796828124452071"
     },
     "user_tz": 180
    },
    "id": "Mhyh0YXegPMi",
    "vscode": {
     "languageId": "r"
    }
   },
   "outputs": [],
   "source": [
    "renda_10k_centro_oeste <- ..."
   ]
  },
  {
   "cell_type": "code",
   "execution_count": null,
   "metadata": {
    "colab": {
     "base_uri": "https://localhost:8080/",
     "height": 497
    },
    "executionInfo": {
     "elapsed": 1399,
     "status": "ok",
     "timestamp": 1734371738489,
     "user": {
      "displayName": "Afonso Augusto Rios",
      "userId": "05972796828124452071"
     },
     "user_tz": 180
    },
    "id": "lgIRcG2mo1xT",
    "outputId": "c789a439-7954-4fb0-fd62-4e575976b222",
    "vscode": {
     "languageId": "r"
    }
   },
   "outputs": [],
   "source": [
    "ggplot(..., aes(x = ... , y= ... , fill = ... )) +\n",
    "  ... +\n",
    "  ggtitle(\"Distribuição de Renda no Centro-Oeste por unidade federativa e sexo\") +\n",
    "  xlab(\"Renda (R$)\") +\n",
    "  ylab(\"UF\") +\n",
    "  tema"
   ]
  },
  {
   "cell_type": "markdown",
   "metadata": {
    "id": "RSyeOjU3oA6t"
   },
   "source": [
    "##### **Média**"
   ]
  },
  {
   "cell_type": "code",
   "execution_count": null,
   "metadata": {
    "colab": {
     "base_uri": "https://localhost:8080/",
     "height": 129
    },
    "executionInfo": {
     "elapsed": 405,
     "status": "ok",
     "timestamp": 1734371958281,
     "user": {
      "displayName": "Afonso Augusto Rios",
      "userId": "05972796828124452071"
     },
     "user_tz": 180
    },
    "id": "owWqhoRrl0O2",
    "outputId": "a8ec3f0d-0c2b-4add-f561-81b38ce9a5dd",
    "vscode": {
     "languageId": "r"
    }
   },
   "outputs": [],
   "source": [
    "renda_10k_centro_oeste_media <- ...\n",
    "\n",
    "renda_10k_centro_oeste_media_matrix <- as.matrix( ... )\n",
    "rownames(renda_10k_centro_oeste_media_matrix) <- renda_10k_centro_oeste_media$Cat.Sexo\n",
    "\n",
    "renda_10k_centro_oeste_media_matrix"
   ]
  },
  {
   "cell_type": "markdown",
   "metadata": {
    "id": "-IAhXYjDoDjU"
   },
   "source": [
    "##### **Mediana**"
   ]
  },
  {
   "cell_type": "code",
   "execution_count": null,
   "metadata": {
    "colab": {
     "base_uri": "https://localhost:8080/",
     "height": 129
    },
    "executionInfo": {
     "elapsed": 371,
     "status": "ok",
     "timestamp": 1734372047470,
     "user": {
      "displayName": "Afonso Augusto Rios",
      "userId": "05972796828124452071"
     },
     "user_tz": 180
    },
    "id": "c-tNek-5oLC7",
    "outputId": "a733240e-0f3b-47ec-d439-6b8b8ee32c45",
    "vscode": {
     "languageId": "r"
    }
   },
   "outputs": [],
   "source": [
    "renda_10k_centro_oeste_mediana <- ...\n",
    "\n",
    "renda_10k_centro_oeste_mediana_matrix <- as.matrix( ... )\n",
    "rownames(renda_10k_centro_oeste_mediana_matrix) <- renda_10k_centro_oeste_mediana$Cat.Sexo\n",
    "\n",
    "renda_10k_centro_oeste_mediana_matrix"
   ]
  },
  {
   "cell_type": "markdown",
   "metadata": {
    "id": "TaiN5Uk9oG1D"
   },
   "source": [
    "##### **Desvio Padrão**"
   ]
  },
  {
   "cell_type": "code",
   "execution_count": null,
   "metadata": {
    "colab": {
     "base_uri": "https://localhost:8080/",
     "height": 129
    },
    "executionInfo": {
     "elapsed": 386,
     "status": "ok",
     "timestamp": 1734372099324,
     "user": {
      "displayName": "Afonso Augusto Rios",
      "userId": "05972796828124452071"
     },
     "user_tz": 180
    },
    "id": "YyK1bqeaoLXT",
    "outputId": "92d889b8-3039-4cbb-91c8-8ec0e8cbde89",
    "vscode": {
     "languageId": "r"
    }
   },
   "outputs": [],
   "source": [
    "renda_10k_centro_oeste_sd <- ...\n",
    "\n",
    "renda_10k_centro_oeste_sd_matrix <- as.matrix( ... )\n",
    "rownames(renda_10k_centro_oeste_sd_matrix) <- renda_10k_centro_oeste_sd$Cat.Sexo\n",
    "\n",
    "renda_10k_centro_oeste_sd_matrix"
   ]
  },
  {
   "cell_type": "markdown",
   "metadata": {
    "id": "Yvhlg_qWewNB"
   },
   "source": [
    "> #### Conclusões\n",
    "\n",
    "Escreva suas conclusões aqui..."
   ]
  }
 ],
 "metadata": {
  "colab": {
   "provenance": [
    {
     "file_id": "1YpIQ7vztfppQThMZxFkr_4d1io6XGTnO",
     "timestamp": 1734203075049
    }
   ]
  },
  "kernelspec": {
   "display_name": "R",
   "name": "ir"
  },
  "language_info": {
   "name": "R"
  },
  "orig_nbformat": 4
 },
 "nbformat": 4,
 "nbformat_minor": 0
}
